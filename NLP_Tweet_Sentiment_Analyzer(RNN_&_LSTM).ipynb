{
  "nbformat": 4,
  "nbformat_minor": 0,
  "metadata": {
    "colab": {
      "provenance": [],
      "collapsed_sections": []
    },
    "kernelspec": {
      "display_name": "Python 3",
      "language": "python",
      "name": "python3"
    },
    "language_info": {
      "codemirror_mode": {
        "name": "ipython",
        "version": 3
      },
      "file_extension": ".py",
      "mimetype": "text/x-python",
      "name": "python",
      "nbconvert_exporter": "python",
      "pygments_lexer": "ipython3",
      "version": "3.8.3"
    },
    "accelerator": "GPU"
  },
  "cells": [
    {
      "cell_type": "markdown",
      "source": [
        "#**Tweet Sentiment Analysis using RNN and LSTM**"
      ],
      "metadata": {
        "id": "C3gkt4KTJlUK"
      }
    },
    {
      "cell_type": "code",
      "metadata": {
        "id": "8GvOE8TRXYE6"
      },
      "source": [
        "import pandas as pd\n",
        "import numpy as np\n",
        "import re\n",
        "import nltk\n",
        "import spacy\n",
        "import string\n",
        "from keras.layers import Dropout\n",
        "from nltk.tokenize import TweetTokenizer"
      ],
      "execution_count": 121,
      "outputs": []
    },
    {
      "cell_type": "code",
      "metadata": {
        "colab": {
          "base_uri": "https://localhost:8080/",
          "height": 424
        },
        "id": "QnW-tJ0eaOIn",
        "outputId": "32c82179-ab31-40a6-bb57-f5e3b4544d8e"
      },
      "source": [
        "df = pd.read_csv('/content/TweetSentiment_60.csv', on_bad_lines='skip')\n",
        "df"
      ],
      "execution_count": 122,
      "outputs": [
        {
          "output_type": "execute_result",
          "data": {
            "text/plain": [
              "        target                                              tweet\n",
              "0            0  @switchfoot http://twitpic.com/2y1zl - Awww, t...\n",
              "1            0  is upset that he can't update his Facebook by ...\n",
              "2            0  @Kenichan I dived many times for the ball. Man...\n",
              "3            0    my whole body feels itchy and like its on fire \n",
              "4            0  @nationwideclass no, it's not behaving at all....\n",
              "...        ...                                                ...\n",
              "127796       4             @jessikasay congrats on the followers \n",
              "127797       4  @dannywood As in &quot;back dat ass on up in h...\n",
              "127798       4  School In about 12 minutes then I get picked u...\n",
              "127799       4                        @itsMeeeech -- sounds fun! \n",
              "127800       4  Good morning everyone  Welcome to my new follo...\n",
              "\n",
              "[127801 rows x 2 columns]"
            ],
            "text/html": [
              "\n",
              "  <div id=\"df-92d84a15-3815-4f6e-8e86-64cc5279b8ba\">\n",
              "    <div class=\"colab-df-container\">\n",
              "      <div>\n",
              "<style scoped>\n",
              "    .dataframe tbody tr th:only-of-type {\n",
              "        vertical-align: middle;\n",
              "    }\n",
              "\n",
              "    .dataframe tbody tr th {\n",
              "        vertical-align: top;\n",
              "    }\n",
              "\n",
              "    .dataframe thead th {\n",
              "        text-align: right;\n",
              "    }\n",
              "</style>\n",
              "<table border=\"1\" class=\"dataframe\">\n",
              "  <thead>\n",
              "    <tr style=\"text-align: right;\">\n",
              "      <th></th>\n",
              "      <th>target</th>\n",
              "      <th>tweet</th>\n",
              "    </tr>\n",
              "  </thead>\n",
              "  <tbody>\n",
              "    <tr>\n",
              "      <th>0</th>\n",
              "      <td>0</td>\n",
              "      <td>@switchfoot http://twitpic.com/2y1zl - Awww, t...</td>\n",
              "    </tr>\n",
              "    <tr>\n",
              "      <th>1</th>\n",
              "      <td>0</td>\n",
              "      <td>is upset that he can't update his Facebook by ...</td>\n",
              "    </tr>\n",
              "    <tr>\n",
              "      <th>2</th>\n",
              "      <td>0</td>\n",
              "      <td>@Kenichan I dived many times for the ball. Man...</td>\n",
              "    </tr>\n",
              "    <tr>\n",
              "      <th>3</th>\n",
              "      <td>0</td>\n",
              "      <td>my whole body feels itchy and like its on fire</td>\n",
              "    </tr>\n",
              "    <tr>\n",
              "      <th>4</th>\n",
              "      <td>0</td>\n",
              "      <td>@nationwideclass no, it's not behaving at all....</td>\n",
              "    </tr>\n",
              "    <tr>\n",
              "      <th>...</th>\n",
              "      <td>...</td>\n",
              "      <td>...</td>\n",
              "    </tr>\n",
              "    <tr>\n",
              "      <th>127796</th>\n",
              "      <td>4</td>\n",
              "      <td>@jessikasay congrats on the followers</td>\n",
              "    </tr>\n",
              "    <tr>\n",
              "      <th>127797</th>\n",
              "      <td>4</td>\n",
              "      <td>@dannywood As in &amp;quot;back dat ass on up in h...</td>\n",
              "    </tr>\n",
              "    <tr>\n",
              "      <th>127798</th>\n",
              "      <td>4</td>\n",
              "      <td>School In about 12 minutes then I get picked u...</td>\n",
              "    </tr>\n",
              "    <tr>\n",
              "      <th>127799</th>\n",
              "      <td>4</td>\n",
              "      <td>@itsMeeeech -- sounds fun!</td>\n",
              "    </tr>\n",
              "    <tr>\n",
              "      <th>127800</th>\n",
              "      <td>4</td>\n",
              "      <td>Good morning everyone  Welcome to my new follo...</td>\n",
              "    </tr>\n",
              "  </tbody>\n",
              "</table>\n",
              "<p>127801 rows × 2 columns</p>\n",
              "</div>\n",
              "      <button class=\"colab-df-convert\" onclick=\"convertToInteractive('df-92d84a15-3815-4f6e-8e86-64cc5279b8ba')\"\n",
              "              title=\"Convert this dataframe to an interactive table.\"\n",
              "              style=\"display:none;\">\n",
              "        \n",
              "  <svg xmlns=\"http://www.w3.org/2000/svg\" height=\"24px\"viewBox=\"0 0 24 24\"\n",
              "       width=\"24px\">\n",
              "    <path d=\"M0 0h24v24H0V0z\" fill=\"none\"/>\n",
              "    <path d=\"M18.56 5.44l.94 2.06.94-2.06 2.06-.94-2.06-.94-.94-2.06-.94 2.06-2.06.94zm-11 1L8.5 8.5l.94-2.06 2.06-.94-2.06-.94L8.5 2.5l-.94 2.06-2.06.94zm10 10l.94 2.06.94-2.06 2.06-.94-2.06-.94-.94-2.06-.94 2.06-2.06.94z\"/><path d=\"M17.41 7.96l-1.37-1.37c-.4-.4-.92-.59-1.43-.59-.52 0-1.04.2-1.43.59L10.3 9.45l-7.72 7.72c-.78.78-.78 2.05 0 2.83L4 21.41c.39.39.9.59 1.41.59.51 0 1.02-.2 1.41-.59l7.78-7.78 2.81-2.81c.8-.78.8-2.07 0-2.86zM5.41 20L4 18.59l7.72-7.72 1.47 1.35L5.41 20z\"/>\n",
              "  </svg>\n",
              "      </button>\n",
              "      \n",
              "  <style>\n",
              "    .colab-df-container {\n",
              "      display:flex;\n",
              "      flex-wrap:wrap;\n",
              "      gap: 12px;\n",
              "    }\n",
              "\n",
              "    .colab-df-convert {\n",
              "      background-color: #E8F0FE;\n",
              "      border: none;\n",
              "      border-radius: 50%;\n",
              "      cursor: pointer;\n",
              "      display: none;\n",
              "      fill: #1967D2;\n",
              "      height: 32px;\n",
              "      padding: 0 0 0 0;\n",
              "      width: 32px;\n",
              "    }\n",
              "\n",
              "    .colab-df-convert:hover {\n",
              "      background-color: #E2EBFA;\n",
              "      box-shadow: 0px 1px 2px rgba(60, 64, 67, 0.3), 0px 1px 3px 1px rgba(60, 64, 67, 0.15);\n",
              "      fill: #174EA6;\n",
              "    }\n",
              "\n",
              "    [theme=dark] .colab-df-convert {\n",
              "      background-color: #3B4455;\n",
              "      fill: #D2E3FC;\n",
              "    }\n",
              "\n",
              "    [theme=dark] .colab-df-convert:hover {\n",
              "      background-color: #434B5C;\n",
              "      box-shadow: 0px 1px 3px 1px rgba(0, 0, 0, 0.15);\n",
              "      filter: drop-shadow(0px 1px 2px rgba(0, 0, 0, 0.3));\n",
              "      fill: #FFFFFF;\n",
              "    }\n",
              "  </style>\n",
              "\n",
              "      <script>\n",
              "        const buttonEl =\n",
              "          document.querySelector('#df-92d84a15-3815-4f6e-8e86-64cc5279b8ba button.colab-df-convert');\n",
              "        buttonEl.style.display =\n",
              "          google.colab.kernel.accessAllowed ? 'block' : 'none';\n",
              "\n",
              "        async function convertToInteractive(key) {\n",
              "          const element = document.querySelector('#df-92d84a15-3815-4f6e-8e86-64cc5279b8ba');\n",
              "          const dataTable =\n",
              "            await google.colab.kernel.invokeFunction('convertToInteractive',\n",
              "                                                     [key], {});\n",
              "          if (!dataTable) return;\n",
              "\n",
              "          const docLinkHtml = 'Like what you see? Visit the ' +\n",
              "            '<a target=\"_blank\" href=https://colab.research.google.com/notebooks/data_table.ipynb>data table notebook</a>'\n",
              "            + ' to learn more about interactive tables.';\n",
              "          element.innerHTML = '';\n",
              "          dataTable['output_type'] = 'display_data';\n",
              "          await google.colab.output.renderOutput(dataTable, element);\n",
              "          const docLink = document.createElement('div');\n",
              "          docLink.innerHTML = docLinkHtml;\n",
              "          element.appendChild(docLink);\n",
              "        }\n",
              "      </script>\n",
              "    </div>\n",
              "  </div>\n",
              "  "
            ]
          },
          "metadata": {},
          "execution_count": 122
        }
      ]
    },
    {
      "cell_type": "markdown",
      "source": [
        "#Text Pre-processing"
      ],
      "metadata": {
        "id": "YS1rHiqmZFbm"
      }
    },
    {
      "cell_type": "code",
      "metadata": {
        "id": "761IBcajG-P0"
      },
      "source": [
        "df[\"tweet\"] = df[\"tweet\"].astype(str) # making all column string"
      ],
      "execution_count": 123,
      "outputs": []
    },
    {
      "cell_type": "markdown",
      "metadata": {
        "id": "rE-XoBW0Hvpl"
      },
      "source": [
        "###**Lower Casing**"
      ]
    },
    {
      "cell_type": "code",
      "metadata": {
        "colab": {
          "base_uri": "https://localhost:8080/",
          "height": 206
        },
        "id": "yZIAM4GwHp8e",
        "outputId": "949f5cb7-fed9-4926-e44b-5de3c1eb300f"
      },
      "source": [
        "df[\"processed_tweets\"] = df[\"tweet\"].str.lower()\n",
        "df.head()"
      ],
      "execution_count": 124,
      "outputs": [
        {
          "output_type": "execute_result",
          "data": {
            "text/plain": [
              "   target                                              tweet  \\\n",
              "0       0  @switchfoot http://twitpic.com/2y1zl - Awww, t...   \n",
              "1       0  is upset that he can't update his Facebook by ...   \n",
              "2       0  @Kenichan I dived many times for the ball. Man...   \n",
              "3       0    my whole body feels itchy and like its on fire    \n",
              "4       0  @nationwideclass no, it's not behaving at all....   \n",
              "\n",
              "                                    processed_tweets  \n",
              "0  @switchfoot http://twitpic.com/2y1zl - awww, t...  \n",
              "1  is upset that he can't update his facebook by ...  \n",
              "2  @kenichan i dived many times for the ball. man...  \n",
              "3    my whole body feels itchy and like its on fire   \n",
              "4  @nationwideclass no, it's not behaving at all....  "
            ],
            "text/html": [
              "\n",
              "  <div id=\"df-b826ce0d-6e37-4fa8-af59-755393263651\">\n",
              "    <div class=\"colab-df-container\">\n",
              "      <div>\n",
              "<style scoped>\n",
              "    .dataframe tbody tr th:only-of-type {\n",
              "        vertical-align: middle;\n",
              "    }\n",
              "\n",
              "    .dataframe tbody tr th {\n",
              "        vertical-align: top;\n",
              "    }\n",
              "\n",
              "    .dataframe thead th {\n",
              "        text-align: right;\n",
              "    }\n",
              "</style>\n",
              "<table border=\"1\" class=\"dataframe\">\n",
              "  <thead>\n",
              "    <tr style=\"text-align: right;\">\n",
              "      <th></th>\n",
              "      <th>target</th>\n",
              "      <th>tweet</th>\n",
              "      <th>processed_tweets</th>\n",
              "    </tr>\n",
              "  </thead>\n",
              "  <tbody>\n",
              "    <tr>\n",
              "      <th>0</th>\n",
              "      <td>0</td>\n",
              "      <td>@switchfoot http://twitpic.com/2y1zl - Awww, t...</td>\n",
              "      <td>@switchfoot http://twitpic.com/2y1zl - awww, t...</td>\n",
              "    </tr>\n",
              "    <tr>\n",
              "      <th>1</th>\n",
              "      <td>0</td>\n",
              "      <td>is upset that he can't update his Facebook by ...</td>\n",
              "      <td>is upset that he can't update his facebook by ...</td>\n",
              "    </tr>\n",
              "    <tr>\n",
              "      <th>2</th>\n",
              "      <td>0</td>\n",
              "      <td>@Kenichan I dived many times for the ball. Man...</td>\n",
              "      <td>@kenichan i dived many times for the ball. man...</td>\n",
              "    </tr>\n",
              "    <tr>\n",
              "      <th>3</th>\n",
              "      <td>0</td>\n",
              "      <td>my whole body feels itchy and like its on fire</td>\n",
              "      <td>my whole body feels itchy and like its on fire</td>\n",
              "    </tr>\n",
              "    <tr>\n",
              "      <th>4</th>\n",
              "      <td>0</td>\n",
              "      <td>@nationwideclass no, it's not behaving at all....</td>\n",
              "      <td>@nationwideclass no, it's not behaving at all....</td>\n",
              "    </tr>\n",
              "  </tbody>\n",
              "</table>\n",
              "</div>\n",
              "      <button class=\"colab-df-convert\" onclick=\"convertToInteractive('df-b826ce0d-6e37-4fa8-af59-755393263651')\"\n",
              "              title=\"Convert this dataframe to an interactive table.\"\n",
              "              style=\"display:none;\">\n",
              "        \n",
              "  <svg xmlns=\"http://www.w3.org/2000/svg\" height=\"24px\"viewBox=\"0 0 24 24\"\n",
              "       width=\"24px\">\n",
              "    <path d=\"M0 0h24v24H0V0z\" fill=\"none\"/>\n",
              "    <path d=\"M18.56 5.44l.94 2.06.94-2.06 2.06-.94-2.06-.94-.94-2.06-.94 2.06-2.06.94zm-11 1L8.5 8.5l.94-2.06 2.06-.94-2.06-.94L8.5 2.5l-.94 2.06-2.06.94zm10 10l.94 2.06.94-2.06 2.06-.94-2.06-.94-.94-2.06-.94 2.06-2.06.94z\"/><path d=\"M17.41 7.96l-1.37-1.37c-.4-.4-.92-.59-1.43-.59-.52 0-1.04.2-1.43.59L10.3 9.45l-7.72 7.72c-.78.78-.78 2.05 0 2.83L4 21.41c.39.39.9.59 1.41.59.51 0 1.02-.2 1.41-.59l7.78-7.78 2.81-2.81c.8-.78.8-2.07 0-2.86zM5.41 20L4 18.59l7.72-7.72 1.47 1.35L5.41 20z\"/>\n",
              "  </svg>\n",
              "      </button>\n",
              "      \n",
              "  <style>\n",
              "    .colab-df-container {\n",
              "      display:flex;\n",
              "      flex-wrap:wrap;\n",
              "      gap: 12px;\n",
              "    }\n",
              "\n",
              "    .colab-df-convert {\n",
              "      background-color: #E8F0FE;\n",
              "      border: none;\n",
              "      border-radius: 50%;\n",
              "      cursor: pointer;\n",
              "      display: none;\n",
              "      fill: #1967D2;\n",
              "      height: 32px;\n",
              "      padding: 0 0 0 0;\n",
              "      width: 32px;\n",
              "    }\n",
              "\n",
              "    .colab-df-convert:hover {\n",
              "      background-color: #E2EBFA;\n",
              "      box-shadow: 0px 1px 2px rgba(60, 64, 67, 0.3), 0px 1px 3px 1px rgba(60, 64, 67, 0.15);\n",
              "      fill: #174EA6;\n",
              "    }\n",
              "\n",
              "    [theme=dark] .colab-df-convert {\n",
              "      background-color: #3B4455;\n",
              "      fill: #D2E3FC;\n",
              "    }\n",
              "\n",
              "    [theme=dark] .colab-df-convert:hover {\n",
              "      background-color: #434B5C;\n",
              "      box-shadow: 0px 1px 3px 1px rgba(0, 0, 0, 0.15);\n",
              "      filter: drop-shadow(0px 1px 2px rgba(0, 0, 0, 0.3));\n",
              "      fill: #FFFFFF;\n",
              "    }\n",
              "  </style>\n",
              "\n",
              "      <script>\n",
              "        const buttonEl =\n",
              "          document.querySelector('#df-b826ce0d-6e37-4fa8-af59-755393263651 button.colab-df-convert');\n",
              "        buttonEl.style.display =\n",
              "          google.colab.kernel.accessAllowed ? 'block' : 'none';\n",
              "\n",
              "        async function convertToInteractive(key) {\n",
              "          const element = document.querySelector('#df-b826ce0d-6e37-4fa8-af59-755393263651');\n",
              "          const dataTable =\n",
              "            await google.colab.kernel.invokeFunction('convertToInteractive',\n",
              "                                                     [key], {});\n",
              "          if (!dataTable) return;\n",
              "\n",
              "          const docLinkHtml = 'Like what you see? Visit the ' +\n",
              "            '<a target=\"_blank\" href=https://colab.research.google.com/notebooks/data_table.ipynb>data table notebook</a>'\n",
              "            + ' to learn more about interactive tables.';\n",
              "          element.innerHTML = '';\n",
              "          dataTable['output_type'] = 'display_data';\n",
              "          await google.colab.output.renderOutput(dataTable, element);\n",
              "          const docLink = document.createElement('div');\n",
              "          docLink.innerHTML = docLinkHtml;\n",
              "          element.appendChild(docLink);\n",
              "        }\n",
              "      </script>\n",
              "    </div>\n",
              "  </div>\n",
              "  "
            ]
          },
          "metadata": {},
          "execution_count": 124
        }
      ]
    },
    {
      "cell_type": "code",
      "metadata": {
        "id": "9RlHCBgxH2qS"
      },
      "source": [],
      "execution_count": 124,
      "outputs": []
    },
    {
      "cell_type": "code",
      "metadata": {
        "id": "JLOM-a0iJ0rC",
        "colab": {
          "base_uri": "https://localhost:8080/"
        },
        "outputId": "1482a3e6-9409-46c9-9e4d-483c680f638d"
      },
      "source": [
        "\n",
        "\n",
        "print(\"\\nOriginal Tweet:\",df['tweet'][0]) #first latters capital \n",
        "print(df['processed_tweets'][0])  #first latters small\n"
      ],
      "execution_count": 125,
      "outputs": [
        {
          "output_type": "stream",
          "name": "stdout",
          "text": [
            "\n",
            "Original Tweet: @switchfoot http://twitpic.com/2y1zl - Awww, that's a bummer.  You shoulda got David Carr of Third Day to do it. ;D\n",
            "@switchfoot http://twitpic.com/2y1zl - awww, that's a bummer.  you shoulda got david carr of third day to do it. ;d\n"
          ]
        }
      ]
    },
    {
      "cell_type": "code",
      "source": [],
      "metadata": {
        "id": "Cil-nLteZ9o3"
      },
      "execution_count": 125,
      "outputs": []
    },
    {
      "cell_type": "code",
      "metadata": {
        "colab": {
          "base_uri": "https://localhost:8080/"
        },
        "id": "YwgfI3eqba5Y",
        "outputId": "dee8509e-e962-495f-94e3-9cab57e691dd"
      },
      "source": [
        "len(df['processed_tweets'])"
      ],
      "execution_count": 126,
      "outputs": [
        {
          "output_type": "execute_result",
          "data": {
            "text/plain": [
              "127801"
            ]
          },
          "metadata": {},
          "execution_count": 126
        }
      ]
    },
    {
      "cell_type": "markdown",
      "metadata": {
        "id": "DkA3j05TIAim"
      },
      "source": [
        "###**Removal of @ and User names**"
      ]
    },
    {
      "cell_type": "markdown",
      "metadata": {
        "id": "jWQmnri2sejY"
      },
      "source": [
        "<!-- Tokenization -->"
      ]
    },
    {
      "cell_type": "code",
      "metadata": {
        "colab": {
          "base_uri": "https://localhost:8080/"
        },
        "id": "RZIR1xmoNLPf",
        "outputId": "08b054da-1afb-4b37-ff83-ef8d6d18735b"
      },
      "source": [
        "tknzr = TweetTokenizer(strip_handles=True) # TweetTokenizer func() to remove twiter handler @ and User names\n",
        "\n",
        "for a in range(len(df['processed_tweets'])):\n",
        "\n",
        "  result = tknzr.tokenize(df['processed_tweets'][a])\n",
        "  res=\" \".join(result)\n",
        "  df['processed_tweets'][a]=res\n",
        "print(\"\\nTokenize a twitter text:\")\n",
        "print(df['processed_tweets'])\n"
      ],
      "execution_count": 127,
      "outputs": [
        {
          "output_type": "stream",
          "name": "stderr",
          "text": [
            "/usr/local/lib/python3.7/dist-packages/ipykernel_launcher.py:7: SettingWithCopyWarning: \n",
            "A value is trying to be set on a copy of a slice from a DataFrame\n",
            "\n",
            "See the caveats in the documentation: https://pandas.pydata.org/pandas-docs/stable/user_guide/indexing.html#returning-a-view-versus-a-copy\n",
            "  import sys\n"
          ]
        },
        {
          "output_type": "stream",
          "name": "stdout",
          "text": [
            "\n",
            "Tokenize a twitter text:\n",
            "0         http://twitpic.com/2y1zl - awww , that's a bum...\n",
            "1         is upset that he can't update his facebook by ...\n",
            "2         i dived many times for the ball . managed to s...\n",
            "3            my whole body feels itchy and like its on fire\n",
            "4         no , it's not behaving at all . i'm mad . why ...\n",
            "                                ...                        \n",
            "127796                            congrats on the followers\n",
            "127797    as in \" back dat ass on up in here for some fu...\n",
            "127798    school in about 12 minutes then i get picked u...\n",
            "127799                                     - - sounds fun !\n",
            "127800    good morning everyone welcome to my new follow...\n",
            "Name: processed_tweets, Length: 127801, dtype: object\n"
          ]
        }
      ]
    },
    {
      "cell_type": "code",
      "metadata": {
        "colab": {
          "base_uri": "https://localhost:8080/",
          "height": 206
        },
        "id": "XPFoJsK0ONJV",
        "outputId": "f0a545f1-b16a-4586-db42-11adb58d4971"
      },
      "source": [
        "df.head()"
      ],
      "execution_count": 128,
      "outputs": [
        {
          "output_type": "execute_result",
          "data": {
            "text/plain": [
              "   target                                              tweet  \\\n",
              "0       0  @switchfoot http://twitpic.com/2y1zl - Awww, t...   \n",
              "1       0  is upset that he can't update his Facebook by ...   \n",
              "2       0  @Kenichan I dived many times for the ball. Man...   \n",
              "3       0    my whole body feels itchy and like its on fire    \n",
              "4       0  @nationwideclass no, it's not behaving at all....   \n",
              "\n",
              "                                    processed_tweets  \n",
              "0  http://twitpic.com/2y1zl - awww , that's a bum...  \n",
              "1  is upset that he can't update his facebook by ...  \n",
              "2  i dived many times for the ball . managed to s...  \n",
              "3     my whole body feels itchy and like its on fire  \n",
              "4  no , it's not behaving at all . i'm mad . why ...  "
            ],
            "text/html": [
              "\n",
              "  <div id=\"df-4a1643c1-adb9-481d-8fe3-9e01a3ac7bbf\">\n",
              "    <div class=\"colab-df-container\">\n",
              "      <div>\n",
              "<style scoped>\n",
              "    .dataframe tbody tr th:only-of-type {\n",
              "        vertical-align: middle;\n",
              "    }\n",
              "\n",
              "    .dataframe tbody tr th {\n",
              "        vertical-align: top;\n",
              "    }\n",
              "\n",
              "    .dataframe thead th {\n",
              "        text-align: right;\n",
              "    }\n",
              "</style>\n",
              "<table border=\"1\" class=\"dataframe\">\n",
              "  <thead>\n",
              "    <tr style=\"text-align: right;\">\n",
              "      <th></th>\n",
              "      <th>target</th>\n",
              "      <th>tweet</th>\n",
              "      <th>processed_tweets</th>\n",
              "    </tr>\n",
              "  </thead>\n",
              "  <tbody>\n",
              "    <tr>\n",
              "      <th>0</th>\n",
              "      <td>0</td>\n",
              "      <td>@switchfoot http://twitpic.com/2y1zl - Awww, t...</td>\n",
              "      <td>http://twitpic.com/2y1zl - awww , that's a bum...</td>\n",
              "    </tr>\n",
              "    <tr>\n",
              "      <th>1</th>\n",
              "      <td>0</td>\n",
              "      <td>is upset that he can't update his Facebook by ...</td>\n",
              "      <td>is upset that he can't update his facebook by ...</td>\n",
              "    </tr>\n",
              "    <tr>\n",
              "      <th>2</th>\n",
              "      <td>0</td>\n",
              "      <td>@Kenichan I dived many times for the ball. Man...</td>\n",
              "      <td>i dived many times for the ball . managed to s...</td>\n",
              "    </tr>\n",
              "    <tr>\n",
              "      <th>3</th>\n",
              "      <td>0</td>\n",
              "      <td>my whole body feels itchy and like its on fire</td>\n",
              "      <td>my whole body feels itchy and like its on fire</td>\n",
              "    </tr>\n",
              "    <tr>\n",
              "      <th>4</th>\n",
              "      <td>0</td>\n",
              "      <td>@nationwideclass no, it's not behaving at all....</td>\n",
              "      <td>no , it's not behaving at all . i'm mad . why ...</td>\n",
              "    </tr>\n",
              "  </tbody>\n",
              "</table>\n",
              "</div>\n",
              "      <button class=\"colab-df-convert\" onclick=\"convertToInteractive('df-4a1643c1-adb9-481d-8fe3-9e01a3ac7bbf')\"\n",
              "              title=\"Convert this dataframe to an interactive table.\"\n",
              "              style=\"display:none;\">\n",
              "        \n",
              "  <svg xmlns=\"http://www.w3.org/2000/svg\" height=\"24px\"viewBox=\"0 0 24 24\"\n",
              "       width=\"24px\">\n",
              "    <path d=\"M0 0h24v24H0V0z\" fill=\"none\"/>\n",
              "    <path d=\"M18.56 5.44l.94 2.06.94-2.06 2.06-.94-2.06-.94-.94-2.06-.94 2.06-2.06.94zm-11 1L8.5 8.5l.94-2.06 2.06-.94-2.06-.94L8.5 2.5l-.94 2.06-2.06.94zm10 10l.94 2.06.94-2.06 2.06-.94-2.06-.94-.94-2.06-.94 2.06-2.06.94z\"/><path d=\"M17.41 7.96l-1.37-1.37c-.4-.4-.92-.59-1.43-.59-.52 0-1.04.2-1.43.59L10.3 9.45l-7.72 7.72c-.78.78-.78 2.05 0 2.83L4 21.41c.39.39.9.59 1.41.59.51 0 1.02-.2 1.41-.59l7.78-7.78 2.81-2.81c.8-.78.8-2.07 0-2.86zM5.41 20L4 18.59l7.72-7.72 1.47 1.35L5.41 20z\"/>\n",
              "  </svg>\n",
              "      </button>\n",
              "      \n",
              "  <style>\n",
              "    .colab-df-container {\n",
              "      display:flex;\n",
              "      flex-wrap:wrap;\n",
              "      gap: 12px;\n",
              "    }\n",
              "\n",
              "    .colab-df-convert {\n",
              "      background-color: #E8F0FE;\n",
              "      border: none;\n",
              "      border-radius: 50%;\n",
              "      cursor: pointer;\n",
              "      display: none;\n",
              "      fill: #1967D2;\n",
              "      height: 32px;\n",
              "      padding: 0 0 0 0;\n",
              "      width: 32px;\n",
              "    }\n",
              "\n",
              "    .colab-df-convert:hover {\n",
              "      background-color: #E2EBFA;\n",
              "      box-shadow: 0px 1px 2px rgba(60, 64, 67, 0.3), 0px 1px 3px 1px rgba(60, 64, 67, 0.15);\n",
              "      fill: #174EA6;\n",
              "    }\n",
              "\n",
              "    [theme=dark] .colab-df-convert {\n",
              "      background-color: #3B4455;\n",
              "      fill: #D2E3FC;\n",
              "    }\n",
              "\n",
              "    [theme=dark] .colab-df-convert:hover {\n",
              "      background-color: #434B5C;\n",
              "      box-shadow: 0px 1px 3px 1px rgba(0, 0, 0, 0.15);\n",
              "      filter: drop-shadow(0px 1px 2px rgba(0, 0, 0, 0.3));\n",
              "      fill: #FFFFFF;\n",
              "    }\n",
              "  </style>\n",
              "\n",
              "      <script>\n",
              "        const buttonEl =\n",
              "          document.querySelector('#df-4a1643c1-adb9-481d-8fe3-9e01a3ac7bbf button.colab-df-convert');\n",
              "        buttonEl.style.display =\n",
              "          google.colab.kernel.accessAllowed ? 'block' : 'none';\n",
              "\n",
              "        async function convertToInteractive(key) {\n",
              "          const element = document.querySelector('#df-4a1643c1-adb9-481d-8fe3-9e01a3ac7bbf');\n",
              "          const dataTable =\n",
              "            await google.colab.kernel.invokeFunction('convertToInteractive',\n",
              "                                                     [key], {});\n",
              "          if (!dataTable) return;\n",
              "\n",
              "          const docLinkHtml = 'Like what you see? Visit the ' +\n",
              "            '<a target=\"_blank\" href=https://colab.research.google.com/notebooks/data_table.ipynb>data table notebook</a>'\n",
              "            + ' to learn more about interactive tables.';\n",
              "          element.innerHTML = '';\n",
              "          dataTable['output_type'] = 'display_data';\n",
              "          await google.colab.output.renderOutput(dataTable, element);\n",
              "          const docLink = document.createElement('div');\n",
              "          docLink.innerHTML = docLinkHtml;\n",
              "          element.appendChild(docLink);\n",
              "        }\n",
              "      </script>\n",
              "    </div>\n",
              "  </div>\n",
              "  "
            ]
          },
          "metadata": {},
          "execution_count": 128
        }
      ]
    },
    {
      "cell_type": "markdown",
      "metadata": {
        "id": "B-lgn2bDtFcw"
      },
      "source": [
        "###**Remove Punctuations**"
      ]
    },
    {
      "cell_type": "code",
      "metadata": {
        "colab": {
          "base_uri": "https://localhost:8080/",
          "height": 206
        },
        "id": "VyjXaoXGX-XX",
        "outputId": "4b614fd0-ac76-4335-fabf-42619a8e9c99"
      },
      "source": [
        "# drop the new column created in last cell\n",
        "\n",
        "PUNCT_TO_REMOVE = string.punctuation\n",
        "def remove_punctuation(text):\n",
        "    \"\"\"custom function to remove the punctuation\"\"\"\n",
        "    return text.translate(str.maketrans('', '', PUNCT_TO_REMOVE))\n",
        "\n",
        "df[\"processed_tweets\"] = df[\"processed_tweets\"].apply(lambda text: remove_punctuation(text)) # all punchuations removed\n",
        "df.head()"
      ],
      "execution_count": 129,
      "outputs": [
        {
          "output_type": "execute_result",
          "data": {
            "text/plain": [
              "   target                                              tweet  \\\n",
              "0       0  @switchfoot http://twitpic.com/2y1zl - Awww, t...   \n",
              "1       0  is upset that he can't update his Facebook by ...   \n",
              "2       0  @Kenichan I dived many times for the ball. Man...   \n",
              "3       0    my whole body feels itchy and like its on fire    \n",
              "4       0  @nationwideclass no, it's not behaving at all....   \n",
              "\n",
              "                                    processed_tweets  \n",
              "0  httptwitpiccom2y1zl  awww  thats a bummer  you...  \n",
              "1  is upset that he cant update his facebook by t...  \n",
              "2  i dived many times for the ball  managed to sa...  \n",
              "3     my whole body feels itchy and like its on fire  \n",
              "4  no  its not behaving at all  im mad  why am i ...  "
            ],
            "text/html": [
              "\n",
              "  <div id=\"df-b3f9215b-e4b2-420f-8d22-6244cc1f4fe4\">\n",
              "    <div class=\"colab-df-container\">\n",
              "      <div>\n",
              "<style scoped>\n",
              "    .dataframe tbody tr th:only-of-type {\n",
              "        vertical-align: middle;\n",
              "    }\n",
              "\n",
              "    .dataframe tbody tr th {\n",
              "        vertical-align: top;\n",
              "    }\n",
              "\n",
              "    .dataframe thead th {\n",
              "        text-align: right;\n",
              "    }\n",
              "</style>\n",
              "<table border=\"1\" class=\"dataframe\">\n",
              "  <thead>\n",
              "    <tr style=\"text-align: right;\">\n",
              "      <th></th>\n",
              "      <th>target</th>\n",
              "      <th>tweet</th>\n",
              "      <th>processed_tweets</th>\n",
              "    </tr>\n",
              "  </thead>\n",
              "  <tbody>\n",
              "    <tr>\n",
              "      <th>0</th>\n",
              "      <td>0</td>\n",
              "      <td>@switchfoot http://twitpic.com/2y1zl - Awww, t...</td>\n",
              "      <td>httptwitpiccom2y1zl  awww  thats a bummer  you...</td>\n",
              "    </tr>\n",
              "    <tr>\n",
              "      <th>1</th>\n",
              "      <td>0</td>\n",
              "      <td>is upset that he can't update his Facebook by ...</td>\n",
              "      <td>is upset that he cant update his facebook by t...</td>\n",
              "    </tr>\n",
              "    <tr>\n",
              "      <th>2</th>\n",
              "      <td>0</td>\n",
              "      <td>@Kenichan I dived many times for the ball. Man...</td>\n",
              "      <td>i dived many times for the ball  managed to sa...</td>\n",
              "    </tr>\n",
              "    <tr>\n",
              "      <th>3</th>\n",
              "      <td>0</td>\n",
              "      <td>my whole body feels itchy and like its on fire</td>\n",
              "      <td>my whole body feels itchy and like its on fire</td>\n",
              "    </tr>\n",
              "    <tr>\n",
              "      <th>4</th>\n",
              "      <td>0</td>\n",
              "      <td>@nationwideclass no, it's not behaving at all....</td>\n",
              "      <td>no  its not behaving at all  im mad  why am i ...</td>\n",
              "    </tr>\n",
              "  </tbody>\n",
              "</table>\n",
              "</div>\n",
              "      <button class=\"colab-df-convert\" onclick=\"convertToInteractive('df-b3f9215b-e4b2-420f-8d22-6244cc1f4fe4')\"\n",
              "              title=\"Convert this dataframe to an interactive table.\"\n",
              "              style=\"display:none;\">\n",
              "        \n",
              "  <svg xmlns=\"http://www.w3.org/2000/svg\" height=\"24px\"viewBox=\"0 0 24 24\"\n",
              "       width=\"24px\">\n",
              "    <path d=\"M0 0h24v24H0V0z\" fill=\"none\"/>\n",
              "    <path d=\"M18.56 5.44l.94 2.06.94-2.06 2.06-.94-2.06-.94-.94-2.06-.94 2.06-2.06.94zm-11 1L8.5 8.5l.94-2.06 2.06-.94-2.06-.94L8.5 2.5l-.94 2.06-2.06.94zm10 10l.94 2.06.94-2.06 2.06-.94-2.06-.94-.94-2.06-.94 2.06-2.06.94z\"/><path d=\"M17.41 7.96l-1.37-1.37c-.4-.4-.92-.59-1.43-.59-.52 0-1.04.2-1.43.59L10.3 9.45l-7.72 7.72c-.78.78-.78 2.05 0 2.83L4 21.41c.39.39.9.59 1.41.59.51 0 1.02-.2 1.41-.59l7.78-7.78 2.81-2.81c.8-.78.8-2.07 0-2.86zM5.41 20L4 18.59l7.72-7.72 1.47 1.35L5.41 20z\"/>\n",
              "  </svg>\n",
              "      </button>\n",
              "      \n",
              "  <style>\n",
              "    .colab-df-container {\n",
              "      display:flex;\n",
              "      flex-wrap:wrap;\n",
              "      gap: 12px;\n",
              "    }\n",
              "\n",
              "    .colab-df-convert {\n",
              "      background-color: #E8F0FE;\n",
              "      border: none;\n",
              "      border-radius: 50%;\n",
              "      cursor: pointer;\n",
              "      display: none;\n",
              "      fill: #1967D2;\n",
              "      height: 32px;\n",
              "      padding: 0 0 0 0;\n",
              "      width: 32px;\n",
              "    }\n",
              "\n",
              "    .colab-df-convert:hover {\n",
              "      background-color: #E2EBFA;\n",
              "      box-shadow: 0px 1px 2px rgba(60, 64, 67, 0.3), 0px 1px 3px 1px rgba(60, 64, 67, 0.15);\n",
              "      fill: #174EA6;\n",
              "    }\n",
              "\n",
              "    [theme=dark] .colab-df-convert {\n",
              "      background-color: #3B4455;\n",
              "      fill: #D2E3FC;\n",
              "    }\n",
              "\n",
              "    [theme=dark] .colab-df-convert:hover {\n",
              "      background-color: #434B5C;\n",
              "      box-shadow: 0px 1px 3px 1px rgba(0, 0, 0, 0.15);\n",
              "      filter: drop-shadow(0px 1px 2px rgba(0, 0, 0, 0.3));\n",
              "      fill: #FFFFFF;\n",
              "    }\n",
              "  </style>\n",
              "\n",
              "      <script>\n",
              "        const buttonEl =\n",
              "          document.querySelector('#df-b3f9215b-e4b2-420f-8d22-6244cc1f4fe4 button.colab-df-convert');\n",
              "        buttonEl.style.display =\n",
              "          google.colab.kernel.accessAllowed ? 'block' : 'none';\n",
              "\n",
              "        async function convertToInteractive(key) {\n",
              "          const element = document.querySelector('#df-b3f9215b-e4b2-420f-8d22-6244cc1f4fe4');\n",
              "          const dataTable =\n",
              "            await google.colab.kernel.invokeFunction('convertToInteractive',\n",
              "                                                     [key], {});\n",
              "          if (!dataTable) return;\n",
              "\n",
              "          const docLinkHtml = 'Like what you see? Visit the ' +\n",
              "            '<a target=\"_blank\" href=https://colab.research.google.com/notebooks/data_table.ipynb>data table notebook</a>'\n",
              "            + ' to learn more about interactive tables.';\n",
              "          element.innerHTML = '';\n",
              "          dataTable['output_type'] = 'display_data';\n",
              "          await google.colab.output.renderOutput(dataTable, element);\n",
              "          const docLink = document.createElement('div');\n",
              "          docLink.innerHTML = docLinkHtml;\n",
              "          element.appendChild(docLink);\n",
              "        }\n",
              "      </script>\n",
              "    </div>\n",
              "  </div>\n",
              "  "
            ]
          },
          "metadata": {},
          "execution_count": 129
        }
      ]
    },
    {
      "cell_type": "markdown",
      "metadata": {
        "id": "dol3gKZWeXwK"
      },
      "source": [
        "###**Remove URLs**"
      ]
    },
    {
      "cell_type": "code",
      "metadata": {
        "id": "xe8MBpG2ddEK"
      },
      "source": [
        "def remove_URL(sample):\n",
        "    \"\"\"Remove URLs from a sample string\"\"\"\n",
        "    return re.sub(r\"http\\S+\", \"\", sample)\n",
        "\n",
        "# def remove_urls(text):\n",
        "#     url_pattern = re.compile(r'https?://\\S+|www\\.\\S+')\n",
        "#     return url_pattern.sub(r'', text)"
      ],
      "execution_count": 130,
      "outputs": []
    },
    {
      "cell_type": "code",
      "metadata": {
        "colab": {
          "base_uri": "https://localhost:8080/"
        },
        "id": "evmAyptXeaVw",
        "outputId": "3a85019f-e05b-4562-a74c-92bce4b8f97e"
      },
      "source": [
        "tknzr = TweetTokenizer(strip_handles=True)\n",
        "\n",
        "for a in range(len(df['processed_tweets'])):\n",
        "\n",
        "  result = remove_URL(df['processed_tweets'][a])\n",
        "  df['processed_tweets'][a]=result\n",
        "print(\"No URLs:\")\n",
        "print(result)\n"
      ],
      "execution_count": 131,
      "outputs": [
        {
          "output_type": "stream",
          "name": "stderr",
          "text": [
            "/usr/local/lib/python3.7/dist-packages/ipykernel_launcher.py:6: SettingWithCopyWarning: \n",
            "A value is trying to be set on a copy of a slice from a DataFrame\n",
            "\n",
            "See the caveats in the documentation: https://pandas.pydata.org/pandas-docs/stable/user_guide/indexing.html#returning-a-view-versus-a-copy\n",
            "  \n"
          ]
        },
        {
          "output_type": "stream",
          "name": "stdout",
          "text": [
            "No URLs:\n",
            "good morning everyone welcome to my new followers and    big hug    to everyone  hope your monday morning is moving along spectacularly \n"
          ]
        }
      ]
    },
    {
      "cell_type": "code",
      "metadata": {
        "colab": {
          "base_uri": "https://localhost:8080/",
          "height": 206
        },
        "id": "1JJUenJAe_N3",
        "outputId": "889041a7-69ad-4cd0-87d5-7648b6313a95"
      },
      "source": [
        "df.head()"
      ],
      "execution_count": 132,
      "outputs": [
        {
          "output_type": "execute_result",
          "data": {
            "text/plain": [
              "   target                                              tweet  \\\n",
              "0       0  @switchfoot http://twitpic.com/2y1zl - Awww, t...   \n",
              "1       0  is upset that he can't update his Facebook by ...   \n",
              "2       0  @Kenichan I dived many times for the ball. Man...   \n",
              "3       0    my whole body feels itchy and like its on fire    \n",
              "4       0  @nationwideclass no, it's not behaving at all....   \n",
              "\n",
              "                                    processed_tweets  \n",
              "0    awww  thats a bummer  you shoulda got david ...  \n",
              "1  is upset that he cant update his facebook by t...  \n",
              "2  i dived many times for the ball  managed to sa...  \n",
              "3     my whole body feels itchy and like its on fire  \n",
              "4  no  its not behaving at all  im mad  why am i ...  "
            ],
            "text/html": [
              "\n",
              "  <div id=\"df-5cdfa99a-d4e4-4132-9703-1e0cd70a30bf\">\n",
              "    <div class=\"colab-df-container\">\n",
              "      <div>\n",
              "<style scoped>\n",
              "    .dataframe tbody tr th:only-of-type {\n",
              "        vertical-align: middle;\n",
              "    }\n",
              "\n",
              "    .dataframe tbody tr th {\n",
              "        vertical-align: top;\n",
              "    }\n",
              "\n",
              "    .dataframe thead th {\n",
              "        text-align: right;\n",
              "    }\n",
              "</style>\n",
              "<table border=\"1\" class=\"dataframe\">\n",
              "  <thead>\n",
              "    <tr style=\"text-align: right;\">\n",
              "      <th></th>\n",
              "      <th>target</th>\n",
              "      <th>tweet</th>\n",
              "      <th>processed_tweets</th>\n",
              "    </tr>\n",
              "  </thead>\n",
              "  <tbody>\n",
              "    <tr>\n",
              "      <th>0</th>\n",
              "      <td>0</td>\n",
              "      <td>@switchfoot http://twitpic.com/2y1zl - Awww, t...</td>\n",
              "      <td>awww  thats a bummer  you shoulda got david ...</td>\n",
              "    </tr>\n",
              "    <tr>\n",
              "      <th>1</th>\n",
              "      <td>0</td>\n",
              "      <td>is upset that he can't update his Facebook by ...</td>\n",
              "      <td>is upset that he cant update his facebook by t...</td>\n",
              "    </tr>\n",
              "    <tr>\n",
              "      <th>2</th>\n",
              "      <td>0</td>\n",
              "      <td>@Kenichan I dived many times for the ball. Man...</td>\n",
              "      <td>i dived many times for the ball  managed to sa...</td>\n",
              "    </tr>\n",
              "    <tr>\n",
              "      <th>3</th>\n",
              "      <td>0</td>\n",
              "      <td>my whole body feels itchy and like its on fire</td>\n",
              "      <td>my whole body feels itchy and like its on fire</td>\n",
              "    </tr>\n",
              "    <tr>\n",
              "      <th>4</th>\n",
              "      <td>0</td>\n",
              "      <td>@nationwideclass no, it's not behaving at all....</td>\n",
              "      <td>no  its not behaving at all  im mad  why am i ...</td>\n",
              "    </tr>\n",
              "  </tbody>\n",
              "</table>\n",
              "</div>\n",
              "      <button class=\"colab-df-convert\" onclick=\"convertToInteractive('df-5cdfa99a-d4e4-4132-9703-1e0cd70a30bf')\"\n",
              "              title=\"Convert this dataframe to an interactive table.\"\n",
              "              style=\"display:none;\">\n",
              "        \n",
              "  <svg xmlns=\"http://www.w3.org/2000/svg\" height=\"24px\"viewBox=\"0 0 24 24\"\n",
              "       width=\"24px\">\n",
              "    <path d=\"M0 0h24v24H0V0z\" fill=\"none\"/>\n",
              "    <path d=\"M18.56 5.44l.94 2.06.94-2.06 2.06-.94-2.06-.94-.94-2.06-.94 2.06-2.06.94zm-11 1L8.5 8.5l.94-2.06 2.06-.94-2.06-.94L8.5 2.5l-.94 2.06-2.06.94zm10 10l.94 2.06.94-2.06 2.06-.94-2.06-.94-.94-2.06-.94 2.06-2.06.94z\"/><path d=\"M17.41 7.96l-1.37-1.37c-.4-.4-.92-.59-1.43-.59-.52 0-1.04.2-1.43.59L10.3 9.45l-7.72 7.72c-.78.78-.78 2.05 0 2.83L4 21.41c.39.39.9.59 1.41.59.51 0 1.02-.2 1.41-.59l7.78-7.78 2.81-2.81c.8-.78.8-2.07 0-2.86zM5.41 20L4 18.59l7.72-7.72 1.47 1.35L5.41 20z\"/>\n",
              "  </svg>\n",
              "      </button>\n",
              "      \n",
              "  <style>\n",
              "    .colab-df-container {\n",
              "      display:flex;\n",
              "      flex-wrap:wrap;\n",
              "      gap: 12px;\n",
              "    }\n",
              "\n",
              "    .colab-df-convert {\n",
              "      background-color: #E8F0FE;\n",
              "      border: none;\n",
              "      border-radius: 50%;\n",
              "      cursor: pointer;\n",
              "      display: none;\n",
              "      fill: #1967D2;\n",
              "      height: 32px;\n",
              "      padding: 0 0 0 0;\n",
              "      width: 32px;\n",
              "    }\n",
              "\n",
              "    .colab-df-convert:hover {\n",
              "      background-color: #E2EBFA;\n",
              "      box-shadow: 0px 1px 2px rgba(60, 64, 67, 0.3), 0px 1px 3px 1px rgba(60, 64, 67, 0.15);\n",
              "      fill: #174EA6;\n",
              "    }\n",
              "\n",
              "    [theme=dark] .colab-df-convert {\n",
              "      background-color: #3B4455;\n",
              "      fill: #D2E3FC;\n",
              "    }\n",
              "\n",
              "    [theme=dark] .colab-df-convert:hover {\n",
              "      background-color: #434B5C;\n",
              "      box-shadow: 0px 1px 3px 1px rgba(0, 0, 0, 0.15);\n",
              "      filter: drop-shadow(0px 1px 2px rgba(0, 0, 0, 0.3));\n",
              "      fill: #FFFFFF;\n",
              "    }\n",
              "  </style>\n",
              "\n",
              "      <script>\n",
              "        const buttonEl =\n",
              "          document.querySelector('#df-5cdfa99a-d4e4-4132-9703-1e0cd70a30bf button.colab-df-convert');\n",
              "        buttonEl.style.display =\n",
              "          google.colab.kernel.accessAllowed ? 'block' : 'none';\n",
              "\n",
              "        async function convertToInteractive(key) {\n",
              "          const element = document.querySelector('#df-5cdfa99a-d4e4-4132-9703-1e0cd70a30bf');\n",
              "          const dataTable =\n",
              "            await google.colab.kernel.invokeFunction('convertToInteractive',\n",
              "                                                     [key], {});\n",
              "          if (!dataTable) return;\n",
              "\n",
              "          const docLinkHtml = 'Like what you see? Visit the ' +\n",
              "            '<a target=\"_blank\" href=https://colab.research.google.com/notebooks/data_table.ipynb>data table notebook</a>'\n",
              "            + ' to learn more about interactive tables.';\n",
              "          element.innerHTML = '';\n",
              "          dataTable['output_type'] = 'display_data';\n",
              "          await google.colab.output.renderOutput(dataTable, element);\n",
              "          const docLink = document.createElement('div');\n",
              "          docLink.innerHTML = docLinkHtml;\n",
              "          element.appendChild(docLink);\n",
              "        }\n",
              "      </script>\n",
              "    </div>\n",
              "  </div>\n",
              "  "
            ]
          },
          "metadata": {},
          "execution_count": 132
        }
      ]
    },
    {
      "cell_type": "markdown",
      "metadata": {
        "id": "mv1bt-U4jOLA"
      },
      "source": [
        "###**Remove Emojis**"
      ]
    },
    {
      "cell_type": "code",
      "metadata": {
        "colab": {
          "base_uri": "https://localhost:8080/",
          "height": 36
        },
        "id": "UqHv0WPPf1Wt",
        "outputId": "bfda295a-a25b-453f-e9e7-26256f3bc09f"
      },
      "source": [
        "# Reference : https://gist.github.com/slowkow/7a7f61f495e3dbb7e3d767f97bd7304b\n",
        "def remove_emoji(string):\n",
        "    emoji_pattern = re.compile(\"[\"\n",
        "                           u\"\\U0001F600-\\U0001F64F\"  # emoticons\n",
        "                           u\"\\U0001F300-\\U0001F5FF\"  # symbols & pictographs\n",
        "                           u\"\\U0001F680-\\U0001F6FF\"  # transport & map symbols\n",
        "                           u\"\\U0001F1E0-\\U0001F1FF\"  # flags (iOS)\n",
        "                           u\"\\U00002702-\\U000027B0\"\n",
        "                           u\"\\U000024C2-\\U0001F251\"\n",
        "                           \"]+\", flags=re.UNICODE)\n",
        "    return emoji_pattern.sub(r'', string)\n",
        "\n",
        "remove_emoji(\"game is on 🔥🔥\")"
      ],
      "execution_count": 133,
      "outputs": [
        {
          "output_type": "execute_result",
          "data": {
            "text/plain": [
              "'game is on '"
            ],
            "application/vnd.google.colaboratory.intrinsic+json": {
              "type": "string"
            }
          },
          "metadata": {},
          "execution_count": 133
        }
      ]
    },
    {
      "cell_type": "code",
      "metadata": {
        "colab": {
          "base_uri": "https://localhost:8080/"
        },
        "id": "hOx6FEmViNm2",
        "outputId": "b96f823a-f5cb-430f-a7f1-77c37abf3888"
      },
      "source": [
        "for a in range(len(df['processed_tweets'])):\n",
        "\n",
        "  result = remove_emoji(df['processed_tweets'][a])\n",
        "  df['processed_tweets'][a]=result\n",
        "  "
      ],
      "execution_count": 134,
      "outputs": [
        {
          "output_type": "stream",
          "name": "stderr",
          "text": [
            "/usr/local/lib/python3.7/dist-packages/ipykernel_launcher.py:4: SettingWithCopyWarning: \n",
            "A value is trying to be set on a copy of a slice from a DataFrame\n",
            "\n",
            "See the caveats in the documentation: https://pandas.pydata.org/pandas-docs/stable/user_guide/indexing.html#returning-a-view-versus-a-copy\n",
            "  after removing the cwd from sys.path.\n"
          ]
        }
      ]
    },
    {
      "cell_type": "markdown",
      "metadata": {
        "id": "-YEDyZ8yjWCT"
      },
      "source": [
        "###**Removal of Emoticons¶**\n"
      ]
    },
    {
      "cell_type": "code",
      "metadata": {
        "id": "hG9AwKh_iWQA"
      },
      "source": [
        "# Thanks : https://github.com/NeelShah18/emot/blob/master/emot/emo_unicode.py\n",
        "EMOTICONS = {\n",
        "    u\":‑\\)\":\"Happy face or smiley\",\n",
        "    u\":\\)\":\"Happy face or smiley\",\n",
        "    u\":-\\]\":\"Happy face or smiley\",\n",
        "    u\":\\]\":\"Happy face or smiley\",\n",
        "    u\":-3\":\"Happy face smiley\",\n",
        "    u\":3\":\"Happy face smiley\",\n",
        "    u\":->\":\"Happy face smiley\",\n",
        "    u\":>\":\"Happy face smiley\",\n",
        "    u\"8-\\)\":\"Happy face smiley\",\n",
        "    u\":o\\)\":\"Happy face smiley\",\n",
        "    u\":-\\}\":\"Happy face smiley\",\n",
        "    u\":\\}\":\"Happy face smiley\",\n",
        "    u\":-\\)\":\"Happy face smiley\",\n",
        "    u\":c\\)\":\"Happy face smiley\",\n",
        "    u\":\\^\\)\":\"Happy face smiley\",\n",
        "    u\"=\\]\":\"Happy face smiley\",\n",
        "    u\"=\\)\":\"Happy face smiley\",\n",
        "    u\":‑D\":\"Laughing, big grin or laugh with glasses\",\n",
        "    u\":D\":\"Laughing, big grin or laugh with glasses\",\n",
        "    u\"8‑D\":\"Laughing, big grin or laugh with glasses\",\n",
        "    u\"8D\":\"Laughing, big grin or laugh with glasses\",\n",
        "    u\"X‑D\":\"Laughing, big grin or laugh with glasses\",\n",
        "    u\"XD\":\"Laughing, big grin or laugh with glasses\",\n",
        "    u\"=D\":\"Laughing, big grin or laugh with glasses\",\n",
        "    u\"=3\":\"Laughing, big grin or laugh with glasses\",\n",
        "    u\"B\\^D\":\"Laughing, big grin or laugh with glasses\",\n",
        "    u\":-\\)\\)\":\"Very happy\",\n",
        "    u\":‑\\(\":\"Frown, sad, andry or pouting\",\n",
        "    u\":-\\(\":\"Frown, sad, andry or pouting\",\n",
        "    u\":\\(\":\"Frown, sad, andry or pouting\",\n",
        "    u\":‑c\":\"Frown, sad, andry or pouting\",\n",
        "    u\":c\":\"Frown, sad, andry or pouting\",\n",
        "    u\":‑<\":\"Frown, sad, andry or pouting\",\n",
        "    u\":<\":\"Frown, sad, andry or pouting\",\n",
        "    u\":‑\\[\":\"Frown, sad, andry or pouting\",\n",
        "    u\":\\[\":\"Frown, sad, andry or pouting\",\n",
        "    u\":-\\|\\|\":\"Frown, sad, andry or pouting\",\n",
        "    u\">:\\[\":\"Frown, sad, andry or pouting\",\n",
        "    u\":\\{\":\"Frown, sad, andry or pouting\",\n",
        "    u\":@\":\"Frown, sad, andry or pouting\",\n",
        "    u\">:\\(\":\"Frown, sad, andry or pouting\",\n",
        "    u\":'‑\\(\":\"Crying\",\n",
        "    u\":'\\(\":\"Crying\",\n",
        "    u\":'‑\\)\":\"Tears of happiness\",\n",
        "    u\":'\\)\":\"Tears of happiness\",\n",
        "    u\"D‑':\":\"Horror\",\n",
        "    u\"D:<\":\"Disgust\",\n",
        "    u\"D:\":\"Sadness\",\n",
        "    u\"D8\":\"Great dismay\",\n",
        "    u\"D;\":\"Great dismay\",\n",
        "    u\"D=\":\"Great dismay\",\n",
        "    u\"DX\":\"Great dismay\",\n",
        "    u\":‑O\":\"Surprise\",\n",
        "    u\":O\":\"Surprise\",\n",
        "    u\":‑o\":\"Surprise\",\n",
        "    u\":o\":\"Surprise\",\n",
        "    u\":-0\":\"Shock\",\n",
        "    u\"8‑0\":\"Yawn\",\n",
        "    u\">:O\":\"Yawn\",\n",
        "    u\":-\\*\":\"Kiss\",\n",
        "    u\":\\*\":\"Kiss\",\n",
        "    u\":X\":\"Kiss\",\n",
        "    u\";‑\\)\":\"Wink or smirk\",\n",
        "    u\";\\)\":\"Wink or smirk\",\n",
        "    u\"\\*-\\)\":\"Wink or smirk\",\n",
        "    u\"\\*\\)\":\"Wink or smirk\",\n",
        "    u\";‑\\]\":\"Wink or smirk\",\n",
        "    u\";\\]\":\"Wink or smirk\",\n",
        "    u\";\\^\\)\":\"Wink or smirk\",\n",
        "    u\":‑,\":\"Wink or smirk\",\n",
        "    u\";D\":\"Wink or smirk\",\n",
        "    u\":‑P\":\"Tongue sticking out, cheeky, playful or blowing a raspberry\",\n",
        "    u\":P\":\"Tongue sticking out, cheeky, playful or blowing a raspberry\",\n",
        "    u\"X‑P\":\"Tongue sticking out, cheeky, playful or blowing a raspberry\",\n",
        "    u\"XP\":\"Tongue sticking out, cheeky, playful or blowing a raspberry\",\n",
        "    u\":‑Þ\":\"Tongue sticking out, cheeky, playful or blowing a raspberry\",\n",
        "    u\":Þ\":\"Tongue sticking out, cheeky, playful or blowing a raspberry\",\n",
        "    u\":b\":\"Tongue sticking out, cheeky, playful or blowing a raspberry\",\n",
        "    u\"d:\":\"Tongue sticking out, cheeky, playful or blowing a raspberry\",\n",
        "    u\"=p\":\"Tongue sticking out, cheeky, playful or blowing a raspberry\",\n",
        "    u\">:P\":\"Tongue sticking out, cheeky, playful or blowing a raspberry\",\n",
        "    u\":‑/\":\"Skeptical, annoyed, undecided, uneasy or hesitant\",\n",
        "    u\":/\":\"Skeptical, annoyed, undecided, uneasy or hesitant\",\n",
        "    u\":-[.]\":\"Skeptical, annoyed, undecided, uneasy or hesitant\",\n",
        "    u\">:[(\\\\\\)]\":\"Skeptical, annoyed, undecided, uneasy or hesitant\",\n",
        "    u\">:/\":\"Skeptical, annoyed, undecided, uneasy or hesitant\",\n",
        "    u\":[(\\\\\\)]\":\"Skeptical, annoyed, undecided, uneasy or hesitant\",\n",
        "    u\"=/\":\"Skeptical, annoyed, undecided, uneasy or hesitant\",\n",
        "    u\"=[(\\\\\\)]\":\"Skeptical, annoyed, undecided, uneasy or hesitant\",\n",
        "    u\":L\":\"Skeptical, annoyed, undecided, uneasy or hesitant\",\n",
        "    u\"=L\":\"Skeptical, annoyed, undecided, uneasy or hesitant\",\n",
        "    u\":S\":\"Skeptical, annoyed, undecided, uneasy or hesitant\",\n",
        "    u\":‑\\|\":\"Straight face\",\n",
        "    u\":\\|\":\"Straight face\",\n",
        "    u\":$\":\"Embarrassed or blushing\",\n",
        "    u\":‑x\":\"Sealed lips or wearing braces or tongue-tied\",\n",
        "    u\":x\":\"Sealed lips or wearing braces or tongue-tied\",\n",
        "    u\":‑#\":\"Sealed lips or wearing braces or tongue-tied\",\n",
        "    u\":#\":\"Sealed lips or wearing braces or tongue-tied\",\n",
        "    u\":‑&\":\"Sealed lips or wearing braces or tongue-tied\",\n",
        "    u\":&\":\"Sealed lips or wearing braces or tongue-tied\",\n",
        "    u\"O:‑\\)\":\"Angel, saint or innocent\",\n",
        "    u\"O:\\)\":\"Angel, saint or innocent\",\n",
        "    u\"0:‑3\":\"Angel, saint or innocent\",\n",
        "    u\"0:3\":\"Angel, saint or innocent\",\n",
        "    u\"0:‑\\)\":\"Angel, saint or innocent\",\n",
        "    u\"0:\\)\":\"Angel, saint or innocent\",\n",
        "    u\":‑b\":\"Tongue sticking out, cheeky, playful or blowing a raspberry\",\n",
        "    u\"0;\\^\\)\":\"Angel, saint or innocent\",\n",
        "    u\">:‑\\)\":\"Evil or devilish\",\n",
        "    u\">:\\)\":\"Evil or devilish\",\n",
        "    u\"\\}:‑\\)\":\"Evil or devilish\",\n",
        "    u\"\\}:\\)\":\"Evil or devilish\",\n",
        "    u\"3:‑\\)\":\"Evil or devilish\",\n",
        "    u\"3:\\)\":\"Evil or devilish\",\n",
        "    u\">;\\)\":\"Evil or devilish\",\n",
        "    u\"\\|;‑\\)\":\"Cool\",\n",
        "    u\"\\|‑O\":\"Bored\",\n",
        "    u\":‑J\":\"Tongue-in-cheek\",\n",
        "    u\"#‑\\)\":\"Party all night\",\n",
        "    u\"%‑\\)\":\"Drunk or confused\",\n",
        "    u\"%\\)\":\"Drunk or confused\",\n",
        "    u\":-###..\":\"Being sick\",\n",
        "    u\":###..\":\"Being sick\",\n",
        "    u\"<:‑\\|\":\"Dump\",\n",
        "    u\"\\(>_<\\)\":\"Troubled\",\n",
        "    u\"\\(>_<\\)>\":\"Troubled\",\n",
        "    u\"\\(';'\\)\":\"Baby\",\n",
        "    u\"\\(\\^\\^>``\":\"Nervous or Embarrassed or Troubled or Shy or Sweat drop\",\n",
        "    u\"\\(\\^_\\^;\\)\":\"Nervous or Embarrassed or Troubled or Shy or Sweat drop\",\n",
        "    u\"\\(-_-;\\)\":\"Nervous or Embarrassed or Troubled or Shy or Sweat drop\",\n",
        "    u\"\\(~_~;\\) \\(・\\.・;\\)\":\"Nervous or Embarrassed or Troubled or Shy or Sweat drop\",\n",
        "    u\"\\(-_-\\)zzz\":\"Sleeping\",\n",
        "    u\"\\(\\^_-\\)\":\"Wink\",\n",
        "    u\"\\(\\(\\+_\\+\\)\\)\":\"Confused\",\n",
        "    u\"\\(\\+o\\+\\)\":\"Confused\",\n",
        "    u\"\\(o\\|o\\)\":\"Ultraman\",\n",
        "    u\"\\^_\\^\":\"Joyful\",\n",
        "    u\"\\(\\^_\\^\\)/\":\"Joyful\",\n",
        "    u\"\\(\\^O\\^\\)／\":\"Joyful\",\n",
        "    u\"\\(\\^o\\^\\)／\":\"Joyful\",\n",
        "    u\"\\(__\\)\":\"Kowtow as a sign of respect, or dogeza for apology\",\n",
        "    u\"_\\(\\._\\.\\)_\":\"Kowtow as a sign of respect, or dogeza for apology\",\n",
        "    u\"<\\(_ _\\)>\":\"Kowtow as a sign of respect, or dogeza for apology\",\n",
        "    u\"<m\\(__\\)m>\":\"Kowtow as a sign of respect, or dogeza for apology\",\n",
        "    u\"m\\(__\\)m\":\"Kowtow as a sign of respect, or dogeza for apology\",\n",
        "    u\"m\\(_ _\\)m\":\"Kowtow as a sign of respect, or dogeza for apology\",\n",
        "    u\"\\('_'\\)\":\"Sad or Crying\",\n",
        "    u\"\\(/_;\\)\":\"Sad or Crying\",\n",
        "    u\"\\(T_T\\) \\(;_;\\)\":\"Sad or Crying\",\n",
        "    u\"\\(;_;\":\"Sad of Crying\",\n",
        "    u\"\\(;_:\\)\":\"Sad or Crying\",\n",
        "    u\"\\(;O;\\)\":\"Sad or Crying\",\n",
        "    u\"\\(:_;\\)\":\"Sad or Crying\",\n",
        "    u\"\\(ToT\\)\":\"Sad or Crying\",\n",
        "    u\";_;\":\"Sad or Crying\",\n",
        "    u\";-;\":\"Sad or Crying\",\n",
        "    u\";n;\":\"Sad or Crying\",\n",
        "    u\";;\":\"Sad or Crying\",\n",
        "    u\"Q\\.Q\":\"Sad or Crying\",\n",
        "    u\"T\\.T\":\"Sad or Crying\",\n",
        "    u\"QQ\":\"Sad or Crying\",\n",
        "    u\"Q_Q\":\"Sad or Crying\",\n",
        "    u\"\\(-\\.-\\)\":\"Shame\",\n",
        "    u\"\\(-_-\\)\":\"Shame\",\n",
        "    u\"\\(一一\\)\":\"Shame\",\n",
        "    u\"\\(；一_一\\)\":\"Shame\",\n",
        "    u\"\\(=_=\\)\":\"Tired\",\n",
        "    u\"\\(=\\^\\·\\^=\\)\":\"cat\",\n",
        "    u\"\\(=\\^\\·\\·\\^=\\)\":\"cat\",\n",
        "    u\"=_\\^=\t\":\"cat\",\n",
        "    u\"\\(\\.\\.\\)\":\"Looking down\",\n",
        "    u\"\\(\\._\\.\\)\":\"Looking down\",\n",
        "    u\"\\^m\\^\":\"Giggling with hand covering mouth\",\n",
        "    u\"\\(\\・\\・?\":\"Confusion\",\n",
        "    u\"\\(?_?\\)\":\"Confusion\",\n",
        "    u\">\\^_\\^<\":\"Normal Laugh\",\n",
        "    u\"<\\^!\\^>\":\"Normal Laugh\",\n",
        "    u\"\\^/\\^\":\"Normal Laugh\",\n",
        "    u\"\\（\\*\\^_\\^\\*）\" :\"Normal Laugh\",\n",
        "    u\"\\(\\^<\\^\\) \\(\\^\\.\\^\\)\":\"Normal Laugh\",\n",
        "    u\"\\(^\\^\\)\":\"Normal Laugh\",\n",
        "    u\"\\(\\^\\.\\^\\)\":\"Normal Laugh\",\n",
        "    u\"\\(\\^_\\^\\.\\)\":\"Normal Laugh\",\n",
        "    u\"\\(\\^_\\^\\)\":\"Normal Laugh\",\n",
        "    u\"\\(\\^\\^\\)\":\"Normal Laugh\",\n",
        "    u\"\\(\\^J\\^\\)\":\"Normal Laugh\",\n",
        "    u\"\\(\\*\\^\\.\\^\\*\\)\":\"Normal Laugh\",\n",
        "    u\"\\(\\^—\\^\\）\":\"Normal Laugh\",\n",
        "    u\"\\(#\\^\\.\\^#\\)\":\"Normal Laugh\",\n",
        "    u\"\\（\\^—\\^\\）\":\"Waving\",\n",
        "    u\"\\(;_;\\)/~~~\":\"Waving\",\n",
        "    u\"\\(\\^\\.\\^\\)/~~~\":\"Waving\",\n",
        "    u\"\\(-_-\\)/~~~ \\($\\·\\·\\)/~~~\":\"Waving\",\n",
        "    u\"\\(T_T\\)/~~~\":\"Waving\",\n",
        "    u\"\\(ToT\\)/~~~\":\"Waving\",\n",
        "    u\"\\(\\*\\^0\\^\\*\\)\":\"Excited\",\n",
        "    u\"\\(\\*_\\*\\)\":\"Amazed\",\n",
        "    u\"\\(\\*_\\*;\":\"Amazed\",\n",
        "    u\"\\(\\+_\\+\\) \\(@_@\\)\":\"Amazed\",\n",
        "    u\"\\(\\*\\^\\^\\)v\":\"Laughing,Cheerful\",\n",
        "    u\"\\(\\^_\\^\\)v\":\"Laughing,Cheerful\",\n",
        "    u\"\\(\\(d[-_-]b\\)\\)\":\"Headphones,Listening to music\",\n",
        "    u'\\(-\"-\\)':\"Worried\",\n",
        "    u\"\\(ーー;\\)\":\"Worried\",\n",
        "    u\"\\(\\^0_0\\^\\)\":\"Eyeglasses\",\n",
        "    u\"\\(\\＾ｖ\\＾\\)\":\"Happy\",\n",
        "    u\"\\(\\＾ｕ\\＾\\)\":\"Happy\",\n",
        "    u\"\\(\\^\\)o\\(\\^\\)\":\"Happy\",\n",
        "    u\"\\(\\^O\\^\\)\":\"Happy\",\n",
        "    u\"\\(\\^o\\^\\)\":\"Happy\",\n",
        "    u\"\\)\\^o\\^\\(\":\"Happy\",\n",
        "    u\":O o_O\":\"Surprised\",\n",
        "    u\"o_0\":\"Surprised\",\n",
        "    u\"o\\.O\":\"Surpised\",\n",
        "    u\"\\(o\\.o\\)\":\"Surprised\",\n",
        "    u\"oO\":\"Surprised\",\n",
        "    u\"\\(\\*￣m￣\\)\":\"Dissatisfied\",\n",
        "    u\"\\(‘A`\\)\":\"Snubbed or Deflated\"\n",
        "}"
      ],
      "execution_count": 135,
      "outputs": []
    },
    {
      "cell_type": "code",
      "metadata": {
        "colab": {
          "base_uri": "https://localhost:8080/",
          "height": 36
        },
        "id": "molcH8i5jkf7",
        "outputId": "f6b7aad3-7d2a-40c7-a853-afc513e49ebd"
      },
      "source": [
        "def remove_emoticons(text):\n",
        "    emoticon_pattern = re.compile(u'(' + u'|'.join(k for k in EMOTICONS) + u')')\n",
        "    return emoticon_pattern.sub(r'', text)\n",
        "\n",
        "remove_emoticons(\"Hello :-)\")"
      ],
      "execution_count": 136,
      "outputs": [
        {
          "output_type": "execute_result",
          "data": {
            "text/plain": [
              "'Hello '"
            ],
            "application/vnd.google.colaboratory.intrinsic+json": {
              "type": "string"
            }
          },
          "metadata": {},
          "execution_count": 136
        }
      ]
    },
    {
      "cell_type": "code",
      "metadata": {
        "colab": {
          "base_uri": "https://localhost:8080/"
        },
        "id": "WiktfqM7jo51",
        "outputId": "82e0e70c-3aad-49cd-c8cb-a381c6128262"
      },
      "source": [
        "for a in range(len(df['processed_tweets'])):\n",
        "\n",
        "  result = remove_emoticons(df['processed_tweets'][a])\n",
        "  df['processed_tweets'][a]=result\n",
        "print(\"No Emoticons:\")\n",
        "print(result)"
      ],
      "execution_count": 137,
      "outputs": [
        {
          "output_type": "stream",
          "name": "stderr",
          "text": [
            "/usr/local/lib/python3.7/dist-packages/ipykernel_launcher.py:4: SettingWithCopyWarning: \n",
            "A value is trying to be set on a copy of a slice from a DataFrame\n",
            "\n",
            "See the caveats in the documentation: https://pandas.pydata.org/pandas-docs/stable/user_guide/indexing.html#returning-a-view-versus-a-copy\n",
            "  after removing the cwd from sys.path.\n"
          ]
        },
        {
          "output_type": "stream",
          "name": "stdout",
          "text": [
            "No Emoticons:\n",
            "good morning everyone welcome to my new followers and    big hug    to everyone  hope your monday morning is moving along spectacularly \n"
          ]
        }
      ]
    },
    {
      "cell_type": "code",
      "metadata": {
        "colab": {
          "base_uri": "https://localhost:8080/",
          "height": 206
        },
        "id": "aRkylyRvkXZr",
        "outputId": "375a4cc7-b190-48e2-f7fa-48c628330613"
      },
      "source": [
        "df.head()"
      ],
      "execution_count": 138,
      "outputs": [
        {
          "output_type": "execute_result",
          "data": {
            "text/plain": [
              "   target                                              tweet  \\\n",
              "0       0  @switchfoot http://twitpic.com/2y1zl - Awww, t...   \n",
              "1       0  is upset that he can't update his Facebook by ...   \n",
              "2       0  @Kenichan I dived many times for the ball. Man...   \n",
              "3       0    my whole body feels itchy and like its on fire    \n",
              "4       0  @nationwideclass no, it's not behaving at all....   \n",
              "\n",
              "                                    processed_tweets  \n",
              "0    awww  thats a bummer  you shoulda got david ...  \n",
              "1  is upset that he cant update his facebook by t...  \n",
              "2  i dived many times for the ball  managed to sa...  \n",
              "3     my whole body feels itchy and like its on fire  \n",
              "4  no  its not behaving at all  im mad  why am i ...  "
            ],
            "text/html": [
              "\n",
              "  <div id=\"df-9306da52-4bf6-48ab-bacb-039e71714aa8\">\n",
              "    <div class=\"colab-df-container\">\n",
              "      <div>\n",
              "<style scoped>\n",
              "    .dataframe tbody tr th:only-of-type {\n",
              "        vertical-align: middle;\n",
              "    }\n",
              "\n",
              "    .dataframe tbody tr th {\n",
              "        vertical-align: top;\n",
              "    }\n",
              "\n",
              "    .dataframe thead th {\n",
              "        text-align: right;\n",
              "    }\n",
              "</style>\n",
              "<table border=\"1\" class=\"dataframe\">\n",
              "  <thead>\n",
              "    <tr style=\"text-align: right;\">\n",
              "      <th></th>\n",
              "      <th>target</th>\n",
              "      <th>tweet</th>\n",
              "      <th>processed_tweets</th>\n",
              "    </tr>\n",
              "  </thead>\n",
              "  <tbody>\n",
              "    <tr>\n",
              "      <th>0</th>\n",
              "      <td>0</td>\n",
              "      <td>@switchfoot http://twitpic.com/2y1zl - Awww, t...</td>\n",
              "      <td>awww  thats a bummer  you shoulda got david ...</td>\n",
              "    </tr>\n",
              "    <tr>\n",
              "      <th>1</th>\n",
              "      <td>0</td>\n",
              "      <td>is upset that he can't update his Facebook by ...</td>\n",
              "      <td>is upset that he cant update his facebook by t...</td>\n",
              "    </tr>\n",
              "    <tr>\n",
              "      <th>2</th>\n",
              "      <td>0</td>\n",
              "      <td>@Kenichan I dived many times for the ball. Man...</td>\n",
              "      <td>i dived many times for the ball  managed to sa...</td>\n",
              "    </tr>\n",
              "    <tr>\n",
              "      <th>3</th>\n",
              "      <td>0</td>\n",
              "      <td>my whole body feels itchy and like its on fire</td>\n",
              "      <td>my whole body feels itchy and like its on fire</td>\n",
              "    </tr>\n",
              "    <tr>\n",
              "      <th>4</th>\n",
              "      <td>0</td>\n",
              "      <td>@nationwideclass no, it's not behaving at all....</td>\n",
              "      <td>no  its not behaving at all  im mad  why am i ...</td>\n",
              "    </tr>\n",
              "  </tbody>\n",
              "</table>\n",
              "</div>\n",
              "      <button class=\"colab-df-convert\" onclick=\"convertToInteractive('df-9306da52-4bf6-48ab-bacb-039e71714aa8')\"\n",
              "              title=\"Convert this dataframe to an interactive table.\"\n",
              "              style=\"display:none;\">\n",
              "        \n",
              "  <svg xmlns=\"http://www.w3.org/2000/svg\" height=\"24px\"viewBox=\"0 0 24 24\"\n",
              "       width=\"24px\">\n",
              "    <path d=\"M0 0h24v24H0V0z\" fill=\"none\"/>\n",
              "    <path d=\"M18.56 5.44l.94 2.06.94-2.06 2.06-.94-2.06-.94-.94-2.06-.94 2.06-2.06.94zm-11 1L8.5 8.5l.94-2.06 2.06-.94-2.06-.94L8.5 2.5l-.94 2.06-2.06.94zm10 10l.94 2.06.94-2.06 2.06-.94-2.06-.94-.94-2.06-.94 2.06-2.06.94z\"/><path d=\"M17.41 7.96l-1.37-1.37c-.4-.4-.92-.59-1.43-.59-.52 0-1.04.2-1.43.59L10.3 9.45l-7.72 7.72c-.78.78-.78 2.05 0 2.83L4 21.41c.39.39.9.59 1.41.59.51 0 1.02-.2 1.41-.59l7.78-7.78 2.81-2.81c.8-.78.8-2.07 0-2.86zM5.41 20L4 18.59l7.72-7.72 1.47 1.35L5.41 20z\"/>\n",
              "  </svg>\n",
              "      </button>\n",
              "      \n",
              "  <style>\n",
              "    .colab-df-container {\n",
              "      display:flex;\n",
              "      flex-wrap:wrap;\n",
              "      gap: 12px;\n",
              "    }\n",
              "\n",
              "    .colab-df-convert {\n",
              "      background-color: #E8F0FE;\n",
              "      border: none;\n",
              "      border-radius: 50%;\n",
              "      cursor: pointer;\n",
              "      display: none;\n",
              "      fill: #1967D2;\n",
              "      height: 32px;\n",
              "      padding: 0 0 0 0;\n",
              "      width: 32px;\n",
              "    }\n",
              "\n",
              "    .colab-df-convert:hover {\n",
              "      background-color: #E2EBFA;\n",
              "      box-shadow: 0px 1px 2px rgba(60, 64, 67, 0.3), 0px 1px 3px 1px rgba(60, 64, 67, 0.15);\n",
              "      fill: #174EA6;\n",
              "    }\n",
              "\n",
              "    [theme=dark] .colab-df-convert {\n",
              "      background-color: #3B4455;\n",
              "      fill: #D2E3FC;\n",
              "    }\n",
              "\n",
              "    [theme=dark] .colab-df-convert:hover {\n",
              "      background-color: #434B5C;\n",
              "      box-shadow: 0px 1px 3px 1px rgba(0, 0, 0, 0.15);\n",
              "      filter: drop-shadow(0px 1px 2px rgba(0, 0, 0, 0.3));\n",
              "      fill: #FFFFFF;\n",
              "    }\n",
              "  </style>\n",
              "\n",
              "      <script>\n",
              "        const buttonEl =\n",
              "          document.querySelector('#df-9306da52-4bf6-48ab-bacb-039e71714aa8 button.colab-df-convert');\n",
              "        buttonEl.style.display =\n",
              "          google.colab.kernel.accessAllowed ? 'block' : 'none';\n",
              "\n",
              "        async function convertToInteractive(key) {\n",
              "          const element = document.querySelector('#df-9306da52-4bf6-48ab-bacb-039e71714aa8');\n",
              "          const dataTable =\n",
              "            await google.colab.kernel.invokeFunction('convertToInteractive',\n",
              "                                                     [key], {});\n",
              "          if (!dataTable) return;\n",
              "\n",
              "          const docLinkHtml = 'Like what you see? Visit the ' +\n",
              "            '<a target=\"_blank\" href=https://colab.research.google.com/notebooks/data_table.ipynb>data table notebook</a>'\n",
              "            + ' to learn more about interactive tables.';\n",
              "          element.innerHTML = '';\n",
              "          dataTable['output_type'] = 'display_data';\n",
              "          await google.colab.output.renderOutput(dataTable, element);\n",
              "          const docLink = document.createElement('div');\n",
              "          docLink.innerHTML = docLinkHtml;\n",
              "          element.appendChild(docLink);\n",
              "        }\n",
              "      </script>\n",
              "    </div>\n",
              "  </div>\n",
              "  "
            ]
          },
          "metadata": {},
          "execution_count": 138
        }
      ]
    },
    {
      "cell_type": "code",
      "metadata": {
        "colab": {
          "base_uri": "https://localhost:8080/"
        },
        "id": "unXrFpbpkyFN",
        "outputId": "d3bec71e-9292-4033-8a64-fa8bcb70ce15"
      },
      "source": [
        "df.isna().sum()"
      ],
      "execution_count": 139,
      "outputs": [
        {
          "output_type": "execute_result",
          "data": {
            "text/plain": [
              "target              0\n",
              "tweet               0\n",
              "processed_tweets    0\n",
              "dtype: int64"
            ]
          },
          "metadata": {},
          "execution_count": 139
        }
      ]
    },
    {
      "cell_type": "markdown",
      "metadata": {
        "id": "wBS-rS14lVGo"
      },
      "source": [
        "### **Labelling the target fileds**"
      ]
    },
    {
      "cell_type": "code",
      "metadata": {
        "colab": {
          "base_uri": "https://localhost:8080/"
        },
        "id": "rEteaEmDk7nq",
        "outputId": "0d141f10-02e8-4aed-9227-eea662730ca0"
      },
      "source": [
        "df['target'].value_counts()"
      ],
      "execution_count": 140,
      "outputs": [
        {
          "output_type": "execute_result",
          "data": {
            "text/plain": [
              "4    74609\n",
              "0    53192\n",
              "Name: target, dtype: int64"
            ]
          },
          "metadata": {},
          "execution_count": 140
        }
      ]
    },
    {
      "cell_type": "markdown",
      "metadata": {
        "id": "qiXm8TK2lr8S"
      },
      "source": [
        "0 --> negative, \n",
        "\n",
        "4 --> Positive"
      ]
    },
    {
      "cell_type": "code",
      "metadata": {
        "colab": {
          "base_uri": "https://localhost:8080/"
        },
        "id": "mR8RpXFZlkGJ",
        "outputId": "ed361f73-8c9f-4f1c-afe7-0f2c0fbe350b"
      },
      "source": [
        "df['Target']=df['target'].replace(4,1) # replacing 4,1 with 1,0 1 represent the +ve tweet\n",
        "df['Target'].value_counts()"
      ],
      "execution_count": 141,
      "outputs": [
        {
          "output_type": "execute_result",
          "data": {
            "text/plain": [
              "1    74609\n",
              "0    53192\n",
              "Name: Target, dtype: int64"
            ]
          },
          "metadata": {},
          "execution_count": 141
        }
      ]
    },
    {
      "cell_type": "markdown",
      "metadata": {
        "id": "lLEdpoqAl8SB"
      },
      "source": [
        "0 --> negative, \n",
        "\n",
        "1 --> Positive"
      ]
    },
    {
      "cell_type": "markdown",
      "metadata": {
        "id": "bOaI62jlygrL"
      },
      "source": [
        "[Reference for maxlen](https://stackoverflow.com/questions/42943291/what-does-keras-io-preprocessing-sequence-pad-sequences-do)"
      ]
    },
    {
      "cell_type": "code",
      "metadata": {
        "id": "DXgoeWUV66Jm"
      },
      "source": [
        "import os\n",
        "import re\n",
        "\n",
        "import numpy as np\n",
        "import tensorflow as tf\n",
        "\n",
        "# np.random.seed(1)\n",
        "# tf.set_random_seed(2)\n",
        "\n",
        "import pandas as pd\n",
        "import keras\n",
        "# from tqdm import tqdm\n",
        "from tqdm import tqdm_notebook as tqdm\n",
        "from sklearn.model_selection import train_test_split\n",
        "from sklearn.preprocessing import LabelEncoder\n",
        "from sklearn.utils import class_weight\n",
        "from sklearn.metrics import f1_score, classification_report, log_loss\n",
        "\n",
        "from keras.preprocessing.text import Tokenizer\n",
        "from keras.preprocessing.sequence import pad_sequences\n",
        "# from keras.utils import to_categorical\n",
        "from tensorflow.keras.utils import to_categorical\n",
        "\n",
        "from keras.models import Sequential\n",
        "from keras.layers import Embedding, LSTM, Dense, SpatialDropout1D, Bidirectional, Flatten\n",
        "from keras.layers import Dropout, Conv1D, GlobalMaxPool1D, GRU, GlobalAvgPool1D\n",
        "# from keras.optimizers import Adam\n",
        "from keras.callbacks import ModelCheckpoint, EarlyStopping"
      ],
      "execution_count": 142,
      "outputs": []
    },
    {
      "cell_type": "markdown",
      "metadata": {
        "id": "0ngVo1Njym2q"
      },
      "source": [
        "###**Stop words**"
      ]
    },
    {
      "cell_type": "code",
      "metadata": {
        "id": "AHYkMlsIyQxL"
      },
      "source": [
        "stopwordlist = ['a', 'about', 'above', 'after', 'again', 'ain', 'all', 'am', 'an',\n",
        "             'and','any','are', 'as', 'at', 'be', 'because', 'been', 'before',\n",
        "             'being', 'below', 'between','both', 'by', 'can', 'd', 'did', 'do',\n",
        "             'does', 'doing', 'down', 'during', 'each','few', 'for', 'from',\n",
        "             'further', 'had', 'has', 'have', 'having', 'he', 'her', 'here',\n",
        "             'hers', 'herself', 'him', 'himself', 'his', 'how', 'i', 'if', 'in',\n",
        "             'into','is', 'it', 'its', 'itself', 'just', 'll', 'm', 'ma',\n",
        "             'me', 'more', 'most','my', 'myself', 'now', 'o', 'of', 'on', 'once',\n",
        "             'only', 'or', 'other', 'our', 'ours','ourselves', 'out', 'own', 're','s', 'same', 'she', \"shes\", 'should', \"shouldve\",'so', 'some', 'such',\n",
        "             't', 'than', 'that', \"thatll\", 'the', 'their', 'theirs', 'them',\n",
        "             'themselves', 'then', 'there', 'these', 'they', 'this', 'those',\n",
        "             'through', 'to', 'too','under', 'until', 'up', 've', 'very', 'was',\n",
        "             'we', 'were', 'what', 'when', 'where','which','while', 'who', 'whom',\n",
        "             'why', 'will', 'with', 'won', 'y', 'you', \"youd\",\"youll\", \"youre\",\n",
        "             \"youve\", 'your', 'yours', 'yourself', 'yourselves']"
      ],
      "execution_count": 143,
      "outputs": []
    },
    {
      "cell_type": "code",
      "metadata": {
        "colab": {
          "base_uri": "https://localhost:8080/"
        },
        "id": "uDsYr2jOyTZY",
        "outputId": "c337818f-5877-4877-a082-c4918561046c"
      },
      "source": [
        "STOPWORDS = set(stopwordlist)\n",
        "def cleaning_stopwords(text):\n",
        "    return \" \".join([word for word in str(text).split() if word not in STOPWORDS])\n",
        "\n",
        "\n",
        " #apply function   \n",
        "df['processed_tweets'] = df['processed_tweets'].apply(lambda text: cleaning_stopwords(text))\n",
        "df['processed_tweets'].head()"
      ],
      "execution_count": 144,
      "outputs": [
        {
          "output_type": "execute_result",
          "data": {
            "text/plain": [
              "0    awww thats bummer shoulda got david carr third...\n",
              "1    upset cant update facebook texting might cry r...\n",
              "2    dived many times ball managed save 50 rest go ...\n",
              "3                     whole body feels itchy like fire\n",
              "4                 no not behaving im mad cant see over\n",
              "Name: processed_tweets, dtype: object"
            ]
          },
          "metadata": {},
          "execution_count": 144
        }
      ]
    },
    {
      "cell_type": "code",
      "metadata": {
        "colab": {
          "base_uri": "https://localhost:8080/",
          "height": 424
        },
        "id": "4EWzYdIsxcN2",
        "outputId": "c4806c56-a55c-469e-bffa-fc61b253e32b"
      },
      "source": [
        "dataset = df.drop('tweet',axis=1)\n",
        "dataset"
      ],
      "execution_count": 145,
      "outputs": [
        {
          "output_type": "execute_result",
          "data": {
            "text/plain": [
              "        target                                   processed_tweets  Target\n",
              "0            0  awww thats bummer shoulda got david carr third...       0\n",
              "1            0  upset cant update facebook texting might cry r...       0\n",
              "2            0  dived many times ball managed save 50 rest go ...       0\n",
              "3            0                   whole body feels itchy like fire       0\n",
              "4            0               no not behaving im mad cant see over       0\n",
              "...        ...                                                ...     ...\n",
              "127796       4                                 congrats followers       1\n",
              "127797       4                          back dat ass full service       1\n",
              "127798       4                school 12 minutes get picked morgan       1\n",
              "127799       4                                         sounds fun       1\n",
              "127800       4  good morning everyone welcome new followers bi...       1\n",
              "\n",
              "[127801 rows x 3 columns]"
            ],
            "text/html": [
              "\n",
              "  <div id=\"df-69f7b19e-45f7-4de5-87f0-282ff652831e\">\n",
              "    <div class=\"colab-df-container\">\n",
              "      <div>\n",
              "<style scoped>\n",
              "    .dataframe tbody tr th:only-of-type {\n",
              "        vertical-align: middle;\n",
              "    }\n",
              "\n",
              "    .dataframe tbody tr th {\n",
              "        vertical-align: top;\n",
              "    }\n",
              "\n",
              "    .dataframe thead th {\n",
              "        text-align: right;\n",
              "    }\n",
              "</style>\n",
              "<table border=\"1\" class=\"dataframe\">\n",
              "  <thead>\n",
              "    <tr style=\"text-align: right;\">\n",
              "      <th></th>\n",
              "      <th>target</th>\n",
              "      <th>processed_tweets</th>\n",
              "      <th>Target</th>\n",
              "    </tr>\n",
              "  </thead>\n",
              "  <tbody>\n",
              "    <tr>\n",
              "      <th>0</th>\n",
              "      <td>0</td>\n",
              "      <td>awww thats bummer shoulda got david carr third...</td>\n",
              "      <td>0</td>\n",
              "    </tr>\n",
              "    <tr>\n",
              "      <th>1</th>\n",
              "      <td>0</td>\n",
              "      <td>upset cant update facebook texting might cry r...</td>\n",
              "      <td>0</td>\n",
              "    </tr>\n",
              "    <tr>\n",
              "      <th>2</th>\n",
              "      <td>0</td>\n",
              "      <td>dived many times ball managed save 50 rest go ...</td>\n",
              "      <td>0</td>\n",
              "    </tr>\n",
              "    <tr>\n",
              "      <th>3</th>\n",
              "      <td>0</td>\n",
              "      <td>whole body feels itchy like fire</td>\n",
              "      <td>0</td>\n",
              "    </tr>\n",
              "    <tr>\n",
              "      <th>4</th>\n",
              "      <td>0</td>\n",
              "      <td>no not behaving im mad cant see over</td>\n",
              "      <td>0</td>\n",
              "    </tr>\n",
              "    <tr>\n",
              "      <th>...</th>\n",
              "      <td>...</td>\n",
              "      <td>...</td>\n",
              "      <td>...</td>\n",
              "    </tr>\n",
              "    <tr>\n",
              "      <th>127796</th>\n",
              "      <td>4</td>\n",
              "      <td>congrats followers</td>\n",
              "      <td>1</td>\n",
              "    </tr>\n",
              "    <tr>\n",
              "      <th>127797</th>\n",
              "      <td>4</td>\n",
              "      <td>back dat ass full service</td>\n",
              "      <td>1</td>\n",
              "    </tr>\n",
              "    <tr>\n",
              "      <th>127798</th>\n",
              "      <td>4</td>\n",
              "      <td>school 12 minutes get picked morgan</td>\n",
              "      <td>1</td>\n",
              "    </tr>\n",
              "    <tr>\n",
              "      <th>127799</th>\n",
              "      <td>4</td>\n",
              "      <td>sounds fun</td>\n",
              "      <td>1</td>\n",
              "    </tr>\n",
              "    <tr>\n",
              "      <th>127800</th>\n",
              "      <td>4</td>\n",
              "      <td>good morning everyone welcome new followers bi...</td>\n",
              "      <td>1</td>\n",
              "    </tr>\n",
              "  </tbody>\n",
              "</table>\n",
              "<p>127801 rows × 3 columns</p>\n",
              "</div>\n",
              "      <button class=\"colab-df-convert\" onclick=\"convertToInteractive('df-69f7b19e-45f7-4de5-87f0-282ff652831e')\"\n",
              "              title=\"Convert this dataframe to an interactive table.\"\n",
              "              style=\"display:none;\">\n",
              "        \n",
              "  <svg xmlns=\"http://www.w3.org/2000/svg\" height=\"24px\"viewBox=\"0 0 24 24\"\n",
              "       width=\"24px\">\n",
              "    <path d=\"M0 0h24v24H0V0z\" fill=\"none\"/>\n",
              "    <path d=\"M18.56 5.44l.94 2.06.94-2.06 2.06-.94-2.06-.94-.94-2.06-.94 2.06-2.06.94zm-11 1L8.5 8.5l.94-2.06 2.06-.94-2.06-.94L8.5 2.5l-.94 2.06-2.06.94zm10 10l.94 2.06.94-2.06 2.06-.94-2.06-.94-.94-2.06-.94 2.06-2.06.94z\"/><path d=\"M17.41 7.96l-1.37-1.37c-.4-.4-.92-.59-1.43-.59-.52 0-1.04.2-1.43.59L10.3 9.45l-7.72 7.72c-.78.78-.78 2.05 0 2.83L4 21.41c.39.39.9.59 1.41.59.51 0 1.02-.2 1.41-.59l7.78-7.78 2.81-2.81c.8-.78.8-2.07 0-2.86zM5.41 20L4 18.59l7.72-7.72 1.47 1.35L5.41 20z\"/>\n",
              "  </svg>\n",
              "      </button>\n",
              "      \n",
              "  <style>\n",
              "    .colab-df-container {\n",
              "      display:flex;\n",
              "      flex-wrap:wrap;\n",
              "      gap: 12px;\n",
              "    }\n",
              "\n",
              "    .colab-df-convert {\n",
              "      background-color: #E8F0FE;\n",
              "      border: none;\n",
              "      border-radius: 50%;\n",
              "      cursor: pointer;\n",
              "      display: none;\n",
              "      fill: #1967D2;\n",
              "      height: 32px;\n",
              "      padding: 0 0 0 0;\n",
              "      width: 32px;\n",
              "    }\n",
              "\n",
              "    .colab-df-convert:hover {\n",
              "      background-color: #E2EBFA;\n",
              "      box-shadow: 0px 1px 2px rgba(60, 64, 67, 0.3), 0px 1px 3px 1px rgba(60, 64, 67, 0.15);\n",
              "      fill: #174EA6;\n",
              "    }\n",
              "\n",
              "    [theme=dark] .colab-df-convert {\n",
              "      background-color: #3B4455;\n",
              "      fill: #D2E3FC;\n",
              "    }\n",
              "\n",
              "    [theme=dark] .colab-df-convert:hover {\n",
              "      background-color: #434B5C;\n",
              "      box-shadow: 0px 1px 3px 1px rgba(0, 0, 0, 0.15);\n",
              "      filter: drop-shadow(0px 1px 2px rgba(0, 0, 0, 0.3));\n",
              "      fill: #FFFFFF;\n",
              "    }\n",
              "  </style>\n",
              "\n",
              "      <script>\n",
              "        const buttonEl =\n",
              "          document.querySelector('#df-69f7b19e-45f7-4de5-87f0-282ff652831e button.colab-df-convert');\n",
              "        buttonEl.style.display =\n",
              "          google.colab.kernel.accessAllowed ? 'block' : 'none';\n",
              "\n",
              "        async function convertToInteractive(key) {\n",
              "          const element = document.querySelector('#df-69f7b19e-45f7-4de5-87f0-282ff652831e');\n",
              "          const dataTable =\n",
              "            await google.colab.kernel.invokeFunction('convertToInteractive',\n",
              "                                                     [key], {});\n",
              "          if (!dataTable) return;\n",
              "\n",
              "          const docLinkHtml = 'Like what you see? Visit the ' +\n",
              "            '<a target=\"_blank\" href=https://colab.research.google.com/notebooks/data_table.ipynb>data table notebook</a>'\n",
              "            + ' to learn more about interactive tables.';\n",
              "          element.innerHTML = '';\n",
              "          dataTable['output_type'] = 'display_data';\n",
              "          await google.colab.output.renderOutput(dataTable, element);\n",
              "          const docLink = document.createElement('div');\n",
              "          docLink.innerHTML = docLinkHtml;\n",
              "          element.appendChild(docLink);\n",
              "        }\n",
              "      </script>\n",
              "    </div>\n",
              "  </div>\n",
              "  "
            ]
          },
          "metadata": {},
          "execution_count": 145
        }
      ]
    },
    {
      "cell_type": "markdown",
      "metadata": {
        "id": "ALdUTlnh_qGc"
      },
      "source": [
        "###**Stemming**"
      ]
    },
    {
      "cell_type": "code",
      "metadata": {
        "id": "dkVYj9os_hTZ",
        "outputId": "11d4209a-e08e-4261-dbce-cd13483312d1",
        "colab": {
          "base_uri": "https://localhost:8080/"
        }
      },
      "source": [
        "import nltk\n",
        "st = nltk.PorterStemmer()\n",
        "def stemming_on_text(data):\n",
        "    text = [st.stem(word) for word in data]\n",
        "    return data\n",
        "df['processed_tweets']= df['processed_tweets'].apply(lambda x: stemming_on_text(x))\n",
        "df['processed_tweets'].head()"
      ],
      "execution_count": 146,
      "outputs": [
        {
          "output_type": "execute_result",
          "data": {
            "text/plain": [
              "0    awww thats bummer shoulda got david carr third...\n",
              "1    upset cant update facebook texting might cry r...\n",
              "2    dived many times ball managed save 50 rest go ...\n",
              "3                     whole body feels itchy like fire\n",
              "4                 no not behaving im mad cant see over\n",
              "Name: processed_tweets, dtype: object"
            ]
          },
          "metadata": {},
          "execution_count": 146
        }
      ]
    },
    {
      "cell_type": "markdown",
      "metadata": {
        "id": "3r765q1a_sEa"
      },
      "source": [
        "###**Lammentization**"
      ]
    },
    {
      "cell_type": "code",
      "metadata": {
        "id": "aKpHJhUE_6TM"
      },
      "source": [],
      "execution_count": 146,
      "outputs": []
    },
    {
      "cell_type": "code",
      "metadata": {
        "colab": {
          "base_uri": "https://localhost:8080/"
        },
        "id": "xTXfD-qn_xG2",
        "outputId": "56777b5b-93d2-4180-db25-7e28083657a9"
      },
      "source": [
        "# import nltk\n",
        "# nltk.download('wordnet')\n",
        "import nltk\n",
        "nltk.download('all')\n",
        "\n",
        "lm = nltk.WordNetLemmatizer()\n",
        "def lemmatizer_on_text(data):\n",
        "    text = [lm.lemmatize(word) for word in data]\n",
        "    return data\n",
        "df['processed_tweets'] = df['processed_tweets'].apply(lambda x: lemmatizer_on_text(x))\n",
        "df['processed_tweets'].head()"
      ],
      "execution_count": 147,
      "outputs": [
        {
          "output_type": "stream",
          "name": "stderr",
          "text": [
            "[nltk_data] Downloading collection 'all'\n",
            "[nltk_data]    | \n",
            "[nltk_data]    | Downloading package abc to /root/nltk_data...\n",
            "[nltk_data]    |   Package abc is already up-to-date!\n",
            "[nltk_data]    | Downloading package alpino to /root/nltk_data...\n",
            "[nltk_data]    |   Package alpino is already up-to-date!\n",
            "[nltk_data]    | Downloading package averaged_perceptron_tagger to\n",
            "[nltk_data]    |     /root/nltk_data...\n",
            "[nltk_data]    |   Package averaged_perceptron_tagger is already up-\n",
            "[nltk_data]    |       to-date!\n",
            "[nltk_data]    | Downloading package averaged_perceptron_tagger_ru to\n",
            "[nltk_data]    |     /root/nltk_data...\n",
            "[nltk_data]    |   Package averaged_perceptron_tagger_ru is already\n",
            "[nltk_data]    |       up-to-date!\n",
            "[nltk_data]    | Downloading package basque_grammars to\n",
            "[nltk_data]    |     /root/nltk_data...\n",
            "[nltk_data]    |   Package basque_grammars is already up-to-date!\n",
            "[nltk_data]    | Downloading package biocreative_ppi to\n",
            "[nltk_data]    |     /root/nltk_data...\n",
            "[nltk_data]    |   Package biocreative_ppi is already up-to-date!\n",
            "[nltk_data]    | Downloading package bllip_wsj_no_aux to\n",
            "[nltk_data]    |     /root/nltk_data...\n",
            "[nltk_data]    |   Package bllip_wsj_no_aux is already up-to-date!\n",
            "[nltk_data]    | Downloading package book_grammars to\n",
            "[nltk_data]    |     /root/nltk_data...\n",
            "[nltk_data]    |   Package book_grammars is already up-to-date!\n",
            "[nltk_data]    | Downloading package brown to /root/nltk_data...\n",
            "[nltk_data]    |   Package brown is already up-to-date!\n",
            "[nltk_data]    | Downloading package brown_tei to /root/nltk_data...\n",
            "[nltk_data]    |   Package brown_tei is already up-to-date!\n",
            "[nltk_data]    | Downloading package cess_cat to /root/nltk_data...\n",
            "[nltk_data]    |   Package cess_cat is already up-to-date!\n",
            "[nltk_data]    | Downloading package cess_esp to /root/nltk_data...\n",
            "[nltk_data]    |   Package cess_esp is already up-to-date!\n",
            "[nltk_data]    | Downloading package chat80 to /root/nltk_data...\n",
            "[nltk_data]    |   Package chat80 is already up-to-date!\n",
            "[nltk_data]    | Downloading package city_database to\n",
            "[nltk_data]    |     /root/nltk_data...\n",
            "[nltk_data]    |   Package city_database is already up-to-date!\n",
            "[nltk_data]    | Downloading package cmudict to /root/nltk_data...\n",
            "[nltk_data]    |   Package cmudict is already up-to-date!\n",
            "[nltk_data]    | Downloading package comparative_sentences to\n",
            "[nltk_data]    |     /root/nltk_data...\n",
            "[nltk_data]    |   Package comparative_sentences is already up-to-\n",
            "[nltk_data]    |       date!\n",
            "[nltk_data]    | Downloading package comtrans to /root/nltk_data...\n",
            "[nltk_data]    |   Package comtrans is already up-to-date!\n",
            "[nltk_data]    | Downloading package conll2000 to /root/nltk_data...\n",
            "[nltk_data]    |   Package conll2000 is already up-to-date!\n",
            "[nltk_data]    | Downloading package conll2002 to /root/nltk_data...\n",
            "[nltk_data]    |   Package conll2002 is already up-to-date!\n",
            "[nltk_data]    | Downloading package conll2007 to /root/nltk_data...\n",
            "[nltk_data]    |   Package conll2007 is already up-to-date!\n",
            "[nltk_data]    | Downloading package crubadan to /root/nltk_data...\n",
            "[nltk_data]    |   Package crubadan is already up-to-date!\n",
            "[nltk_data]    | Downloading package dependency_treebank to\n",
            "[nltk_data]    |     /root/nltk_data...\n",
            "[nltk_data]    |   Package dependency_treebank is already up-to-date!\n",
            "[nltk_data]    | Downloading package dolch to /root/nltk_data...\n",
            "[nltk_data]    |   Package dolch is already up-to-date!\n",
            "[nltk_data]    | Downloading package europarl_raw to\n",
            "[nltk_data]    |     /root/nltk_data...\n",
            "[nltk_data]    |   Package europarl_raw is already up-to-date!\n",
            "[nltk_data]    | Downloading package extended_omw to\n",
            "[nltk_data]    |     /root/nltk_data...\n",
            "[nltk_data]    |   Package extended_omw is already up-to-date!\n",
            "[nltk_data]    | Downloading package floresta to /root/nltk_data...\n",
            "[nltk_data]    |   Package floresta is already up-to-date!\n",
            "[nltk_data]    | Downloading package framenet_v15 to\n",
            "[nltk_data]    |     /root/nltk_data...\n",
            "[nltk_data]    |   Package framenet_v15 is already up-to-date!\n",
            "[nltk_data]    | Downloading package framenet_v17 to\n",
            "[nltk_data]    |     /root/nltk_data...\n",
            "[nltk_data]    |   Package framenet_v17 is already up-to-date!\n",
            "[nltk_data]    | Downloading package gazetteers to /root/nltk_data...\n",
            "[nltk_data]    |   Package gazetteers is already up-to-date!\n",
            "[nltk_data]    | Downloading package genesis to /root/nltk_data...\n",
            "[nltk_data]    |   Package genesis is already up-to-date!\n",
            "[nltk_data]    | Downloading package gutenberg to /root/nltk_data...\n",
            "[nltk_data]    |   Package gutenberg is already up-to-date!\n",
            "[nltk_data]    | Downloading package ieer to /root/nltk_data...\n",
            "[nltk_data]    |   Package ieer is already up-to-date!\n",
            "[nltk_data]    | Downloading package inaugural to /root/nltk_data...\n",
            "[nltk_data]    |   Package inaugural is already up-to-date!\n",
            "[nltk_data]    | Downloading package indian to /root/nltk_data...\n",
            "[nltk_data]    |   Package indian is already up-to-date!\n",
            "[nltk_data]    | Downloading package jeita to /root/nltk_data...\n",
            "[nltk_data]    |   Package jeita is already up-to-date!\n",
            "[nltk_data]    | Downloading package kimmo to /root/nltk_data...\n",
            "[nltk_data]    |   Package kimmo is already up-to-date!\n",
            "[nltk_data]    | Downloading package knbc to /root/nltk_data...\n",
            "[nltk_data]    |   Package knbc is already up-to-date!\n",
            "[nltk_data]    | Downloading package large_grammars to\n",
            "[nltk_data]    |     /root/nltk_data...\n",
            "[nltk_data]    |   Package large_grammars is already up-to-date!\n",
            "[nltk_data]    | Downloading package lin_thesaurus to\n",
            "[nltk_data]    |     /root/nltk_data...\n",
            "[nltk_data]    |   Package lin_thesaurus is already up-to-date!\n",
            "[nltk_data]    | Downloading package mac_morpho to /root/nltk_data...\n",
            "[nltk_data]    |   Package mac_morpho is already up-to-date!\n",
            "[nltk_data]    | Downloading package machado to /root/nltk_data...\n",
            "[nltk_data]    |   Package machado is already up-to-date!\n",
            "[nltk_data]    | Downloading package masc_tagged to /root/nltk_data...\n",
            "[nltk_data]    |   Package masc_tagged is already up-to-date!\n",
            "[nltk_data]    | Downloading package maxent_ne_chunker to\n",
            "[nltk_data]    |     /root/nltk_data...\n",
            "[nltk_data]    |   Package maxent_ne_chunker is already up-to-date!\n",
            "[nltk_data]    | Downloading package maxent_treebank_pos_tagger to\n",
            "[nltk_data]    |     /root/nltk_data...\n",
            "[nltk_data]    |   Package maxent_treebank_pos_tagger is already up-\n",
            "[nltk_data]    |       to-date!\n",
            "[nltk_data]    | Downloading package moses_sample to\n",
            "[nltk_data]    |     /root/nltk_data...\n",
            "[nltk_data]    |   Package moses_sample is already up-to-date!\n",
            "[nltk_data]    | Downloading package movie_reviews to\n",
            "[nltk_data]    |     /root/nltk_data...\n",
            "[nltk_data]    |   Package movie_reviews is already up-to-date!\n",
            "[nltk_data]    | Downloading package mte_teip5 to /root/nltk_data...\n",
            "[nltk_data]    |   Package mte_teip5 is already up-to-date!\n",
            "[nltk_data]    | Downloading package mwa_ppdb to /root/nltk_data...\n",
            "[nltk_data]    |   Package mwa_ppdb is already up-to-date!\n",
            "[nltk_data]    | Downloading package names to /root/nltk_data...\n",
            "[nltk_data]    |   Package names is already up-to-date!\n",
            "[nltk_data]    | Downloading package nombank.1.0 to /root/nltk_data...\n",
            "[nltk_data]    |   Package nombank.1.0 is already up-to-date!\n",
            "[nltk_data]    | Downloading package nonbreaking_prefixes to\n",
            "[nltk_data]    |     /root/nltk_data...\n",
            "[nltk_data]    |   Package nonbreaking_prefixes is already up-to-date!\n",
            "[nltk_data]    | Downloading package nps_chat to /root/nltk_data...\n",
            "[nltk_data]    |   Package nps_chat is already up-to-date!\n",
            "[nltk_data]    | Downloading package omw to /root/nltk_data...\n",
            "[nltk_data]    |   Package omw is already up-to-date!\n",
            "[nltk_data]    | Downloading package omw-1.4 to /root/nltk_data...\n",
            "[nltk_data]    |   Package omw-1.4 is already up-to-date!\n",
            "[nltk_data]    | Downloading package opinion_lexicon to\n",
            "[nltk_data]    |     /root/nltk_data...\n",
            "[nltk_data]    |   Package opinion_lexicon is already up-to-date!\n",
            "[nltk_data]    | Downloading package panlex_swadesh to\n",
            "[nltk_data]    |     /root/nltk_data...\n",
            "[nltk_data]    |   Package panlex_swadesh is already up-to-date!\n",
            "[nltk_data]    | Downloading package paradigms to /root/nltk_data...\n",
            "[nltk_data]    |   Package paradigms is already up-to-date!\n",
            "[nltk_data]    | Downloading package pe08 to /root/nltk_data...\n",
            "[nltk_data]    |   Package pe08 is already up-to-date!\n",
            "[nltk_data]    | Downloading package perluniprops to\n",
            "[nltk_data]    |     /root/nltk_data...\n",
            "[nltk_data]    |   Package perluniprops is already up-to-date!\n",
            "[nltk_data]    | Downloading package pil to /root/nltk_data...\n",
            "[nltk_data]    |   Package pil is already up-to-date!\n",
            "[nltk_data]    | Downloading package pl196x to /root/nltk_data...\n",
            "[nltk_data]    |   Package pl196x is already up-to-date!\n",
            "[nltk_data]    | Downloading package porter_test to /root/nltk_data...\n",
            "[nltk_data]    |   Package porter_test is already up-to-date!\n",
            "[nltk_data]    | Downloading package ppattach to /root/nltk_data...\n",
            "[nltk_data]    |   Package ppattach is already up-to-date!\n",
            "[nltk_data]    | Downloading package problem_reports to\n",
            "[nltk_data]    |     /root/nltk_data...\n",
            "[nltk_data]    |   Package problem_reports is already up-to-date!\n",
            "[nltk_data]    | Downloading package product_reviews_1 to\n",
            "[nltk_data]    |     /root/nltk_data...\n",
            "[nltk_data]    |   Package product_reviews_1 is already up-to-date!\n",
            "[nltk_data]    | Downloading package product_reviews_2 to\n",
            "[nltk_data]    |     /root/nltk_data...\n",
            "[nltk_data]    |   Package product_reviews_2 is already up-to-date!\n",
            "[nltk_data]    | Downloading package propbank to /root/nltk_data...\n",
            "[nltk_data]    |   Package propbank is already up-to-date!\n",
            "[nltk_data]    | Downloading package pros_cons to /root/nltk_data...\n",
            "[nltk_data]    |   Package pros_cons is already up-to-date!\n",
            "[nltk_data]    | Downloading package ptb to /root/nltk_data...\n",
            "[nltk_data]    |   Package ptb is already up-to-date!\n",
            "[nltk_data]    | Downloading package punkt to /root/nltk_data...\n",
            "[nltk_data]    |   Package punkt is already up-to-date!\n",
            "[nltk_data]    | Downloading package qc to /root/nltk_data...\n",
            "[nltk_data]    |   Package qc is already up-to-date!\n",
            "[nltk_data]    | Downloading package reuters to /root/nltk_data...\n",
            "[nltk_data]    |   Package reuters is already up-to-date!\n",
            "[nltk_data]    | Downloading package rslp to /root/nltk_data...\n",
            "[nltk_data]    |   Package rslp is already up-to-date!\n",
            "[nltk_data]    | Downloading package rte to /root/nltk_data...\n",
            "[nltk_data]    |   Package rte is already up-to-date!\n",
            "[nltk_data]    | Downloading package sample_grammars to\n",
            "[nltk_data]    |     /root/nltk_data...\n",
            "[nltk_data]    |   Package sample_grammars is already up-to-date!\n",
            "[nltk_data]    | Downloading package semcor to /root/nltk_data...\n",
            "[nltk_data]    |   Package semcor is already up-to-date!\n",
            "[nltk_data]    | Downloading package senseval to /root/nltk_data...\n",
            "[nltk_data]    |   Package senseval is already up-to-date!\n",
            "[nltk_data]    | Downloading package sentence_polarity to\n",
            "[nltk_data]    |     /root/nltk_data...\n",
            "[nltk_data]    |   Package sentence_polarity is already up-to-date!\n",
            "[nltk_data]    | Downloading package sentiwordnet to\n",
            "[nltk_data]    |     /root/nltk_data...\n",
            "[nltk_data]    |   Package sentiwordnet is already up-to-date!\n",
            "[nltk_data]    | Downloading package shakespeare to /root/nltk_data...\n",
            "[nltk_data]    |   Package shakespeare is already up-to-date!\n",
            "[nltk_data]    | Downloading package sinica_treebank to\n",
            "[nltk_data]    |     /root/nltk_data...\n",
            "[nltk_data]    |   Package sinica_treebank is already up-to-date!\n",
            "[nltk_data]    | Downloading package smultron to /root/nltk_data...\n",
            "[nltk_data]    |   Package smultron is already up-to-date!\n",
            "[nltk_data]    | Downloading package snowball_data to\n",
            "[nltk_data]    |     /root/nltk_data...\n",
            "[nltk_data]    |   Package snowball_data is already up-to-date!\n",
            "[nltk_data]    | Downloading package spanish_grammars to\n",
            "[nltk_data]    |     /root/nltk_data...\n",
            "[nltk_data]    |   Package spanish_grammars is already up-to-date!\n",
            "[nltk_data]    | Downloading package state_union to /root/nltk_data...\n",
            "[nltk_data]    |   Package state_union is already up-to-date!\n",
            "[nltk_data]    | Downloading package stopwords to /root/nltk_data...\n",
            "[nltk_data]    |   Package stopwords is already up-to-date!\n",
            "[nltk_data]    | Downloading package subjectivity to\n",
            "[nltk_data]    |     /root/nltk_data...\n",
            "[nltk_data]    |   Package subjectivity is already up-to-date!\n",
            "[nltk_data]    | Downloading package swadesh to /root/nltk_data...\n",
            "[nltk_data]    |   Package swadesh is already up-to-date!\n",
            "[nltk_data]    | Downloading package switchboard to /root/nltk_data...\n",
            "[nltk_data]    |   Package switchboard is already up-to-date!\n",
            "[nltk_data]    | Downloading package tagsets to /root/nltk_data...\n",
            "[nltk_data]    |   Package tagsets is already up-to-date!\n",
            "[nltk_data]    | Downloading package timit to /root/nltk_data...\n",
            "[nltk_data]    |   Package timit is already up-to-date!\n",
            "[nltk_data]    | Downloading package toolbox to /root/nltk_data...\n",
            "[nltk_data]    |   Package toolbox is already up-to-date!\n",
            "[nltk_data]    | Downloading package treebank to /root/nltk_data...\n",
            "[nltk_data]    |   Package treebank is already up-to-date!\n",
            "[nltk_data]    | Downloading package twitter_samples to\n",
            "[nltk_data]    |     /root/nltk_data...\n",
            "[nltk_data]    |   Package twitter_samples is already up-to-date!\n",
            "[nltk_data]    | Downloading package udhr to /root/nltk_data...\n",
            "[nltk_data]    |   Package udhr is already up-to-date!\n",
            "[nltk_data]    | Downloading package udhr2 to /root/nltk_data...\n",
            "[nltk_data]    |   Package udhr2 is already up-to-date!\n",
            "[nltk_data]    | Downloading package unicode_samples to\n",
            "[nltk_data]    |     /root/nltk_data...\n",
            "[nltk_data]    |   Package unicode_samples is already up-to-date!\n",
            "[nltk_data]    | Downloading package universal_tagset to\n",
            "[nltk_data]    |     /root/nltk_data...\n",
            "[nltk_data]    |   Package universal_tagset is already up-to-date!\n",
            "[nltk_data]    | Downloading package universal_treebanks_v20 to\n",
            "[nltk_data]    |     /root/nltk_data...\n",
            "[nltk_data]    |   Package universal_treebanks_v20 is already up-to-\n",
            "[nltk_data]    |       date!\n",
            "[nltk_data]    | Downloading package vader_lexicon to\n",
            "[nltk_data]    |     /root/nltk_data...\n",
            "[nltk_data]    |   Package vader_lexicon is already up-to-date!\n",
            "[nltk_data]    | Downloading package verbnet to /root/nltk_data...\n",
            "[nltk_data]    |   Package verbnet is already up-to-date!\n",
            "[nltk_data]    | Downloading package verbnet3 to /root/nltk_data...\n",
            "[nltk_data]    |   Package verbnet3 is already up-to-date!\n",
            "[nltk_data]    | Downloading package webtext to /root/nltk_data...\n",
            "[nltk_data]    |   Package webtext is already up-to-date!\n",
            "[nltk_data]    | Downloading package wmt15_eval to /root/nltk_data...\n",
            "[nltk_data]    |   Package wmt15_eval is already up-to-date!\n",
            "[nltk_data]    | Downloading package word2vec_sample to\n",
            "[nltk_data]    |     /root/nltk_data...\n",
            "[nltk_data]    |   Package word2vec_sample is already up-to-date!\n",
            "[nltk_data]    | Downloading package wordnet to /root/nltk_data...\n",
            "[nltk_data]    |   Package wordnet is already up-to-date!\n",
            "[nltk_data]    | Downloading package wordnet2021 to /root/nltk_data...\n",
            "[nltk_data]    |   Package wordnet2021 is already up-to-date!\n",
            "[nltk_data]    | Downloading package wordnet31 to /root/nltk_data...\n",
            "[nltk_data]    |   Package wordnet31 is already up-to-date!\n",
            "[nltk_data]    | Downloading package wordnet_ic to /root/nltk_data...\n",
            "[nltk_data]    |   Package wordnet_ic is already up-to-date!\n",
            "[nltk_data]    | Downloading package words to /root/nltk_data...\n",
            "[nltk_data]    |   Package words is already up-to-date!\n",
            "[nltk_data]    | Downloading package ycoe to /root/nltk_data...\n",
            "[nltk_data]    |   Package ycoe is already up-to-date!\n",
            "[nltk_data]    | \n",
            "[nltk_data]  Done downloading collection all\n"
          ]
        },
        {
          "output_type": "execute_result",
          "data": {
            "text/plain": [
              "0    awww thats bummer shoulda got david carr third...\n",
              "1    upset cant update facebook texting might cry r...\n",
              "2    dived many times ball managed save 50 rest go ...\n",
              "3                     whole body feels itchy like fire\n",
              "4                 no not behaving im mad cant see over\n",
              "Name: processed_tweets, dtype: object"
            ]
          },
          "metadata": {},
          "execution_count": 147
        }
      ]
    },
    {
      "cell_type": "code",
      "metadata": {
        "id": "y3il0-Co-6zv"
      },
      "source": [
        "X = df['processed_tweets']\n",
        "y = df['Target']"
      ],
      "execution_count": 148,
      "outputs": []
    },
    {
      "cell_type": "code",
      "metadata": {
        "colab": {
          "base_uri": "https://localhost:8080/"
        },
        "id": "Vfsu88fu6tWT",
        "outputId": "77e61779-8da7-42b8-e5c6-aa160b81d192"
      },
      "source": [
        "from sklearn.model_selection import train_test_split\n",
        "\n",
        "X_train, X_test,y_train,y_test = train_test_split(X, y,random_state = 42, test_size=0.1) # using 10% data\n",
        "print(X_train.shape)\n",
        "print(X_test.shape)"
      ],
      "execution_count": 149,
      "outputs": [
        {
          "output_type": "stream",
          "name": "stdout",
          "text": [
            "(115020,)\n",
            "(12781,)\n"
          ]
        }
      ]
    },
    {
      "cell_type": "code",
      "metadata": {
        "colab": {
          "base_uri": "https://localhost:8080/"
        },
        "id": "-SNfXhSuArZe",
        "outputId": "dda702dd-a39f-408f-c51f-46843fd0b956"
      },
      "source": [
        "print(y_train.shape)\n",
        "print(y_test.shape)"
      ],
      "execution_count": 150,
      "outputs": [
        {
          "output_type": "stream",
          "name": "stdout",
          "text": [
            "(115020,)\n",
            "(12781,)\n"
          ]
        }
      ]
    },
    {
      "cell_type": "code",
      "metadata": {
        "colab": {
          "base_uri": "https://localhost:8080/"
        },
        "id": "sBjjNPm2AzEc",
        "outputId": "d00b78bf-356e-401e-93b1-b92968195d1b"
      },
      "source": [
        "X_test"
      ],
      "execution_count": 151,
      "outputs": [
        {
          "output_type": "execute_result",
          "data": {
            "text/plain": [
              "96233    well wasnt good news got june 18th find anothe...\n",
              "60620    ok fine ate one shall return freezer good nigh...\n",
              "76756                                good morning everyone\n",
              "45696    dont forget read blog yesterday theres new one...\n",
              "87297                               yesterday crazyy hahah\n",
              "                               ...                        \n",
              "12717                            absolutely hate get tweet\n",
              "27895    late no one wanted go people need widen verizo...\n",
              "8379     ru arent even working office anymore still get...\n",
              "65012                          thanks replay lets give try\n",
              "89704              ack monday morning no coffee sounds bad\n",
              "Name: processed_tweets, Length: 12781, dtype: object"
            ]
          },
          "metadata": {},
          "execution_count": 151
        }
      ]
    },
    {
      "cell_type": "markdown",
      "metadata": {
        "id": "uGju4DdaoVlz"
      },
      "source": [
        "##**Text Sequencing**"
      ]
    },
    {
      "cell_type": "code",
      "metadata": {
        "colab": {
          "base_uri": "https://localhost:8080/"
        },
        "id": "etWEVeHGyTPl",
        "outputId": "e361fe9c-6bc4-42e0-ad24-d516125d60f3"
      },
      "source": [
        "\n",
        "# tokenize and sequence sentence# that convert all tests into number sequence \n",
        "from keras.preprocessing.text import Tokenizer\n",
        "\n",
        "tokenizer = Tokenizer(lower=False)\n",
        "tokenizer.fit_on_texts(X_train)\n",
        "train_text_vec = tokenizer.texts_to_sequences(X_train)\n",
        "tokenizer.fit_on_texts(X_test)\n",
        "test_text_vec = tokenizer.texts_to_sequences(X_test)\n",
        "test_text_vec"
      ],
      "execution_count": 152,
      "outputs": [
        {
          "output_type": "execute_result",
          "data": {
            "text/plain": [
              "[[22, 305, 4, 373, 17, 954, 2837, 127, 107, 276, 390, 19020, 52973],\n",
              " [100, 429, 670, 20, 682, 1183, 4606, 4, 26, 72, 2839],\n",
              " [4, 24, 106],\n",
              " [15, 724, 232, 292, 182, 293, 29, 20, 162, 9296, 9],\n",
              " [182, 18216, 1030],\n",
              " [134, 293, 175, 356, 6206, 2, 165, 3, 452, 38],\n",
              " [585, 262, 8014, 31, 839, 1178],\n",
              " [355, 227, 1686, 67, 52974],\n",
              " [430, 51, 873, 469, 1583, 3955],\n",
              " [118, 4962, 281, 12082, 695, 126, 1172, 6541, 375, 26],\n",
              " [52975, 15, 1580, 32, 212, 237, 60, 63, 18033, 137, 10, 100, 317],\n",
              " [1337, 977, 523, 2441, 806, 4, 589, 870],\n",
              " [10, 455, 220, 259, 12, 6265, 5, 149, 92, 1586, 1735, 9],\n",
              " [403, 468, 67, 1803, 1101],\n",
              " [11633, 46, 296, 1336, 1031, 1801, 90, 25512, 499, 54],\n",
              " [731, 5],\n",
              " [142, 473, 830, 634, 422, 5, 181, 19, 1190, 1734, 19145],\n",
              " [28],\n",
              " [78, 2, 530, 172, 1040, 304, 20, 427, 15566, 637, 454, 10647],\n",
              " [320, 240, 29, 531, 1590, 99, 2301, 604, 2, 66, 175],\n",
              " [245, 84, 2159],\n",
              " [19, 11, 31425, 292],\n",
              " [591, 25981, 23, 366, 4395, 606, 1265, 732],\n",
              " [355, 225, 52976],\n",
              " [2043, 352, 772, 19, 125, 358, 50, 1055, 17855],\n",
              " [3501, 2017, 3106, 206, 2, 52977, 4152, 4850, 63, 18644, 331, 2687, 52978],\n",
              " [177, 2279, 27, 43, 47, 341],\n",
              " [3023, 1046, 239, 63, 36, 161, 317],\n",
              " [539, 17, 13, 12542, 27, 11, 372, 189],\n",
              " [501, 823, 211, 39, 81, 455, 1485],\n",
              " [173, 9336, 50, 1, 137, 25, 31, 63, 1201, 89],\n",
              " [2567, 178, 130],\n",
              " [3, 318, 2322],\n",
              " [10140, 853, 62, 650, 39, 130, 235, 2620, 1853, 5464, 459, 355],\n",
              " [388, 938, 214, 369, 169, 42, 500, 133, 532, 52],\n",
              " [131, 1760, 30557, 3511, 196, 2, 121],\n",
              " [3, 23, 20, 659, 361, 614],\n",
              " [368, 961, 29, 5973, 22, 837, 6955, 606, 2313, 5427, 88, 71],\n",
              " [585, 135, 2292, 1227, 93, 254, 105, 169, 73],\n",
              " [313, 13, 57, 9],\n",
              " [5643, 623, 585, 94, 13, 56, 1400, 2636, 6, 4261],\n",
              " [52979],\n",
              " [256, 973, 3450, 52980, 7070, 112, 216, 1091, 95, 16, 94, 13],\n",
              " [53, 102, 276, 896],\n",
              " [35, 506, 1, 72, 195, 1076, 333, 710],\n",
              " [995, 16670, 1588, 7, 171, 4602, 3978, 9, 4737, 4708, 4102, 1083],\n",
              " [1612, 107, 2054, 11177, 163, 142, 5242, 1005, 209],\n",
              " [1126, 378],\n",
              " [34, 132, 3, 364],\n",
              " [3148, 4012, 181, 969, 12327, 180, 3875],\n",
              " [763, 63, 57, 1928, 2121, 1250],\n",
              " [3577, 9203, 41, 8, 2942, 561, 2466],\n",
              " [105, 46, 32, 38, 132],\n",
              " [35, 506, 152, 517, 105, 10, 43],\n",
              " [33, 115, 28, 247, 225],\n",
              " [45, 33, 134, 2050, 52981, 4307, 2600, 7342, 6396, 2913, 4307, 989],\n",
              " [447, 25, 349, 198, 559],\n",
              " [53, 102, 8, 117, 9645, 28021, 4420, 471, 28022, 1505, 434, 5],\n",
              " [419, 181, 527, 149, 1246, 182, 52982, 1188, 773, 229, 481],\n",
              " [133, 34, 8, 13, 713, 2368, 259, 154, 369, 207, 68, 359],\n",
              " [1249, 535, 221, 154, 1263, 1755, 1184, 49, 963, 123, 120, 2761],\n",
              " [11412, 98, 1, 3735, 1099, 1416, 4, 92, 3633, 419],\n",
              " [2498, 20, 5, 422, 5, 258],\n",
              " [138, 14945],\n",
              " [107, 47, 52983, 11, 1040, 546, 59, 2082, 745, 684, 1, 77, 58, 88, 71, 65],\n",
              " [1, 335, 16, 183, 52984, 1286, 14590, 1109, 5375, 3, 5561, 52985],\n",
              " [58, 398, 207, 124, 25, 13],\n",
              " [109, 198, 73, 63, 37, 1898, 56, 657, 3],\n",
              " [548, 4055, 7399, 697, 298, 60],\n",
              " [266, 2540, 62, 235, 1710, 484],\n",
              " [52986, 13, 18, 127, 4112, 52987, 243, 536, 7619, 546],\n",
              " [117,\n",
              "  52988,\n",
              "  991,\n",
              "  43,\n",
              "  6457,\n",
              "  52989,\n",
              "  125,\n",
              "  8087,\n",
              "  2158,\n",
              "  2,\n",
              "  61,\n",
              "  6,\n",
              "  252,\n",
              "  163,\n",
              "  1020,\n",
              "  1373],\n",
              " [3777, 52990, 454, 4087, 4985, 5837, 607, 338, 7112, 178, 230, 14492],\n",
              " [31426, 2281],\n",
              " [185, 4, 530, 127, 208, 6, 36, 31, 87, 1983, 49, 44, 22, 241, 89],\n",
              " [24822, 230, 425, 9719, 1612],\n",
              " [1184, 1126, 533, 1361, 214, 3524, 564],\n",
              " [133, 10],\n",
              " [25, 217, 10, 43, 41, 372, 333, 372],\n",
              " [3216, 145],\n",
              " [360, 12, 1869, 477, 342, 2237, 8593, 15663, 34, 1270, 89, 31, 1281],\n",
              " [1, 131, 127, 560, 559, 35, 1785, 1, 30, 1134],\n",
              " [2446, 1329, 299, 31052, 2, 32, 1020],\n",
              " [568, 236],\n",
              " [57, 2998, 287, 45, 73, 401],\n",
              " [12, 10, 2, 575, 850, 37],\n",
              " [422, 125, 37, 10, 61, 170, 6, 10, 2762, 395, 208, 1368, 87, 17],\n",
              " [53, 102, 1112, 5, 3648, 14773],\n",
              " [262, 21, 536, 531, 2438, 479, 1547, 823, 9007, 34, 14202, 327],\n",
              " [1646, 2547, 95, 181, 191, 3, 181, 98, 95, 237, 191],\n",
              " [274, 3348, 13679, 571, 31],\n",
              " [11, 186, 3267, 9677, 1, 12571],\n",
              " [462, 14221, 186, 15, 2914],\n",
              " [8897, 8897, 7871, 5807, 12423, 49],\n",
              " [711, 208, 2, 20, 5618, 311, 1541, 311, 2156, 22, 3727, 2373],\n",
              " [4, 24],\n",
              " [72, 1635, 45, 73, 230, 16, 150, 65],\n",
              " [80, 2855, 21, 5752, 18212, 283],\n",
              " [28, 32, 46, 165, 346, 52991, 631, 376, 1, 67, 428, 168, 1658],\n",
              " [121],\n",
              " [3996, 52992, 1077, 52, 27],\n",
              " [100, 5003, 1209, 53, 14501, 1362, 137, 411, 1321],\n",
              " [1947, 824, 824],\n",
              " [52993,\n",
              "  30,\n",
              "  41,\n",
              "  325,\n",
              "  30712,\n",
              "  15056,\n",
              "  377,\n",
              "  10774,\n",
              "  7105,\n",
              "  16,\n",
              "  19,\n",
              "  210,\n",
              "  1105,\n",
              "  161,\n",
              "  50],\n",
              " [827, 128, 3136, 21, 3640, 2480, 699],\n",
              " [568, 929, 6998, 3238, 1815, 23, 41, 6169, 1757, 9, 2, 15, 32, 46],\n",
              " [246, 41, 44, 3270, 180, 147, 1157],\n",
              " [19, 259, 110, 52994, 244, 150, 65],\n",
              " [8, 1447, 8, 17],\n",
              " [1, 335, 3429, 2522, 4181],\n",
              " [2712, 3452, 228],\n",
              " [78, 3796, 1409, 347, 261, 1563, 2, 628, 356, 1, 23, 72],\n",
              " [1045, 215, 639, 1366, 94, 13, 1414],\n",
              " [5268, 309, 2764, 228, 980, 13, 21993, 899, 173, 21994, 9, 1974, 58, 135],\n",
              " [70, 107, 5720, 599, 14324, 66, 5720, 599, 10599, 10557, 20, 19],\n",
              " [149, 642, 5],\n",
              " [454, 5, 36, 18494],\n",
              " [2075, 3026, 7, 3026, 6359, 202],\n",
              " [320, 27, 6, 219, 24842, 457, 3130],\n",
              " [159, 133, 956, 257, 4619, 29, 768, 40, 3, 304, 10, 124, 117, 1245, 111, 5],\n",
              " [181, 7382, 1478, 363, 33, 971, 2197, 1387, 3467, 864],\n",
              " [22, 18977, 386, 705, 843, 661],\n",
              " [386, 7338, 128, 353, 15, 21, 1, 87, 3311],\n",
              " [100, 16, 44, 4729, 44, 6511, 331, 61, 10],\n",
              " [173, 1033, 717, 6069],\n",
              " [289, 106],\n",
              " [178, 285, 10, 21572, 20, 346, 71, 2955, 21573, 21574],\n",
              " [796, 52995, 11, 6668, 52996, 15987],\n",
              " [735, 4080, 337, 4146, 14, 10717, 31187, 514, 28, 5840, 45, 12614],\n",
              " [144, 16, 336, 470],\n",
              " [97, 182, 2634, 11757, 9, 6570],\n",
              " [30, 613, 34, 8665, 2930, 2769, 2777],\n",
              " [73, 1730, 11, 694, 3860, 71],\n",
              " [9, 144, 5, 18, 295, 142, 52997, 23, 193, 65, 35, 22, 136, 838, 2684],\n",
              " [7597],\n",
              " [164, 9102, 413, 52998, 644, 6669],\n",
              " [131, 657, 9253],\n",
              " [3, 36, 25031, 11, 36, 10293, 3350, 692, 446, 265, 2890, 704, 1611, 426],\n",
              " [2523, 52999, 586, 64, 433, 1696, 283, 579, 646, 3595, 11418, 1, 27664],\n",
              " [1, 12, 727, 1809, 9, 77, 47, 18, 76],\n",
              " [59,\n",
              "  75,\n",
              "  32,\n",
              "  14018,\n",
              "  1679,\n",
              "  53000,\n",
              "  2251,\n",
              "  9183,\n",
              "  14018,\n",
              "  3,\n",
              "  12,\n",
              "  33,\n",
              "  3057,\n",
              "  793,\n",
              "  1554],\n",
              " [1592, 35, 125],\n",
              " [6803, 456, 314],\n",
              " [22288, 1413, 64, 1312, 123, 95],\n",
              " [236, 436, 31427, 13502, 41, 7865, 2873, 3463, 18816],\n",
              " [103, 183, 336, 534, 224, 8, 10905, 337, 618, 162, 19019, 2, 25],\n",
              " [215, 716, 4062, 477, 1129],\n",
              " [3, 612, 2, 77, 570, 31, 5613],\n",
              " [295, 60, 6, 10134],\n",
              " [121, 17, 662, 37, 2, 10, 69, 116],\n",
              " [70, 122, 714, 340, 146, 2, 9503],\n",
              " [290, 667, 355],\n",
              " [985, 30, 309, 105, 743, 3, 4],\n",
              " [2089, 13160, 20, 7950, 637, 1220, 115, 1198, 14, 16336, 2, 1084],\n",
              " [22, 47, 5621, 40, 115, 4, 210],\n",
              " [36, 10],\n",
              " [20],\n",
              " [136, 135, 18, 76, 29, 659],\n",
              " [1146, 35, 94, 164, 18, 1903, 311, 1, 1724, 97, 74, 238, 4728, 119],\n",
              " [79, 618, 85, 448, 32, 6142, 53001, 875, 2854, 14305, 14452, 112],\n",
              " [53002, 53003, 6, 53004],\n",
              " [12, 44, 70, 7715, 328, 24, 209, 422, 14, 1185],\n",
              " [101, 103, 53005, 7453, 3, 1063, 34],\n",
              " [121, 33],\n",
              " [478, 501, 52, 11, 758, 233],\n",
              " [1426, 813, 238, 30059, 30060, 30061, 1039, 30062, 496, 15083],\n",
              " [3598, 23, 2, 305],\n",
              " [3549, 37, 1207, 2061, 1112],\n",
              " [224, 6, 363, 779, 5637, 838, 140],\n",
              " [22315, 1075, 225],\n",
              " [1005, 513, 5, 26],\n",
              " [1578, 11337, 3, 328, 1858, 270, 1090, 608, 131, 3, 8],\n",
              " [1, 309, 301, 16, 20691, 4419, 80, 8476, 1251, 202, 241, 156, 853],\n",
              " [432, 20, 36, 505, 27, 7, 523, 1122, 1358, 6144, 2893, 9012],\n",
              " [384, 15, 226, 1091, 24857, 399, 293, 1349, 1120, 2001],\n",
              " [931, 31428, 18464, 518, 1534],\n",
              " [1, 227, 174],\n",
              " [722, 62, 1638, 281],\n",
              " [18, 157, 145, 87, 369, 150, 15130, 851, 3685, 977, 31346],\n",
              " [107, 26, 162, 37, 10, 1954],\n",
              " [1401, 647, 866, 238, 8583, 53006, 600, 242, 427, 54, 12386, 3371],\n",
              " [1510, 10731, 107, 1510, 60, 5475, 32, 14474, 16, 188],\n",
              " [3911, 9644, 53007],\n",
              " [351, 823, 668, 4, 146, 267],\n",
              " [79, 2, 66, 1715, 3730, 766, 367, 509, 7596, 9953, 1554],\n",
              " [28467, 329, 8, 2733, 197, 522, 3853, 92],\n",
              " [364, 2, 3, 95],\n",
              " [339, 377, 603, 28524, 1630, 2756, 142, 320, 331, 3044, 53008],\n",
              " [3950,\n",
              "  15100,\n",
              "  30292,\n",
              "  5086,\n",
              "  13954,\n",
              "  1767,\n",
              "  1118,\n",
              "  5787,\n",
              "  339,\n",
              "  1767,\n",
              "  1118,\n",
              "  5787,\n",
              "  15100,\n",
              "  178,\n",
              "  1464,\n",
              "  20,\n",
              "  1837],\n",
              " [764, 808, 8422, 1938, 6648, 440, 780, 189, 13, 11729, 9202],\n",
              " [15, 21, 719, 2, 35, 22, 10187, 37],\n",
              " [57, 1, 101, 62, 17, 10, 1895, 7, 239, 12239, 15012, 99, 1253],\n",
              " [237, 108, 600, 454, 20686, 202],\n",
              " [8392, 1290, 6536, 818, 310],\n",
              " [184, 431, 638, 289],\n",
              " [1640, 3, 340, 7145, 31, 550],\n",
              " [35, 216, 136, 237, 1, 12, 88, 192],\n",
              " [1, 121, 374],\n",
              " [4870, 16, 657, 31, 755, 6, 12, 1447, 159],\n",
              " [1, 368, 70, 1116, 661],\n",
              " [19, 14730, 14730, 2, 1, 77, 347, 6968, 5, 29679],\n",
              " [444, 1506, 1912, 69, 104, 15, 223],\n",
              " [288],\n",
              " [302, 6, 920, 651, 2707, 7, 15, 21, 2344, 22, 8354, 490],\n",
              " [33, 16, 3270, 13280, 20885, 2513, 14, 25, 135],\n",
              " [147, 262, 200, 126, 3627],\n",
              " [43, 886, 1786, 16, 192, 1, 461, 6, 1378],\n",
              " [936, 1181, 4573, 524, 4978, 2927, 32],\n",
              " [13, 10],\n",
              " [238, 14915, 1246, 25, 21, 38, 3878, 2294, 19],\n",
              " [239, 5284, 16991, 5475, 4604, 281, 69, 893, 35, 217, 53009, 228],\n",
              " [3996, 397],\n",
              " [4430, 506, 8, 814],\n",
              " [647, 3, 369, 113, 14697, 20, 641, 14701, 1300],\n",
              " [48],\n",
              " [14046, 171, 110, 53010, 3, 4, 2, 880, 219, 1671, 322, 8275, 96],\n",
              " [17, 37, 341, 64, 466, 5456, 38, 634, 75, 1579, 906, 38, 634, 35],\n",
              " [1275, 6671, 9],\n",
              " [30, 3, 105, 22, 20, 5, 56, 166],\n",
              " [230, 517, 36, 16855, 2422, 48, 258, 5],\n",
              " [739, 448, 21, 1466, 53, 1231, 222, 1245, 60, 7938, 6540],\n",
              " [358, 60, 5322, 117, 2572, 69, 2, 1, 121, 170, 8],\n",
              " [1442, 9828, 966, 507, 24, 3, 157, 3, 1297],\n",
              " [358, 13, 417, 597, 9031, 9727, 50],\n",
              " [650, 1493, 42, 26],\n",
              " [29122, 1388, 9459, 18, 8, 244, 2, 109, 542],\n",
              " [5483, 25906, 949, 31, 115, 145, 14],\n",
              " [1320, 11058, 5, 10796],\n",
              " [1775, 1667, 11006, 75, 2050, 112, 1595, 53011, 1953, 53012],\n",
              " [585, 380, 170, 381, 31, 21, 351, 5, 11, 862, 189],\n",
              " [803, 759, 244, 7],\n",
              " [8417, 68, 6541, 427, 1587, 532, 73, 3, 113, 2245, 2, 4, 123, 14629],\n",
              " [131, 108, 2873, 1859, 13247, 53013, 7178, 14090, 168],\n",
              " [107, 258, 5, 1126, 5092],\n",
              " [2522, 181, 180, 396, 763, 779, 1085, 19, 1355, 1847, 88, 2140],\n",
              " [17, 99, 70, 597, 464, 163, 124, 117, 620, 271],\n",
              " [5003, 618, 221, 3315, 2483, 15, 4812, 6],\n",
              " [45, 191, 1, 3, 819, 101],\n",
              " [205, 27, 275, 1192, 3257],\n",
              " [312, 3987, 1485, 118, 73, 229, 474, 373, 941],\n",
              " [34, 14877, 3415],\n",
              " [623, 30879, 4608],\n",
              " [77, 8, 328, 69, 47],\n",
              " [312, 5041, 7028, 4966, 413, 108, 202],\n",
              " [22, 84, 3032],\n",
              " [288],\n",
              " [78, 488, 47, 1260, 7, 54, 158, 21],\n",
              " [253, 39, 1817, 9098, 4829, 1, 102, 3348, 2280, 19, 41, 276],\n",
              " [11, 5755, 1127],\n",
              " [1385, 5340, 600, 126, 108, 75, 27, 400, 123, 428, 37],\n",
              " [2433, 222, 5244, 10823],\n",
              " [371, 85, 310],\n",
              " [30,\n",
              "  12,\n",
              "  1273,\n",
              "  749,\n",
              "  16651,\n",
              "  30491,\n",
              "  216,\n",
              "  820,\n",
              "  1594,\n",
              "  5799,\n",
              "  7622,\n",
              "  20,\n",
              "  2274,\n",
              "  30492],\n",
              " [22, 329, 570, 39, 9089, 219, 5945, 4, 204],\n",
              " [693, 2080, 123, 22023, 4],\n",
              " [434, 27, 210],\n",
              " [3702, 28372, 58, 28373, 200, 59],\n",
              " [13, 1220, 43, 99, 10, 7193, 3, 31166],\n",
              " [4, 24, 14703, 103, 183, 277, 9, 64, 86, 5],\n",
              " [789, 1639, 1035],\n",
              " [180, 3340, 1261, 964],\n",
              " [61, 117, 695, 25, 900],\n",
              " [3520, 278, 9, 136, 29216, 4629, 1020],\n",
              " [30, 556, 546, 238, 43, 65],\n",
              " [7, 3301, 7, 597, 81, 927, 4160, 88, 5, 2397, 88, 5, 2420, 24685],\n",
              " [15, 97, 582, 475, 38, 18, 76, 300, 1450],\n",
              " [121, 3959, 314, 57, 43],\n",
              " [113,\n",
              "  1,\n",
              "  3294,\n",
              "  38,\n",
              "  1556,\n",
              "  6693,\n",
              "  2097,\n",
              "  1349,\n",
              "  8640,\n",
              "  53014,\n",
              "  53015,\n",
              "  8561,\n",
              "  13833,\n",
              "  114,\n",
              "  8640],\n",
              " [1389, 123, 7, 18211, 26770, 1800, 65, 7, 715],\n",
              " [19],\n",
              " [253, 8823, 102, 1332],\n",
              " [289, 273, 541, 5],\n",
              " [745, 9, 7, 298, 5, 111, 2, 100, 9, 1, 70, 206, 3252, 3197, 697, 163],\n",
              " [268],\n",
              " [21, 25, 117, 474, 806, 182, 142, 39, 378],\n",
              " [62, 2264],\n",
              " [2981,\n",
              "  17928,\n",
              "  2676,\n",
              "  53016,\n",
              "  3337,\n",
              "  4473,\n",
              "  53017,\n",
              "  595,\n",
              "  9593,\n",
              "  53018,\n",
              "  6813,\n",
              "  53019,\n",
              "  18154,\n",
              "  20218,\n",
              "  881,\n",
              "  53020,\n",
              "  540,\n",
              "  30225,\n",
              "  17595],\n",
              " [1, 30, 5856, 2330, 15, 64, 11050, 53021],\n",
              " [5439, 10],\n",
              " [53, 102, 10, 107, 11058, 233, 5440],\n",
              " [15, 32, 45, 54, 2456, 717, 30988],\n",
              " [131, 2190, 2129, 1258, 31, 249, 157],\n",
              " [214],\n",
              " [41, 2620, 1853, 3969, 39, 211, 534, 306, 355],\n",
              " [6012, 72, 142, 1795, 17, 4161, 49, 1, 4, 28, 1236],\n",
              " [1, 661, 151, 551, 1144, 1327, 5691, 378, 5691],\n",
              " [53022, 1699, 1574, 222, 44, 26, 273, 583],\n",
              " [53, 102, 3971, 6582, 11139, 1030, 18, 76, 27, 435, 30195],\n",
              " [944, 1933, 3181, 29778, 5291, 8081, 5291, 2018, 1647, 2503, 11, 307],\n",
              " [154, 9243, 756],\n",
              " [227, 1004, 219, 696, 175, 66, 155, 152],\n",
              " [1, 36, 727, 145, 630, 161, 119, 119],\n",
              " [126,\n",
              "  1337,\n",
              "  58,\n",
              "  53023,\n",
              "  3066,\n",
              "  2872,\n",
              "  6219,\n",
              "  245,\n",
              "  2760,\n",
              "  17,\n",
              "  18893,\n",
              "  53024,\n",
              "  79,\n",
              "  329,\n",
              "  325,\n",
              "  3131],\n",
              " [3307, 840, 39, 50, 285, 414, 30, 11, 2437],\n",
              " [14, 11, 1040, 119],\n",
              " [70, 13367, 1061, 50, 1230, 605, 384, 202, 202, 2004, 514],\n",
              " [417, 163, 20823],\n",
              " [5505, 1203, 286, 37, 16, 1797, 1557, 607, 540, 552, 2, 1101, 16, 6],\n",
              " [23, 34, 326, 578, 16, 456],\n",
              " [17370, 4513, 695, 346, 24, 55, 7, 1, 4247, 18945],\n",
              " [228, 321, 18925, 53025, 18925],\n",
              " [175, 5385, 29328, 400, 31, 30, 213, 90],\n",
              " [17091, 678, 166, 2804, 696],\n",
              " [302, 6, 252, 1849, 1507, 59, 75, 8, 2, 4],\n",
              " [463, 29, 364, 3, 244, 112, 3911],\n",
              " [19, 165, 134, 3, 208, 255, 19, 1, 529, 1424, 242, 192],\n",
              " [686, 445, 730, 2849, 132, 29749, 6794, 3777, 17667, 82, 83, 383],\n",
              " [74, 98, 29631, 4900, 14020, 3594, 761, 275, 26],\n",
              " [4580, 21, 54, 870],\n",
              " [135, 1227, 31064, 5241, 538, 5790, 2314, 1565, 29, 292, 53026],\n",
              " [113, 41, 10091, 8079, 2571, 1165, 46, 316, 1566, 292, 2503, 930, 130],\n",
              " [3, 438, 110, 573, 285, 9677, 1354, 16549],\n",
              " [160, 7, 2162, 9584, 12538, 6994],\n",
              " [136, 1302, 32, 160, 126, 4],\n",
              " [12, 52, 1117, 1089],\n",
              " [18, 23, 377, 16, 287, 848, 387],\n",
              " [1764, 144, 1151, 810, 1807, 744],\n",
              " [79, 33, 307, 158, 188, 904],\n",
              " [620, 101, 42, 6758, 4065, 131, 127, 2212, 926, 53027, 19023, 1166, 3, 47],\n",
              " [18689, 5183, 7727, 3873, 85, 1622, 6132, 760, 28534, 28535, 6, 66, 874],\n",
              " [53028, 335, 273, 16, 15224, 2770, 8150, 1172, 60],\n",
              " [190, 1, 653, 503, 394, 7887, 588, 72, 14, 6573, 38, 3714, 3714, 39, 271],\n",
              " [5007, 3254, 4895],\n",
              " [190, 947, 538],\n",
              " [999, 37, 503, 1173, 121],\n",
              " [215, 8, 1320, 585, 6308, 171, 77, 8, 55, 2406],\n",
              " [1, 52, 135, 358, 53029, 375, 86, 592],\n",
              " [94, 53030, 814, 46, 94, 9533, 26],\n",
              " [22,\n",
              "  147,\n",
              "  965,\n",
              "  10,\n",
              "  140,\n",
              "  2468,\n",
              "  1716,\n",
              "  320,\n",
              "  22,\n",
              "  2132,\n",
              "  189,\n",
              "  2479,\n",
              "  37,\n",
              "  1,\n",
              "  1229,\n",
              "  53031],\n",
              " [200, 31429, 19, 22, 644],\n",
              " [12, 6542, 4892, 635, 336],\n",
              " [41, 935, 2, 1, 17989, 3, 596],\n",
              " [33, 247, 211, 5601, 12360, 3321, 846, 54, 1084, 1134],\n",
              " [79, 403, 4, 1479, 2, 8761, 569, 76, 20],\n",
              " [188,\n",
              "  630,\n",
              "  194,\n",
              "  125,\n",
              "  18,\n",
              "  8,\n",
              "  44,\n",
              "  129,\n",
              "  275,\n",
              "  11,\n",
              "  47,\n",
              "  114,\n",
              "  224,\n",
              "  8,\n",
              "  13,\n",
              "  39,\n",
              "  10,\n",
              "  2468,\n",
              "  19046],\n",
              " [30, 1524, 23, 1060, 23, 920, 11, 5370, 1060, 490],\n",
              " [78, 113, 16, 224, 424, 174, 19, 1, 3, 113, 21, 2, 698, 623],\n",
              " [1859, 2592, 21911, 7601, 531, 211],\n",
              " [28, 6, 22, 774, 32, 404, 90],\n",
              " [498, 8747, 66, 422, 1629, 2810, 2810, 2810],\n",
              " [1383, 3278, 2693, 935],\n",
              " [860, 6164, 1363, 3987, 1485, 31214],\n",
              " [31, 228, 414, 248, 228],\n",
              " [131, 6, 17617, 28579, 7099, 1548, 507, 53032],\n",
              " [2386, 24, 801, 2163],\n",
              " [93, 266, 1143, 9288, 103, 183, 4168, 99],\n",
              " [173, 949, 32, 6371, 49, 30, 56, 339, 1973, 53, 427, 581],\n",
              " [156, 508, 287, 122, 8319, 73],\n",
              " [288],\n",
              " [907, 3839, 2383, 7015, 91, 152],\n",
              " [506,\n",
              "  122,\n",
              "  2706,\n",
              "  841,\n",
              "  16610,\n",
              "  3128,\n",
              "  22281,\n",
              "  615,\n",
              "  676,\n",
              "  22282,\n",
              "  1195,\n",
              "  8659,\n",
              "  817,\n",
              "  22283,\n",
              "  1789],\n",
              " [541, 92, 244, 813, 550, 207, 268, 2333],\n",
              " [173, 8856, 429],\n",
              " [849, 5, 20, 516, 96, 135],\n",
              " [21, 210, 55, 1, 194, 505, 11, 20, 8, 1995],\n",
              " [434, 275, 48, 5, 106],\n",
              " [172, 3243, 3613],\n",
              " [152, 516, 5, 59, 107, 152, 43],\n",
              " [61, 6, 701, 226, 5606, 1337, 317],\n",
              " [12141, 500, 23888, 87, 65, 21, 630, 996, 3, 12, 56, 54, 23889],\n",
              " [1, 2170, 5483, 2, 62, 3, 323, 53033, 4877, 4096],\n",
              " [3323, 17396, 5068, 143, 123, 183, 31403],\n",
              " [32,\n",
              "  682,\n",
              "  248,\n",
              "  53034,\n",
              "  39,\n",
              "  347,\n",
              "  95,\n",
              "  1924,\n",
              "  238,\n",
              "  50,\n",
              "  2447,\n",
              "  13,\n",
              "  333,\n",
              "  1963,\n",
              "  88,\n",
              "  71,\n",
              "  39,\n",
              "  53035,\n",
              "  114,\n",
              "  10264,\n",
              "  71],\n",
              " [173,\n",
              "  6393,\n",
              "  1,\n",
              "  70,\n",
              "  737,\n",
              "  890,\n",
              "  2932,\n",
              "  53036,\n",
              "  1624,\n",
              "  5131,\n",
              "  1493,\n",
              "  1701,\n",
              "  6726,\n",
              "  18,\n",
              "  4868,\n",
              "  53037],\n",
              " [240, 356, 3270],\n",
              " [246,\n",
              "  233,\n",
              "  480,\n",
              "  57,\n",
              "  326,\n",
              "  279,\n",
              "  61,\n",
              "  23,\n",
              "  532,\n",
              "  95,\n",
              "  22,\n",
              "  1,\n",
              "  36,\n",
              "  57,\n",
              "  529,\n",
              "  467,\n",
              "  14724,\n",
              "  31],\n",
              " [371,\n",
              "  165,\n",
              "  438,\n",
              "  3565,\n",
              "  579,\n",
              "  193,\n",
              "  472,\n",
              "  131,\n",
              "  3,\n",
              "  12366,\n",
              "  245,\n",
              "  193,\n",
              "  472,\n",
              "  3703,\n",
              "  146,\n",
              "  8117,\n",
              "  835],\n",
              " [334, 8, 27463, 27464, 23, 48],\n",
              " [12, 594, 1757, 326, 12391, 7],\n",
              " [2433, 58],\n",
              " [118, 219, 6, 14, 50],\n",
              " [18966, 232, 3290, 316],\n",
              " [137, 118, 31, 47, 241, 476, 200, 209],\n",
              " [259, 995],\n",
              " [35, 7065, 7459, 29885, 1996, 2715, 511, 2058],\n",
              " [164, 104, 94, 1489, 203, 150, 1, 1345],\n",
              " [481, 114, 2026, 2164, 9438],\n",
              " [1104, 31, 1054, 252],\n",
              " [313, 6, 59, 4, 24, 3071, 82, 83, 21, 16, 1353],\n",
              " [19, 11, 672],\n",
              " [2725, 124, 232, 3483],\n",
              " [301, 710, 7356, 490, 2, 116, 86],\n",
              " [37, 16, 2312, 1234],\n",
              " [73, 20, 516, 2570, 17, 6158],\n",
              " [39, 9001, 253, 18790, 5086, 703, 31001, 11444, 1521, 31002, 31003],\n",
              " [79, 530, 38, 491, 20, 92, 134, 3117, 1019, 1629, 130, 804, 152],\n",
              " [35, 1, 72, 195, 73, 110, 1060],\n",
              " [8, 15535],\n",
              " [231, 444, 2437, 40, 33, 5, 7466, 109, 799],\n",
              " [15, 21, 7, 311, 208, 1903],\n",
              " [3, 129, 25, 1880, 159, 236, 438, 1454],\n",
              " [35, 29425, 19, 72, 1560, 637, 98, 69, 541],\n",
              " [84, 1467],\n",
              " [1625, 1596, 405, 581, 1119, 43, 1, 854, 991],\n",
              " [86, 42, 192, 11, 3429, 2303],\n",
              " [90, 3464, 1577],\n",
              " [1737, 2402, 2441, 31430, 428, 1500, 1922],\n",
              " [9227, 2548, 213, 1343, 22463, 4595, 51, 64, 11, 108, 54, 9955],\n",
              " [494, 2045, 97, 1455, 6, 424, 3879, 59, 2239, 75, 68],\n",
              " [100, 119],\n",
              " [335, 1458, 5639, 391, 723, 1977],\n",
              " [194],\n",
              " [23, 59, 75, 27, 5039, 5391, 729, 773],\n",
              " [55, 66, 1394],\n",
              " [4, 26, 5249],\n",
              " [36,\n",
              "  6,\n",
              "  102,\n",
              "  114,\n",
              "  2146,\n",
              "  4458,\n",
              "  6,\n",
              "  15027,\n",
              "  2985,\n",
              "  615,\n",
              "  30097,\n",
              "  893,\n",
              "  36,\n",
              "  383,\n",
              "  4078,\n",
              "  114,\n",
              "  30098,\n",
              "  2411,\n",
              "  5491,\n",
              "  2691],\n",
              " [101, 6, 224, 155, 2725, 4586, 10, 161],\n",
              " [185, 7, 19191, 4339, 1299, 4, 12130, 136, 102, 231, 13],\n",
              " [19, 28, 50],\n",
              " [18, 31299, 937, 3106, 180, 31300],\n",
              " [28653, 28654, 28655, 329, 28656],\n",
              " [48, 247, 778, 1143, 2410, 14062, 182, 109, 55, 189, 187, 2560],\n",
              " [35, 4671, 1890, 345, 120, 2787, 1222, 287, 6883, 55, 210],\n",
              " [9, 3182, 68, 7818, 155, 3082, 1379, 14, 4454, 87, 1, 3, 12],\n",
              " [135, 4, 31431, 6, 22, 3893, 342],\n",
              " [37, 275, 26],\n",
              " [33, 31432, 67, 373, 1611, 220, 2797, 8706, 9639, 267, 119],\n",
              " [320, 764, 21, 2833, 19001, 12775, 627, 11, 167, 1016, 106, 18432, 2, 30],\n",
              " [7978, 91, 14, 545],\n",
              " [9765, 1977, 9739, 1379, 47, 13266, 130, 4417, 31071, 4520],\n",
              " [22, 45, 5297, 3, 49],\n",
              " [228, 416, 304, 308],\n",
              " [11459, 7503, 147, 557, 53038],\n",
              " [53039, 12414, 134, 2381, 3680, 19139, 473],\n",
              " [166, 404, 678, 3546, 41, 29, 276, 280, 203, 147, 411, 1249, 4140, 106, 229],\n",
              " [184, 9, 582, 2115, 176, 326, 12, 1210, 849, 342, 111, 53040, 1011],\n",
              " [8954, 209, 69],\n",
              " [1828, 1828, 1828, 57],\n",
              " [12387, 8364, 31419, 79, 6462, 11, 18, 232, 424, 1264, 65],\n",
              " [1531, 2075, 185, 7, 675, 216, 59, 12, 39, 26, 49, 216, 3, 4, 49],\n",
              " [8629, 68, 26636, 3594],\n",
              " [61, 292, 865, 117, 4263, 1696, 18207, 531, 3128, 487, 1155],\n",
              " [2059, 12508, 5063, 12542, 31, 518, 213, 1964],\n",
              " [634, 375, 26, 520, 1, 2384, 429],\n",
              " [22, 161, 122, 66, 10],\n",
              " [296, 290, 53041, 40, 53042, 583, 53043, 50],\n",
              " [1938, 98, 91, 20689, 143, 323, 686, 45, 1237, 297, 39, 195],\n",
              " [27, 178, 1312, 324, 12, 6287, 221, 267, 8554],\n",
              " [101, 143, 102, 56],\n",
              " [135, 27, 53044, 11620, 2502, 5037, 19070, 53045, 2300, 53, 118, 1805],\n",
              " [850, 26, 70, 122, 148],\n",
              " [113, 110, 916],\n",
              " [103, 10917, 10918, 2607, 2097, 518, 22, 569, 247],\n",
              " [14329, 2822, 91, 2160, 2879, 281, 69, 1015, 3740, 910, 615, 676, 2791, 14],\n",
              " [42, 5, 9452, 840, 84, 216, 15, 224, 609, 16495, 387],\n",
              " [365, 223, 136, 2735, 53046],\n",
              " [899, 2926, 6458, 540, 4112, 3854, 53047],\n",
              " [1727, 1, 309],\n",
              " [4, 24, 32, 973, 107, 5205, 196, 924, 23368, 317],\n",
              " [151, 1263, 1269, 42, 856, 23, 297, 1250, 989, 10068],\n",
              " [143, 709, 162, 4792, 91, 191, 5806, 2, 7, 360, 637, 32],\n",
              " [3542, 26580, 8254, 1, 60, 2397, 298, 16, 275, 24, 109, 532, 23, 2454, 68],\n",
              " [12984,\n",
              "  2186,\n",
              "  439,\n",
              "  1030,\n",
              "  25,\n",
              "  23,\n",
              "  238,\n",
              "  154,\n",
              "  662,\n",
              "  25,\n",
              "  1481,\n",
              "  671,\n",
              "  12985,\n",
              "  3279,\n",
              "  5198,\n",
              "  12984],\n",
              " [29, 31151, 2045, 123, 7, 120],\n",
              " [17, 205, 259, 170, 890],\n",
              " [184, 405, 4591],\n",
              " [481, 53048, 10465, 155, 2744, 13, 7196],\n",
              " [1857, 1962, 683, 419, 409],\n",
              " [5749, 60, 8],\n",
              " [796, 9013, 1553, 1037, 1473, 75, 8152, 5896],\n",
              " [3818, 53049, 141, 1313, 230],\n",
              " [14, 1955, 31069, 86, 225],\n",
              " [79, 12, 22, 1, 10048, 392, 16, 33, 2, 3, 1844, 474, 386, 541, 25],\n",
              " [116, 2433, 84, 5386, 14],\n",
              " [2, 2655, 15, 7, 174],\n",
              " [1, 53050, 2655, 295, 145, 2053, 4410, 13264, 94, 452, 154],\n",
              " [40, 55, 66, 89, 46, 11, 47],\n",
              " [289, 28, 2984, 173, 40, 7, 117],\n",
              " [361, 79, 1180, 1844],\n",
              " [334, 4, 204, 534, 59, 75, 8, 27],\n",
              " [52, 196, 10523, 59, 2426, 64, 113, 3381, 2126, 6508, 15, 6, 2659, 7, 15828],\n",
              " [18305, 1188, 18306, 86, 18307, 10578, 2134, 18308, 1335, 2756, 18309],\n",
              " [75, 6, 1182, 2227, 26, 75, 1760, 1404, 19, 28],\n",
              " [496, 101, 133, 34, 8, 57],\n",
              " [806, 53051, 53052, 9808, 53053],\n",
              " [1, 70, 12698, 19, 17, 194, 763, 117, 20, 23, 146, 554],\n",
              " [290, 14],\n",
              " [17, 37, 1, 194],\n",
              " [3247, 53054, 53055, 626, 178, 81, 2, 129, 5289, 855, 4352, 36, 536],\n",
              " [144, 16, 31211, 196, 209, 53, 13933, 9],\n",
              " [70, 52, 883, 268, 203],\n",
              " [51, 218, 443, 5901, 53056, 22670, 505, 492, 456, 53057, 14394, 4844, 332],\n",
              " [725],\n",
              " [177, 4, 204],\n",
              " [12, 44, 40, 598, 542],\n",
              " [4, 24, 149, 74, 219, 132],\n",
              " [17, 1915, 12435, 291],\n",
              " [11, 1972],\n",
              " [753, 162, 522, 2306, 52, 764, 9],\n",
              " [262, 157, 53, 157, 53058, 20, 662, 451, 551, 375, 30, 11, 408],\n",
              " [77, 287, 53059, 541, 13827, 53060, 1869, 12349, 1087],\n",
              " [443, 864, 3, 255, 44, 405],\n",
              " [18, 295, 6555, 1221, 213, 4223, 680, 6057],\n",
              " [6385, 35, 30, 2684],\n",
              " [102,\n",
              "  114,\n",
              "  2260,\n",
              "  2521,\n",
              "  53061,\n",
              "  124,\n",
              "  8,\n",
              "  4714,\n",
              "  53062,\n",
              "  510,\n",
              "  927,\n",
              "  53063,\n",
              "  10236,\n",
              "  14801],\n",
              " [6981, 13639, 305, 67, 854, 4198, 1508, 17, 6854, 569, 21984],\n",
              " [133, 14, 687, 10380],\n",
              " [59, 14828, 5284, 4782, 6347, 456, 6866, 884, 20],\n",
              " [27048, 31, 1429, 295, 454, 62, 11728, 671, 550, 649],\n",
              " [14, 935, 5838, 151, 980, 154, 12513, 724, 1542, 68],\n",
              " [438, 174, 9762, 1925, 370, 93, 1540, 564],\n",
              " [70, 148, 148, 30030, 6234, 641, 1028, 30031, 1, 12, 58],\n",
              " [21348, 745, 21, 154],\n",
              " [1055, 179, 1835, 4841, 2, 62, 11, 307, 15, 94, 603, 1167, 1613],\n",
              " [2947, 5629, 26],\n",
              " [1463, 4792],\n",
              " [3092, 108, 7],\n",
              " [354],\n",
              " [556, 829],\n",
              " [17, 29, 1733],\n",
              " [28, 1133, 151, 1266, 396],\n",
              " [142, 671, 305, 1973, 202, 9713],\n",
              " [4442, 4722, 694, 224, 14],\n",
              " [180, 299, 9, 2887, 66, 3, 95],\n",
              " [2179, 8788, 5128, 15062, 3299, 34, 714, 838, 19, 269],\n",
              " [507, 36, 421, 179, 22, 3, 1183],\n",
              " [934, 29, 7190],\n",
              " [32, 23, 1221, 31],\n",
              " [144, 14, 940, 21755],\n",
              " [158, 21, 32, 95, 536, 33, 8441],\n",
              " [184, 5226, 26, 69],\n",
              " [312,\n",
              "  53064,\n",
              "  210,\n",
              "  5789,\n",
              "  9272,\n",
              "  19,\n",
              "  25,\n",
              "  1726,\n",
              "  25,\n",
              "  2833,\n",
              "  36,\n",
              "  883,\n",
              "  18276,\n",
              "  158,\n",
              "  594,\n",
              "  40,\n",
              "  25,\n",
              "  2952,\n",
              "  33,\n",
              "  5],\n",
              " [1, 13, 3, 122, 176, 234, 158, 21, 485],\n",
              " [58, 5053],\n",
              " [1, 837, 24955, 214, 19],\n",
              " [20529, 121, 92, 1069, 1023, 90, 424, 43, 3887, 1122, 347, 1500],\n",
              " [114, 81, 53065, 53066, 33],\n",
              " [1, 36, 44, 354, 298, 156],\n",
              " [20, 269],\n",
              " [4, 24, 211, 40, 106, 144, 5],\n",
              " [93, 12, 570, 64, 513],\n",
              " [445, 16948, 73, 996, 53, 1242],\n",
              " [216, 839, 27127],\n",
              " [947, 1678, 53067, 19559, 1573, 53068, 7075, 2258],\n",
              " [14,\n",
              "  14,\n",
              "  1944,\n",
              "  1662,\n",
              "  147,\n",
              "  266,\n",
              "  866,\n",
              "  457,\n",
              "  4189,\n",
              "  3707,\n",
              "  8,\n",
              "  6825,\n",
              "  33,\n",
              "  310,\n",
              "  9324,\n",
              "  893],\n",
              " [36, 561, 299, 581],\n",
              " [53069, 1, 39, 101, 39, 32, 859, 53070, 53071, 53072],\n",
              " [335, 3512, 262, 303, 225, 53073, 212, 94, 235, 692, 1012, 553, 9],\n",
              " [344, 18944, 177, 1512, 1196, 6739, 146, 74, 19],\n",
              " [2181, 1460, 177, 2183, 4882, 3585, 137, 25, 358, 25, 512, 261, 112, 329, 6],\n",
              " [6237, 21, 410],\n",
              " [12, 117, 3088, 3391, 467],\n",
              " [3, 38, 746, 2398, 28],\n",
              " [4117,\n",
              "  31433,\n",
              "  632,\n",
              "  6999,\n",
              "  17,\n",
              "  632,\n",
              "  3824,\n",
              "  179,\n",
              "  15,\n",
              "  8,\n",
              "  13,\n",
              "  57,\n",
              "  286,\n",
              "  639,\n",
              "  954,\n",
              "  12564,\n",
              "  2653,\n",
              "  31434,\n",
              "  8,\n",
              "  317],\n",
              " [41, 284, 12, 325, 593, 15, 87, 6, 526, 257, 8766, 11, 1, 631],\n",
              " [446, 1586, 245, 998, 337, 482, 3, 269, 854],\n",
              " [575, 16, 150, 10, 1011, 1519],\n",
              " [2523, 38, 42, 26, 93, 579, 15, 55, 4],\n",
              " [124, 47],\n",
              " [12, 223, 9, 393, 5643, 338, 6, 10, 46, 14955, 31325],\n",
              " [34, 27, 418, 1369, 226, 32, 678, 65],\n",
              " [565, 5, 36, 53074],\n",
              " [73, 922, 3983, 21],\n",
              " [24, 1722, 132],\n",
              " [367, 6875, 1593, 6397, 553, 4, 163, 117],\n",
              " [389, 30, 131, 657, 441, 6, 138, 1158, 134, 20, 5],\n",
              " [1, 36, 1032],\n",
              " [70, 11790, 14167, 54, 312, 14, 4147, 5219, 39, 1687, 9766, 10599, 86],\n",
              " [80, 870, 345, 536, 637, 51, 7, 958, 2643, 22791, 28],\n",
              " [52, 196, 466],\n",
              " [103, 226, 600, 585, 88, 20, 3, 1230, 129],\n",
              " [21],\n",
              " [14101, 3846],\n",
              " [19, 137, 100, 1418, 176, 65],\n",
              " [19,\n",
              "  486,\n",
              "  25,\n",
              "  153,\n",
              "  11,\n",
              "  156,\n",
              "  665,\n",
              "  109,\n",
              "  6,\n",
              "  5292,\n",
              "  277,\n",
              "  2492,\n",
              "  53075,\n",
              "  3044,\n",
              "  5,\n",
              "  2,\n",
              "  17,\n",
              "  53076,\n",
              "  20,\n",
              "  1683],\n",
              " [1531, 188, 31009, 381, 19147, 2327, 456, 6533, 5202, 627, 49, 1, 2720],\n",
              " [56, 127, 32, 184, 3608],\n",
              " [113, 543, 140, 885, 465, 12],\n",
              " [8088, 1633, 113],\n",
              " [259, 14, 8732, 162, 5152],\n",
              " [246, 57, 97, 64, 6, 140],\n",
              " [31220, 24, 219, 224, 14, 2648],\n",
              " [521, 20, 5, 2219, 896, 2219, 436, 20, 379, 2585],\n",
              " [176, 9, 275],\n",
              " [41, 6, 102, 10],\n",
              " [521, 1, 3, 12, 44, 26],\n",
              " [26823, 47, 26824],\n",
              " [1608, 3076],\n",
              " [4, 204, 3550],\n",
              " [14, 2902, 750, 6362, 2651, 3203, 14735, 57, 3, 1115, 53, 1228, 1259],\n",
              " [6561, 1, 227, 29, 855, 725, 2461, 7230, 302, 9349, 86],\n",
              " [4368, 271, 123],\n",
              " [175, 369, 7, 1063, 4, 5697, 2758, 3992, 1066, 5697],\n",
              " [62, 4161, 3033, 3377, 408, 703, 19],\n",
              " [2521, 5793, 184, 140, 101, 2, 18173, 697, 59, 1784, 65],\n",
              " [77, 42, 890, 41, 266, 120, 10960],\n",
              " [2388, 344, 342, 5, 44, 22, 43, 26, 8, 44, 220, 2877],\n",
              " [250, 31, 45, 237, 33, 2886, 569, 1841],\n",
              " [2123, 32, 41, 589],\n",
              " [11, 1617, 203, 245, 630, 986, 1206, 377, 41, 115, 1749, 45, 240],\n",
              " [22, 1562, 14196, 17947, 10369, 2692, 91, 238, 1928, 3937],\n",
              " [19173, 191],\n",
              " [1017, 224, 6, 9, 2, 55, 731, 674, 468],\n",
              " [3, 4, 5, 244, 18, 76, 8, 13, 713, 2856, 783],\n",
              " [1496, 975, 15, 7, 331],\n",
              " [134],\n",
              " [39, 130, 189, 10],\n",
              " [80, 15, 138, 1235, 53077],\n",
              " [1385, 327, 618, 1433, 1647, 94, 1878, 63],\n",
              " [14, 9561, 38],\n",
              " [29941, 29942, 364, 14230, 222, 2892, 110, 588, 29943],\n",
              " [247, 6379, 3095],\n",
              " [2103, 124, 424, 1165, 62, 17, 23, 1634, 19129, 31040, 2719, 41, 12599, 412],\n",
              " [222, 48, 441, 5785, 117, 164, 380, 2628, 441, 137, 47],\n",
              " [418, 418, 418],\n",
              " [1025, 14, 225, 4053, 27373],\n",
              " [25644, 25645, 1181, 1048],\n",
              " [1, 309, 236],\n",
              " [11, 18273, 2169, 53078, 1969],\n",
              " [105, 907, 907, 4, 12341, 17791, 216, 2156],\n",
              " [469, 128, 97, 10, 12159],\n",
              " [1436, 218, 109, 218, 3717, 2, 3189, 5288, 3145],\n",
              " [1642, 5, 9, 39, 1014, 99, 412, 8, 23, 1929, 931, 906],\n",
              " [80],\n",
              " [7963, 790, 70, 4165, 754, 3128],\n",
              " [23, 3671, 22, 3437, 187, 9, 145, 1117],\n",
              " [888, 14395, 32, 25, 17, 1180, 168, 46, 9518, 327, 561, 16],\n",
              " [16, 53079, 366, 53080, 53081, 5],\n",
              " [234, 7, 32, 33, 833, 1, 30, 131, 127, 327],\n",
              " [1695, 1739, 12, 57, 581],\n",
              " [4594, 398, 6859, 882, 268, 91, 191, 2326],\n",
              " [1218, 8731, 1245, 133, 22911, 11958, 835],\n",
              " [3577, 17, 4597, 4862],\n",
              " [9, 3797, 2, 33, 1, 30, 53082],\n",
              " [2276, 203, 14, 875, 301, 18, 295, 806, 2659, 349],\n",
              " [640, 206, 32, 298, 54, 7562],\n",
              " [1402, 97],\n",
              " [814, 765, 18042, 492, 10784, 20],\n",
              " [185, 9727],\n",
              " [273, 7063, 583, 4615, 89],\n",
              " [288],\n",
              " [368, 2580, 738, 215, 663, 13167, 12, 10205],\n",
              " [1021, 3, 1433, 2281, 4577, 2303, 4578],\n",
              " [369, 269, 2, 313, 377, 22037, 2053, 179, 22038, 10324, 2, 2084, 16509],\n",
              " [177, 683, 5593, 4, 16],\n",
              " [444, 619, 418],\n",
              " [3292, 236, 353, 1211, 12292],\n",
              " [84, 1, 2408, 92, 1233, 438, 4641, 2450, 614, 541, 153, 152],\n",
              " [431, 1247, 33, 208, 606, 230, 201, 434, 152],\n",
              " [803, 8455, 1560, 244],\n",
              " [12084, 2033, 889, 189, 8, 37, 30, 95],\n",
              " [53083, 3875, 18, 76, 114, 1993, 206, 789, 1639, 14, 135],\n",
              " [3609, 60],\n",
              " [212, 567, 298, 16, 160, 974, 4298, 582],\n",
              " [3108, 510, 56, 8867],\n",
              " [1, 4049, 381, 430, 1054, 104, 2050, 879, 869, 430],\n",
              " [4, 1946, 2, 556, 551, 134, 45, 1, 121, 105, 4856, 5982],\n",
              " [61, 1287, 38, 214, 275, 346, 3816, 2118],\n",
              " [126, 15, 32, 143, 323, 270, 7, 1, 332, 7467],\n",
              " [77, 865, 201, 232, 352, 472, 1607, 815, 43, 65, 1382, 19174, 2175, 55, 1175],\n",
              " [3397, 82, 83, 2708, 7, 66, 36, 5325, 19600, 6698],\n",
              " [1525, 136, 136, 27, 203, 251, 1011, 341, 281, 1011, 136, 37],\n",
              " [32, 20, 2524, 135, 1134, 23, 3798, 2917, 1761, 40, 6, 1091, 174, 846, 19],\n",
              " [2346, 194, 1237, 2601, 1967],\n",
              " [23,\n",
              "  4,\n",
              "  14,\n",
              "  2271,\n",
              "  8522,\n",
              "  2778,\n",
              "  433,\n",
              "  6035,\n",
              "  9300,\n",
              "  528,\n",
              "  287,\n",
              "  87,\n",
              "  6883,\n",
              "  1362,\n",
              "  16005,\n",
              "  6479],\n",
              " [184, 30, 11, 1650, 5478],\n",
              " [18, 295, 92, 68],\n",
              " [314, 136, 99, 116, 1432, 88, 515, 81, 6, 16, 36, 1210, 155, 233],\n",
              " [24],\n",
              " [22, 53084, 53085, 88, 4988, 7189, 3859, 19],\n",
              " [29291, 191],\n",
              " [33, 233, 78, 725],\n",
              " [116, 11, 10, 6625, 2, 90, 342, 71, 19],\n",
              " [791, 560, 143],\n",
              " [132, 785, 11, 1703, 77, 230, 5, 1, 3311, 5332, 391, 262, 452, 660],\n",
              " [84, 717, 1848, 13],\n",
              " [4125, 293, 39, 4216, 659, 162, 30796, 14151, 168, 269, 1, 227, 54],\n",
              " [1506, 534, 68, 13, 111, 13, 1220],\n",
              " [399, 633, 132, 600, 381, 96, 14438, 2, 19074, 10741, 1735, 7445],\n",
              " [12, 56, 2, 32, 187, 2297, 557, 2066],\n",
              " [7717, 15484, 465],\n",
              " [30, 105, 169, 12602, 218, 31, 110],\n",
              " [6276, 2707, 2049, 67, 26, 2, 272, 703, 388, 11719, 3, 109, 66],\n",
              " [53086, 29559, 27, 293, 1844, 1645, 7695, 53087, 20, 287, 959, 2276],\n",
              " [2425, 19198, 1289, 9696, 271, 1745, 466, 10123],\n",
              " [173, 173],\n",
              " [2209, 21578, 342, 22],\n",
              " [1392, 2987, 256, 334],\n",
              " [35, 11, 181, 1033, 3279, 89, 750, 241, 300, 11, 15, 751, 111, 3963, 3760],\n",
              " [80, 80],\n",
              " [1598, 8, 2476, 2, 6506, 903, 396, 15, 34, 344, 8930, 359],\n",
              " [230, 258, 152, 24, 40, 106, 760, 152],\n",
              " [722, 14175, 89, 255, 53088, 185, 29, 1701, 6726, 7, 10809],\n",
              " [3, 297, 9, 2418, 303, 65],\n",
              " [9439, 8065, 454, 11276, 13457, 30864, 27858, 269, 15068],\n",
              " [769, 40, 22],\n",
              " [2798, 6, 4523, 7, 203, 667, 39, 111, 3080, 308, 249, 836, 164, 2085, 2540],\n",
              " [53089, 1374, 114, 53090],\n",
              " [190, 1318, 538, 36, 9648, 43, 41, 344, 4357, 481, 114, 28993],\n",
              " [48, 28],\n",
              " [1135, 1000, 34, 8, 56, 2, 41, 344, 90, 199, 43, 41, 732, 3233],\n",
              " [29, 53091, 292, 316, 200],\n",
              " [30660, 39, 1844, 8836, 38, 829, 1240],\n",
              " [420, 35, 78, 720, 14, 29, 605, 3540, 601, 1128, 14, 3408, 1495],\n",
              " [10, 564, 34, 8, 37],\n",
              " [153, 920, 15, 347, 11614],\n",
              " [29441,\n",
              "  712,\n",
              "  26,\n",
              "  42,\n",
              "  26,\n",
              "  1482,\n",
              "  142,\n",
              "  29442,\n",
              "  176,\n",
              "  191,\n",
              "  12,\n",
              "  527,\n",
              "  2625,\n",
              "  229,\n",
              "  1387],\n",
              " [55, 252, 70, 122, 516, 115],\n",
              " [1, 368, 689, 321, 2112, 15758, 338, 2777, 36, 405, 89],\n",
              " [53, 29, 3751],\n",
              " [218, 2388, 49],\n",
              " [521,\n",
              "  330,\n",
              "  82,\n",
              "  83,\n",
              "  804,\n",
              "  270,\n",
              "  6944,\n",
              "  6,\n",
              "  330,\n",
              "  82,\n",
              "  83,\n",
              "  804,\n",
              "  3069,\n",
              "  521,\n",
              "  3635,\n",
              "  45,\n",
              "  343,\n",
              "  343,\n",
              "  2245],\n",
              " [5954, 120, 7, 11834, 31435, 6448, 745, 366],\n",
              " [28, 46, 2542, 62, 17, 20, 4420, 272, 21, 250, 23, 48],\n",
              " [292, 3424, 531, 315, 136, 848, 221, 2375, 9219, 2251, 6621, 52],\n",
              " [2442, 14444, 6594, 8, 378, 420, 274, 125, 274],\n",
              " [355, 939, 470, 54, 23322, 1052, 101, 10, 4952, 16],\n",
              " [105,\n",
              "  66,\n",
              "  9,\n",
              "  3311,\n",
              "  1384,\n",
              "  3989,\n",
              "  440,\n",
              "  11,\n",
              "  5398,\n",
              "  2,\n",
              "  586,\n",
              "  416,\n",
              "  193,\n",
              "  521,\n",
              "  10,\n",
              "  1370],\n",
              " [59, 630, 75, 17, 1, 656, 13, 56, 1, 9355, 19],\n",
              " [13, 1215, 67, 7509, 1791, 56, 342, 9, 43],\n",
              " [24, 398, 40, 25, 434, 5],\n",
              " [149, 258, 1426, 24],\n",
              " [52, 196, 158, 132, 2119, 111, 21, 3213, 258, 310],\n",
              " [19100, 3462, 2, 3, 9695, 2061, 1778, 402, 236, 147, 6, 524, 25],\n",
              " [933, 397, 1463, 277],\n",
              " [190, 618, 1606],\n",
              " [17, 592, 701],\n",
              " [25571, 271],\n",
              " [368, 2205],\n",
              " [3, 113, 229, 265, 6801, 172, 1587, 2831, 162],\n",
              " [14, 153, 531],\n",
              " [174, 465, 86, 185, 12638, 6252, 15709, 118, 4030, 72, 5413, 334],\n",
              " [80, 203, 88, 206, 23, 41, 241],\n",
              " [1077, 149, 313, 13, 17395, 16, 248, 13, 53092],\n",
              " [724, 308, 2, 377, 3874, 168, 2235, 3662],\n",
              " [59, 5905, 3891, 3861, 9, 1526, 13, 2727, 18, 76, 27],\n",
              " [4, 21, 2265, 3665],\n",
              " [138, 21, 34, 290, 134, 3, 2028],\n",
              " [85, 7209, 14222, 782, 646, 53093, 53094, 9658, 7209, 1, 53095, 2, 1354],\n",
              " [39, 9354, 15043, 17354, 7764, 9419, 28747, 27663, 825, 714, 392, 1629],\n",
              " [1, 72, 15604, 53096, 4687, 253, 70, 48, 163, 2052, 3713, 28, 4644, 3800],\n",
              " [49, 31415, 763, 123, 5073],\n",
              " [35, 216, 72],\n",
              " [368, 56, 264, 23, 41, 10, 89],\n",
              " [1775, 212, 96, 169, 5718, 2573, 134, 3, 2, 179],\n",
              " [18653, 20, 5, 4613, 279, 10238, 13, 3327, 209, 95, 16],\n",
              " [656, 10],\n",
              " [142, 3791, 11851, 2858, 13725, 4879],\n",
              " [19, 222, 416, 901, 1873, 20, 1587, 8, 31436],\n",
              " [176, 12, 44],\n",
              " [10313, 313, 765, 1275, 134, 47, 60, 8239, 313, 1565, 2, 234, 496, 1016],\n",
              " [355, 86],\n",
              " [144],\n",
              " [303, 127, 53097, 31, 18, 127, 1150],\n",
              " [14,\n",
              "  98,\n",
              "  79,\n",
              "  765,\n",
              "  235,\n",
              "  1272,\n",
              "  315,\n",
              "  297,\n",
              "  4759,\n",
              "  14889,\n",
              "  1050,\n",
              "  8,\n",
              "  460,\n",
              "  6,\n",
              "  301,\n",
              "  276],\n",
              " [15, 21, 74, 94, 4636, 14150, 53098, 53099, 2010],\n",
              " [459, 1744, 88, 71, 644, 254, 12, 56, 23, 23, 23, 101],\n",
              " [2022, 3870, 610, 283],\n",
              " [362, 7, 829, 12, 5777],\n",
              " [719, 620, 149, 193, 132, 5573, 1140, 4891, 6270],\n",
              " [30, 3, 2735, 155, 114, 132, 328, 1474, 580, 103, 7330],\n",
              " [293, 4, 168],\n",
              " [55, 38, 66, 28],\n",
              " [227, 9058],\n",
              " [151, 1061, 15610, 11233, 193, 334, 3, 1148, 60, 2256],\n",
              " [14, 206, 2469, 32, 516, 269, 16, 94, 452],\n",
              " [4, 275, 24, 92, 14, 1185],\n",
              " [31, 17879, 85, 2, 25695, 241, 39, 210, 25696],\n",
              " [63, 680],\n",
              " [53100, 3, 53, 4181, 53101],\n",
              " [1, 3, 102, 9],\n",
              " [803, 1108, 292, 644, 5499, 60, 208, 232, 898, 1054],\n",
              " [46, 90, 92],\n",
              " [34, 638, 2075, 1978, 62, 17, 39, 252, 2430, 43, 1880, 11, 10, 3947, 44],\n",
              " [35,\n",
              "  22,\n",
              "  273,\n",
              "  583,\n",
              "  1233,\n",
              "  2876,\n",
              "  53102,\n",
              "  104,\n",
              "  104,\n",
              "  63,\n",
              "  3188,\n",
              "  652,\n",
              "  379,\n",
              "  217,\n",
              "  14,\n",
              "  25,\n",
              "  50],\n",
              " [1, 72, 1226],\n",
              " [1228, 191, 199, 10, 1228, 423, 22, 1136, 1958, 216, 4, 30941],\n",
              " [116, 206, 461],\n",
              " [190, 829, 3, 105, 54, 55, 1017],\n",
              " [1128, 45, 20, 1656, 96, 366, 18, 44, 287, 366],\n",
              " [66,\n",
              "  155,\n",
              "  674,\n",
              "  398,\n",
              "  3573,\n",
              "  43,\n",
              "  8873,\n",
              "  39,\n",
              "  285,\n",
              "  91,\n",
              "  155,\n",
              "  239,\n",
              "  565,\n",
              "  674,\n",
              "  9718,\n",
              "  1052],\n",
              " [469, 469, 469],\n",
              " [2359,\n",
              "  562,\n",
              "  6334,\n",
              "  37,\n",
              "  217,\n",
              "  1924,\n",
              "  17016,\n",
              "  916,\n",
              "  2627,\n",
              "  30812,\n",
              "  30813,\n",
              "  2627,\n",
              "  30814,\n",
              "  12190,\n",
              "  4167,\n",
              "  7084],\n",
              " [121, 65],\n",
              " [1035, 480, 16, 59, 75, 8476, 325, 74],\n",
              " [4, 24, 31, 211],\n",
              " [491, 31437, 176, 1745, 110, 113, 3, 680, 31438, 31439],\n",
              " [31355, 2575, 31356, 597],\n",
              " [131, 31, 85, 16, 229, 1446, 664, 413, 12, 94, 53, 218],\n",
              " [930, 604, 2382, 53103, 8],\n",
              " [493,\n",
              "  261,\n",
              "  53104,\n",
              "  203,\n",
              "  25,\n",
              "  3092,\n",
              "  6,\n",
              "  53105,\n",
              "  25,\n",
              "  18540,\n",
              "  4242,\n",
              "  70,\n",
              "  153,\n",
              "  298,\n",
              "  497,\n",
              "  54,\n",
              "  15,\n",
              "  41],\n",
              " [191, 31440, 2106, 4235, 2826, 186, 323, 95, 16, 214, 19126, 31441],\n",
              " [3674, 15, 10347],\n",
              " [1408, 9195, 1324, 2052, 35, 4],\n",
              " [173, 20854, 20855, 498, 153, 29, 13271, 769],\n",
              " [70, 69, 2277, 14, 487],\n",
              " [850, 595, 62, 17, 226, 4091, 162, 89, 40],\n",
              " [789, 464, 597],\n",
              " [53106, 46, 202, 161],\n",
              " [8612, 8676, 475, 59, 69, 2, 76, 179, 1334, 25, 77, 2141, 209],\n",
              " [184, 1050, 1510],\n",
              " [1463],\n",
              " [74, 3284, 2974],\n",
              " [565, 5, 841, 261, 2532],\n",
              " [1758, 5853, 1028],\n",
              " [312, 236, 134, 325, 5905, 2597, 551, 6467],\n",
              " [1332, 152, 1, 12, 266, 732, 76, 472],\n",
              " [755, 76, 286, 21486, 244, 293, 412, 112, 12, 21487, 1030],\n",
              " [223, 3319, 2166, 97, 223, 41, 5849, 471, 18, 180, 141],\n",
              " [1068, 14],\n",
              " [216, 2498, 642, 5],\n",
              " [229, 203, 9, 7227, 61, 87, 1615],\n",
              " [53107, 86, 76, 27],\n",
              " [9, 237, 495, 310, 4894, 470, 474, 2850, 17300, 370],\n",
              " [37, 405, 6890, 4951, 1071, 31349, 6583],\n",
              " [4, 24, 106, 1, 2230, 52, 15, 21],\n",
              " [1, 30628, 30629, 19],\n",
              " [774, 106, 3796, 2886, 10594, 929, 288, 906],\n",
              " [53108, 18, 27, 19194, 13778, 228, 3, 746, 2280, 36, 6, 53109, 3177, 24],\n",
              " [399, 51, 74, 64, 47, 4237, 1, 1582, 7946, 54],\n",
              " [62, 849, 207, 16, 3384, 41, 328, 552, 6, 29, 6544, 8569],\n",
              " [4879, 53110, 728, 91, 127, 16, 2117, 56, 6, 44],\n",
              " [22, 15808, 142, 11510, 2449, 139, 1206],\n",
              " [302, 1557, 615, 676, 39],\n",
              " [184, 2533, 140],\n",
              " [55, 464, 136, 18874, 50, 433, 350, 14541, 150, 172, 32, 16, 29303],\n",
              " [682, 2120, 524, 4267, 3442, 5105, 29682],\n",
              " [2459, 12, 512, 1440],\n",
              " [14608, 185, 7, 182, 47],\n",
              " [13, 10, 15, 55, 101, 9, 23, 987, 11, 4312, 5195],\n",
              " [1307, 92, 8387, 53111],\n",
              " [21, 2, 32, 94],\n",
              " [62, 872, 253, 5585, 16342, 11737, 242, 1684, 111, 15, 1740, 731, 5826, 2733],\n",
              " [5991, 623, 730, 53112, 134, 165, 31116, 110, 20, 16],\n",
              " [1179, 2228, 5802, 20, 376, 599, 49, 28, 1067],\n",
              " [30, 3092, 657, 31, 176, 2, 1240, 135],\n",
              " [24, 48, 1666],\n",
              " [3549, 5, 1087, 2146, 21623],\n",
              " [327],\n",
              " [11718, 1, 5717],\n",
              " [944, 23, 67, 405],\n",
              " [1119, 238, 311, 5305, 820],\n",
              " [170, 211, 242, 10085, 433, 9487, 163, 222, 63],\n",
              " [18, 1249, 3009, 10774, 8065, 319],\n",
              " [3, 34, 8, 713],\n",
              " [22, 40, 6, 54],\n",
              " [6870, 1569, 3, 8, 60],\n",
              " [20, 213, 1150, 818, 3273],\n",
              " [98, 289, 933],\n",
              " [2427, 45, 33, 16, 17, 4, 373],\n",
              " [4115, 120, 1253, 406, 366, 391, 116, 1100, 3751],\n",
              " [59, 231, 311, 69],\n",
              " [227, 6456, 4524, 3453],\n",
              " [106, 481],\n",
              " [148, 25],\n",
              " [55, 252, 202, 1014, 1038, 9875, 10881, 1436, 599],\n",
              " [205, 191, 761, 9],\n",
              " [3467,\n",
              "  24672,\n",
              "  90,\n",
              "  24673,\n",
              "  24674,\n",
              "  9598,\n",
              "  1164,\n",
              "  6384,\n",
              "  2996,\n",
              "  237,\n",
              "  1164,\n",
              "  313,\n",
              "  1478,\n",
              "  456],\n",
              " [181, 597, 8680, 114, 81, 78, 7, 1331, 8, 2, 20, 5, 16, 1316, 531, 211],\n",
              " [1402, 903, 31, 2184, 142, 10722, 48, 1450, 694, 53113],\n",
              " [634, 39, 433, 130, 5682, 7, 65],\n",
              " [39, 1738, 2613, 118, 876, 723, 20987, 3480, 212, 94, 465, 5942],\n",
              " [1226],\n",
              " [712, 9084, 197, 70, 945, 1872, 10169, 244, 88, 694, 220],\n",
              " [2151, 95, 71, 280, 767, 3, 52, 4466, 1232, 1749, 1938, 66, 88, 16],\n",
              " [227, 1350, 1940, 851],\n",
              " [2517, 28, 983, 68, 30738],\n",
              " [293, 109, 336, 1783, 54],\n",
              " [303, 195, 225, 2, 605, 3505],\n",
              " [3370, 6, 13, 1708, 220, 350, 235, 62, 23, 367, 2269, 262, 1227, 12, 206],\n",
              " [661, 3262, 2659, 3, 986],\n",
              " [73, 31, 3, 1678, 1476],\n",
              " [],\n",
              " [6215, 405, 2973],\n",
              " [52, 3025, 53114, 53115, 383, 1850, 477, 1747, 499],\n",
              " [9, 91, 5, 143, 233],\n",
              " [99, 1, 5430, 2419, 675],\n",
              " [2375, 429, 34, 22318, 7885],\n",
              " [302, 41, 3216, 17, 486, 1705, 6490, 1162, 111],\n",
              " [577, 5238, 741, 442],\n",
              " [34, 961],\n",
              " [1193, 15, 895, 9393, 125, 160, 24603],\n",
              " [244, 584, 938, 53, 5635, 1573, 165, 202, 1647, 1050],\n",
              " [2042, 756, 11, 218, 41, 8, 56, 89, 119],\n",
              " [432, 31442, 11, 3760, 4517, 1365, 38, 5556, 4317],\n",
              " [218, 10849, 533, 109, 12731, 7, 4626, 58, 533],\n",
              " [635, 1832, 169, 16, 1486, 416, 17105, 9876, 53116, 54, 891],\n",
              " [22, 222, 98, 1186, 87, 17, 259, 291, 160, 496, 986, 1238, 38, 709, 2864],\n",
              " [19, 6733, 1257, 35, 7442],\n",
              " [124, 8, 378, 2, 223, 815, 331],\n",
              " [320, 27, 31443, 248, 31444, 1184, 31445, 14124],\n",
              " [463, 2030, 1002, 1620, 25097, 552, 1507, 298, 169],\n",
              " [313, 562, 2702, 91, 47, 52, 562],\n",
              " [2167, 705, 103, 197],\n",
              " [15, 21, 356, 3723, 139, 2, 42, 26, 12, 117, 905, 2, 523, 10, 67, 267],\n",
              " [15, 23, 34, 8, 13, 10, 43, 155, 779, 175, 53, 1081],\n",
              " [4117,\n",
              "  31433,\n",
              "  632,\n",
              "  6999,\n",
              "  17,\n",
              "  632,\n",
              "  3824,\n",
              "  179,\n",
              "  15,\n",
              "  8,\n",
              "  13,\n",
              "  57,\n",
              "  286,\n",
              "  639,\n",
              "  954,\n",
              "  12564,\n",
              "  2653,\n",
              "  31434,\n",
              "  8,\n",
              "  317],\n",
              " [70, 3340, 1261, 226, 1799, 142, 53117],\n",
              " [548, 597, 91, 163, 143],\n",
              " [78, 34],\n",
              " [100, 1247, 189, 53118, 7581, 925, 6352, 1126, 53119, 53120, 4276, 322, 893],\n",
              " [1086, 95, 1609, 264, 5, 105, 7, 1, 53, 121, 1891, 43, 2, 3483, 216, 427],\n",
              " [1013, 1106, 3, 990, 618, 2823, 309, 2800, 4694, 108, 334, 12, 13, 56],\n",
              " [173, 7421, 1608, 114, 608, 414, 185, 7, 2145, 7422],\n",
              " [24, 391, 19478, 340, 373, 637, 161, 3008, 751, 18, 76],\n",
              " [14, 1647, 437, 154, 8115, 370, 115, 15405],\n",
              " [221, 31, 2614, 1, 2614],\n",
              " [742, 107, 20, 633, 197, 25015, 182, 2254, 671, 316, 28, 903, 12299],\n",
              " [1, 479, 1664],\n",
              " [9, 2045, 342, 111],\n",
              " [240, 12],\n",
              " [33, 349, 20, 298, 233, 33, 71, 258, 1450],\n",
              " [46, 347, 1051, 25, 1873, 9782, 252, 119, 8, 195, 982, 1, 937, 4, 119, 119],\n",
              " [78, 2, 239, 113, 18495, 7573, 643, 460, 194, 10104],\n",
              " [28, 138],\n",
              " [686, 11, 1238, 1325, 6469, 2030],\n",
              " [14, 104, 408, 4624, 144],\n",
              " [36, 10],\n",
              " [12132, 198, 567, 242],\n",
              " [453, 302, 34, 5087, 2280],\n",
              " [53121, 1578, 77, 27, 241, 147, 408, 387],\n",
              " [46, 91, 53122, 213, 22, 296, 8, 696, 2239, 46, 6, 609, 53123],\n",
              " [71,\n",
              "  12,\n",
              "  95,\n",
              "  1193,\n",
              "  216,\n",
              "  158,\n",
              "  308,\n",
              "  8,\n",
              "  9494,\n",
              "  158,\n",
              "  1997,\n",
              "  220,\n",
              "  2447,\n",
              "  19,\n",
              "  85,\n",
              "  401,\n",
              "  51,\n",
              "  429],\n",
              " [14, 543, 112, 2, 53, 704],\n",
              " [136, 2735, 53124, 57, 376, 2768, 17, 2629, 844, 39, 3561, 1864],\n",
              " [23, 4330, 3304, 129, 33, 555, 301, 1138, 8837, 14587, 1874, 4408],\n",
              " [10],\n",
              " [13215, 867, 56, 261, 180, 950, 483, 822, 5865],\n",
              " [611],\n",
              " [1115, 58, 72, 6740, 10440, 90, 53125],\n",
              " [253, 2095, 14494],\n",
              " [247, 7730, 6030, 1196],\n",
              " [2, 755, 387, 4, 20],\n",
              " [5007, 3254, 4895],\n",
              " [3206, 53126],\n",
              " [18064, 1305, 251, 1522, 808, 3, 251, 700, 2289],\n",
              " [],\n",
              " [10603, 4282, 584, 18041],\n",
              " [488, 31, 386, 759, 320, 107, 757, 12594, 18668],\n",
              " [585, 630, 12, 6807, 5351, 1, 73, 458, 3, 192],\n",
              " [5234, 128, 1, 72, 3440, 134, 2175],\n",
              " [179, 739, 179, 5, 18728, 2, 29, 5, 461],\n",
              " [85, 145, 143, 28, 831, 226, 53127, 1778, 772, 1147, 4691, 3926, 1344],\n",
              " [53128, 184, 12, 44, 1030, 22, 4, 26],\n",
              " [14, 394, 1, 253],\n",
              " [21, 14],\n",
              " [4, 204],\n",
              " [949, 31],\n",
              " [8910,\n",
              "  280,\n",
              "  96,\n",
              "  53129,\n",
              "  5819,\n",
              "  5189,\n",
              "  1108,\n",
              "  146,\n",
              "  53130,\n",
              "  19175,\n",
              "  2881,\n",
              "  210,\n",
              "  466,\n",
              "  9829,\n",
              "  4257,\n",
              "  2208,\n",
              "  201,\n",
              "  5185],\n",
              " [10, 178, 81, 16, 5765, 310],\n",
              " [17, 13, 278, 5, 1264, 28964, 4550, 670, 1014, 893, 1, 318, 6107, 472, 50],\n",
              " [131, 10, 1136, 6, 56, 6, 102, 10, 650, 50, 130, 42, 26],\n",
              " [1098, 1558, 1390, 1777],\n",
              " [],\n",
              " [1045, 4, 110, 7637, 61, 12627, 291],\n",
              " [602, 1, 30, 3, 22, 255, 8, 7264, 2363],\n",
              " [12, 53131, 583, 92, 2, 12, 2668, 1110, 6238],\n",
              " [1650, 4771],\n",
              " [164, 345, 408, 1585, 572, 1539, 120, 84],\n",
              " [123, 2136, 32, 51, 344, 232, 352],\n",
              " [2022, 3870, 610, 283],\n",
              " [53132, 96, 466, 7704, 53133, 812, 25808, 53134, 601, 45, 67, 19],\n",
              " [19, 20, 5, 20, 5, 113, 51, 649, 9, 88, 16],\n",
              " [35, 11, 10570, 113],\n",
              " [149, 5, 4160, 141, 273, 132, 785],\n",
              " [41, 225, 238, 159, 24459, 476],\n",
              " [306, 574, 439, 3505, 25, 21],\n",
              " [17,\n",
              "  29,\n",
              "  531,\n",
              "  1,\n",
              "  14,\n",
              "  53135,\n",
              "  233,\n",
              "  18,\n",
              "  76,\n",
              "  5,\n",
              "  17,\n",
              "  13,\n",
              "  57,\n",
              "  53136,\n",
              "  780,\n",
              "  85,\n",
              "  110,\n",
              "  50],\n",
              " [4, 24, 3927, 160, 642, 2136, 9, 373, 4047, 362, 28637],\n",
              " [31410, 57, 9, 4637, 4965, 3057, 2, 123, 5, 53137, 53138],\n",
              " [4737, 375, 26, 520, 1263, 54],\n",
              " [1044, 1, 394, 1309, 510, 1420, 1809, 10505],\n",
              " [10223, 280, 327, 431, 1518, 140, 1258, 3794],\n",
              " [116, 275, 6964, 681, 120, 257, 224, 1406, 7199],\n",
              " [1947, 824, 824],\n",
              " [568, 1229, 30868, 2913],\n",
              " [144, 2, 3872, 453, 53139],\n",
              " [14974, 493, 261],\n",
              " [398, 64, 52, 41],\n",
              " [3097, 420, 235, 182],\n",
              " [],\n",
              " [382, 31, 4363],\n",
              " [740, 18, 23, 636, 442, 286, 1955, 457, 37],\n",
              " [28, 39, 18380, 14824, 5210, 757, 114, 400, 28, 114, 144, 1647, 874],\n",
              " [919, 1156, 2805, 1824],\n",
              " [62, 287, 7478, 425, 1591, 68, 71, 6, 301, 797],\n",
              " [1, 494, 23, 101, 333, 47, 9, 2, 172, 207, 10, 99, 3587],\n",
              " [32, 162, 171],\n",
              " [78, 2, 18, 526, 840, 54, 475, 91, 5631, 40, 32, 62, 323, 693, 747],\n",
              " [12, 117, 597],\n",
              " [227, 167, 404, 29, 516],\n",
              " [493, 25, 1913, 1506, 9116, 33, 93, 8, 1552, 15, 628, 1629, 65],\n",
              " [71, 388, 6, 758, 758, 4264, 38, 41, 38, 1, 170, 12, 6, 99],\n",
              " [41, 8, 56, 92, 68],\n",
              " [229,\n",
              "  156,\n",
              "  96,\n",
              "  156,\n",
              "  652,\n",
              "  53140,\n",
              "  53141,\n",
              "  586,\n",
              "  36,\n",
              "  53142,\n",
              "  378,\n",
              "  1153,\n",
              "  7827,\n",
              "  11,\n",
              "  10145,\n",
              "  129],\n",
              " [22, 1852, 399, 166, 212, 32, 1, 2720, 335, 16, 36, 1103, 2043],\n",
              " [45, 108, 50],\n",
              " [53143, 9854, 12364, 53144],\n",
              " [1, 26107, 631, 4423, 7378, 26108],\n",
              " [2042, 469, 176, 612, 2556, 357, 4067, 74, 814, 26, 3, 7040, 1, 53145],\n",
              " [256, 25, 67, 596, 922, 662, 120, 24, 40, 2130, 140, 16, 691],\n",
              " [554, 1893, 40, 48, 5, 278],\n",
              " [987, 12, 13, 57, 43],\n",
              " [45, 99, 26, 37, 217, 56, 548, 1, 4365],\n",
              " [184, 1050, 650, 150, 275, 26, 4437, 20322, 645, 2310],\n",
              " [79, 18, 532, 6, 36, 20796],\n",
              " [2778, 5542, 936, 13393, 30892, 1568, 729],\n",
              " [1477, 138, 1872, 72, 1251, 3, 3065, 206, 2198, 108, 1923, 249, 425],\n",
              " [41, 157, 238, 522, 126, 4, 14985, 1430, 580, 327],\n",
              " [16, 397, 4078, 6, 4093, 10471, 656],\n",
              " ...]"
            ]
          },
          "metadata": {},
          "execution_count": 152
        }
      ]
    },
    {
      "cell_type": "code",
      "source": [],
      "metadata": {
        "id": "nHQNpcvC3OYq"
      },
      "execution_count": 152,
      "outputs": []
    },
    {
      "cell_type": "code",
      "metadata": {
        "id": "ggUYjSWPy_rt"
      },
      "source": [
        "# print('Maximum tweet length: {}'.format(\n",
        "# len((max((train_text_vec + test_text_vec), key=len)))))"
      ],
      "execution_count": 153,
      "outputs": []
    },
    {
      "cell_type": "code",
      "metadata": {
        "colab": {
          "base_uri": "https://localhost:8080/"
        },
        "id": "Mvvw_FKoLZgM",
        "outputId": "45b84ec9-49b0-425b-fe0b-8876c2b0f3fa"
      },
      "source": [
        "#checking the next maximum number\n",
        "lenght = []\n",
        "for i in (train_text_vec + test_text_vec):\n",
        "  if  10<len(i)<28:\n",
        "    lenght.append(len(i))\n",
        "max(lenght)"
      ],
      "execution_count": 154,
      "outputs": [
        {
          "output_type": "execute_result",
          "data": {
            "text/plain": [
              "27"
            ]
          },
          "metadata": {},
          "execution_count": 154
        }
      ]
    },
    {
      "cell_type": "markdown",
      "metadata": {
        "id": "4sPjEZemt-zP"
      },
      "source": [
        "We can leave the maximum word length to 28"
      ]
    },
    {
      "cell_type": "code",
      "metadata": {
        "id": "0ZsZoyDCM3DO"
      },
      "source": [],
      "execution_count": 154,
      "outputs": []
    },
    {
      "cell_type": "code",
      "metadata": {
        "id": "FyvgddeWMINq"
      },
      "source": [
        "## train['processed_tweets'].apply(lambda x : len(x.split(' '))).quantile(0.95)"
      ],
      "execution_count": 155,
      "outputs": []
    },
    {
      "cell_type": "code",
      "metadata": {
        "colab": {
          "base_uri": "https://localhost:8080/"
        },
        "id": "TsMEdDf9y_je",
        "outputId": "d3e9b41b-73ce-4de2-e46e-1584cda8569c"
      },
      "source": [
        "# pad the sequences\n",
        "\n",
        "from keras.preprocessing import sequence\n",
        "max_words = 28\n",
        "X_train = sequence.pad_sequences(train_text_vec, maxlen=max_words)\n",
        "X_test = sequence.pad_sequences(test_text_vec, maxlen=max_words)\n",
        "# modelCNN = None\n",
        "modelRNN=None\n",
        "modelLSTM=None\n",
        "print (\"After Padding X[train[0]=\\n\", X_test[0])"
      ],
      "execution_count": 156,
      "outputs": [
        {
          "output_type": "stream",
          "name": "stdout",
          "text": [
            "After Padding X[train[0]=\n",
            " [    0     0     0     0     0     0     0     0     0     0     0     0\n",
            "     0     0     0    22   305     4   373    17   954  2837   127   107\n",
            "   276   390 19020 52973]\n"
          ]
        }
      ]
    },
    {
      "cell_type": "code",
      "metadata": {
        "id": "ZPJHOJKmy_gc"
      },
      "source": [],
      "execution_count": 156,
      "outputs": []
    },
    {
      "cell_type": "markdown",
      "metadata": {
        "id": "ZiliCqUugJ3i"
      },
      "source": [
        "<br>\n",
        "\n",
        "**End of Data Preprocessing!!**\n",
        "\n"
      ]
    },
    {
      "cell_type": "code",
      "metadata": {
        "id": "XaaDs1_GyLMi"
      },
      "source": [],
      "execution_count": 156,
      "outputs": []
    },
    {
      "cell_type": "markdown",
      "metadata": {
        "id": "9fGDTDeTN5WL"
      },
      "source": [
        "##**Modelling**"
      ]
    },
    {
      "cell_type": "code",
      "metadata": {
        "colab": {
          "base_uri": "https://localhost:8080/"
        },
        "id": "EeWISUU0YbNX",
        "outputId": "920d3f70-8501-4eb1-e8e7-ae4eddaebe89"
      },
      "source": [
        "word_index = tokenizer.word_index\n",
        "print('Found %s unique tokens.' % len(word_index))"
      ],
      "execution_count": 157,
      "outputs": [
        {
          "output_type": "stream",
          "name": "stdout",
          "text": [
            "Found 55309 unique tokens.\n"
          ]
        }
      ]
    },
    {
      "cell_type": "code",
      "metadata": {
        "colab": {
          "base_uri": "https://localhost:8080/"
        },
        "id": "TE1m88wDOLPs",
        "outputId": "de303d0a-0382-478c-b4ff-d5065cefba53"
      },
      "source": [
        "len((train_text_vec + test_text_vec))*2"
      ],
      "execution_count": 158,
      "outputs": [
        {
          "output_type": "execute_result",
          "data": {
            "text/plain": [
              "255602"
            ]
          },
          "metadata": {},
          "execution_count": 158
        }
      ]
    },
    {
      "cell_type": "code",
      "metadata": {
        "id": "Fkyoj9L4yLJm"
      },
      "source": [
        "\n",
        "vocabulary_size = len((train_text_vec + test_text_vec))*2"
      ],
      "execution_count": 159,
      "outputs": []
    },
    {
      "cell_type": "markdown",
      "source": [
        "#Glove Embeddings"
      ],
      "metadata": {
        "id": "UpS81fvt5XUV"
      }
    },
    {
      "cell_type": "code",
      "metadata": {
        "colab": {
          "base_uri": "https://localhost:8080/"
        },
        "id": "RDoWTQWQyLEE",
        "outputId": "2ed08ef4-59f3-4e22-fc9a-a5eefb59b69a"
      },
      "source": [
        "#Glove\n",
        "embeddings_index = {}\n",
        "f = open('/content/glove.6B.100d.txt') # 6 billion glove words \n",
        "for line in f:\n",
        "    values = line.split()\n",
        "    word = values[0]\n",
        "    coefs = np.asarray(values[1:], dtype='float32')\n",
        "    embeddings_index[word] = coefs\n",
        "f.close()\n",
        "\n",
        "print('Found %s word vectors.' % len(embeddings_index))"
      ],
      "execution_count": 160,
      "outputs": [
        {
          "output_type": "stream",
          "name": "stdout",
          "text": [
            "Found 398759 word vectors.\n"
          ]
        }
      ]
    },
    {
      "cell_type": "code",
      "metadata": {
        "id": "I55JVJt7D_Yt"
      },
      "source": [],
      "execution_count": 160,
      "outputs": []
    },
    {
      "cell_type": "code",
      "metadata": {
        "id": "-79anUm2yLBc"
      },
      "source": [
        "# embedding_matrix = np.zeros((vocab_size,300))\n",
        "# for word,i in tqdm(token.word_index.items()):\n",
        "#     embedding_value = embedding_vector.get(word)\n",
        "#     if embedding_value is not None:\n",
        "#         embedding_matrix[i] = embedding_value"
      ],
      "execution_count": 161,
      "outputs": []
    },
    {
      "cell_type": "code",
      "metadata": {
        "id": "hVJKPRqUyK-4"
      },
      "source": [
        "#embedding matrix\n",
        "embedding_matrix = np.zeros((vocabulary_size, 100))\n",
        "for word, i in word_index.items():\n",
        "    embedding_vector = embeddings_index.get(word)\n",
        "    if embedding_vector is not None:\n",
        "        # words not found in embedding index will be all-zeros.\n",
        "        embedding_matrix[i] = embedding_vector\n",
        "# embedding_matrix.shape"
      ],
      "execution_count": 162,
      "outputs": []
    },
    {
      "cell_type": "markdown",
      "source": [
        "#Recurrent Neural Network(RNN)"
      ],
      "metadata": {
        "id": "Ii_ifjMX96eb"
      }
    },
    {
      "cell_type": "code",
      "metadata": {
        "id": "avocMKZFu_HM"
      },
      "source": [
        "#Now create a simple RNN model and lets see the accuracy\n",
        "from keras.layers import SimpleRNN\n",
        "from tensorflow.keras import regularizers"
      ],
      "execution_count": 163,
      "outputs": []
    },
    {
      "cell_type": "code",
      "metadata": {
        "id": "N1Vcm0TdyK4R",
        "colab": {
          "base_uri": "https://localhost:8080/"
        },
        "outputId": "d51b450c-8835-4165-af10-c6df6cdfa155"
      },
      "source": [
        "embedding_size=100\n",
        "\n",
        "\n",
        "modelRNN=Sequential()\n",
        "modelRNN.add(Embedding(vocabulary_size,embedding_size,weights = [embedding_matrix],input_length=28)) #embdsize\n",
        "# modelRNN.add(Embedding(vocabulary_size, embedding_size, input_length=max_words))\n",
        "modelRNN.add(Dropout(0.70))\n",
        "modelRNN.add(SimpleRNN(150,activation = \"tanh\",kernel_regularizer=regularizers.l2(0.01)))  # 150 neurons\n",
        "#Tanh Activation is an activation function used for neural networks: f ( x ) = e x − e − x e x + e − x. Historically, the tanh function became preferred over the sigmoid function as it gave better performance for multi-layer neural networks.\n",
        "modelRNN.add(Dropout(0.15))\n",
        "modelRNN.add(Dense(1, activation='sigmoid'))\n",
        "print(modelRNN.summary())"
      ],
      "execution_count": 164,
      "outputs": [
        {
          "output_type": "stream",
          "name": "stdout",
          "text": [
            "Model: \"sequential_6\"\n",
            "_________________________________________________________________\n",
            " Layer (type)                Output Shape              Param #   \n",
            "=================================================================\n",
            " embedding_3 (Embedding)     (None, 28, 100)           25560200  \n",
            "                                                                 \n",
            " dropout_4 (Dropout)         (None, 28, 100)           0         \n",
            "                                                                 \n",
            " simple_rnn_2 (SimpleRNN)    (None, 150)               37650     \n",
            "                                                                 \n",
            " dropout_5 (Dropout)         (None, 150)               0         \n",
            "                                                                 \n",
            " dense_3 (Dense)             (None, 1)                 151       \n",
            "                                                                 \n",
            "=================================================================\n",
            "Total params: 25,598,001\n",
            "Trainable params: 25,598,001\n",
            "Non-trainable params: 0\n",
            "_________________________________________________________________\n",
            "None\n"
          ]
        }
      ]
    },
    {
      "cell_type": "code",
      "metadata": {
        "id": "bdQbFFvOyKyy"
      },
      "source": [
        "modelRNN.compile(loss='binary_crossentropy', \n",
        "             optimizer='adam', \n",
        "             metrics=['accuracy'])"
      ],
      "execution_count": 165,
      "outputs": []
    },
    {
      "cell_type": "code",
      "metadata": {
        "id": "KHdqFP5yyKvj"
      },
      "source": [
        "batch_size = 1024\n",
        "num_epochs = 20\n",
        "X_valid, y_valid = X_train[:batch_size], y_train[:batch_size]\n",
        "X_train2, y_train2 = X_train[batch_size:], y_train[batch_size:]\n",
        "callback_listRNN  = [#early1\n",
        "                keras.callbacks.ModelCheckpoint(filepath=\"my_modRNN_BestValAcc.h5\", monitor=\"val_acc\",\n",
        "                                               save_best_only=True),\n",
        "                #keras.callbacks.TerminateOnNaN()\n",
        "                ]"
      ],
      "execution_count": 166,
      "outputs": []
    },
    {
      "cell_type": "code",
      "metadata": {
        "id": "pJRJQ4liyKsc",
        "colab": {
          "base_uri": "https://localhost:8080/"
        },
        "outputId": "d30c4890-5736-4be6-a6f9-82ba1fd422b4"
      },
      "source": [
        "history = modelRNN.fit(X_train2, y_train2, validation_data=(X_valid, y_valid), batch_size=batch_size, epochs=num_epochs, \n",
        "             callbacks=callback_listRNN)\n",
        "modelRNN.save_weights(\"my_modRNN_Latest\")"
      ],
      "execution_count": 167,
      "outputs": [
        {
          "output_type": "stream",
          "name": "stdout",
          "text": [
            "Epoch 1/20\n",
            "112/112 [==============================] - ETA: 0s - loss: 1.2432 - accuracy: 0.5728"
          ]
        },
        {
          "output_type": "stream",
          "name": "stderr",
          "text": [
            "WARNING:tensorflow:Can save best model only with val_acc available, skipping.\n"
          ]
        },
        {
          "output_type": "stream",
          "name": "stdout",
          "text": [
            "\b\b\b\b\b\b\b\b\b\b\b\b\b\b\b\b\b\b\b\b\b\b\b\b\b\b\b\b\b\b\b\b\b\b\b\b\b\b\b\b\b\b\b\b\b\b\b\b\b\b\b\b\b\b\b\b\b\b\b\b\b\b\b\b\b\b\b\b\b\b\b\b\b\b\b\b\b\b\b\b\b\b\b\b\r112/112 [==============================] - 6s 44ms/step - loss: 1.2432 - accuracy: 0.5728 - val_loss: 0.8581 - val_accuracy: 0.5723\n",
            "Epoch 2/20\n",
            "111/112 [============================>.] - ETA: 0s - loss: 0.7177 - accuracy: 0.6270"
          ]
        },
        {
          "output_type": "stream",
          "name": "stderr",
          "text": [
            "WARNING:tensorflow:Can save best model only with val_acc available, skipping.\n"
          ]
        },
        {
          "output_type": "stream",
          "name": "stdout",
          "text": [
            "\b\b\b\b\b\b\b\b\b\b\b\b\b\b\b\b\b\b\b\b\b\b\b\b\b\b\b\b\b\b\b\b\b\b\b\b\b\b\b\b\b\b\b\b\b\b\b\b\b\b\b\b\b\b\b\b\b\b\b\b\b\b\b\b\b\b\b\b\b\b\b\b\b\b\b\b\b\b\b\b\b\b\b\b\r112/112 [==============================] - 5s 43ms/step - loss: 0.7176 - accuracy: 0.6270 - val_loss: 0.6615 - val_accuracy: 0.6270\n",
            "Epoch 3/20\n",
            "111/112 [============================>.] - ETA: 0s - loss: 0.6148 - accuracy: 0.6773"
          ]
        },
        {
          "output_type": "stream",
          "name": "stderr",
          "text": [
            "WARNING:tensorflow:Can save best model only with val_acc available, skipping.\n"
          ]
        },
        {
          "output_type": "stream",
          "name": "stdout",
          "text": [
            "\b\b\b\b\b\b\b\b\b\b\b\b\b\b\b\b\b\b\b\b\b\b\b\b\b\b\b\b\b\b\b\b\b\b\b\b\b\b\b\b\b\b\b\b\b\b\b\b\b\b\b\b\b\b\b\b\b\b\b\b\b\b\b\b\b\b\b\b\b\b\b\b\b\b\b\b\b\b\b\b\b\b\b\b\r112/112 [==============================] - 5s 44ms/step - loss: 0.6147 - accuracy: 0.6774 - val_loss: 0.5547 - val_accuracy: 0.7314\n",
            "Epoch 4/20\n",
            "111/112 [============================>.] - ETA: 0s - loss: 0.5682 - accuracy: 0.7152"
          ]
        },
        {
          "output_type": "stream",
          "name": "stderr",
          "text": [
            "WARNING:tensorflow:Can save best model only with val_acc available, skipping.\n"
          ]
        },
        {
          "output_type": "stream",
          "name": "stdout",
          "text": [
            "\b\b\b\b\b\b\b\b\b\b\b\b\b\b\b\b\b\b\b\b\b\b\b\b\b\b\b\b\b\b\b\b\b\b\b\b\b\b\b\b\b\b\b\b\b\b\b\b\b\b\b\b\b\b\b\b\b\b\b\b\b\b\b\b\b\b\b\b\b\b\b\b\b\b\b\b\b\b\b\b\b\b\b\b\r112/112 [==============================] - 5s 42ms/step - loss: 0.5682 - accuracy: 0.7151 - val_loss: 0.5257 - val_accuracy: 0.7500\n",
            "Epoch 5/20\n",
            "112/112 [==============================] - ETA: 0s - loss: 0.5394 - accuracy: 0.7346"
          ]
        },
        {
          "output_type": "stream",
          "name": "stderr",
          "text": [
            "WARNING:tensorflow:Can save best model only with val_acc available, skipping.\n"
          ]
        },
        {
          "output_type": "stream",
          "name": "stdout",
          "text": [
            "\b\b\b\b\b\b\b\b\b\b\b\b\b\b\b\b\b\b\b\b\b\b\b\b\b\b\b\b\b\b\b\b\b\b\b\b\b\b\b\b\b\b\b\b\b\b\b\b\b\b\b\b\b\b\b\b\b\b\b\b\b\b\b\b\b\b\b\b\b\b\b\b\b\b\b\b\b\b\b\b\b\b\b\b\r112/112 [==============================] - 5s 44ms/step - loss: 0.5394 - accuracy: 0.7346 - val_loss: 0.5112 - val_accuracy: 0.7627\n",
            "Epoch 6/20\n",
            "111/112 [============================>.] - ETA: 0s - loss: 0.5165 - accuracy: 0.7528"
          ]
        },
        {
          "output_type": "stream",
          "name": "stderr",
          "text": [
            "WARNING:tensorflow:Can save best model only with val_acc available, skipping.\n"
          ]
        },
        {
          "output_type": "stream",
          "name": "stdout",
          "text": [
            "\b\b\b\b\b\b\b\b\b\b\b\b\b\b\b\b\b\b\b\b\b\b\b\b\b\b\b\b\b\b\b\b\b\b\b\b\b\b\b\b\b\b\b\b\b\b\b\b\b\b\b\b\b\b\b\b\b\b\b\b\b\b\b\b\b\b\b\b\b\b\b\b\b\b\b\b\b\b\b\b\b\b\b\b\r112/112 [==============================] - 5s 43ms/step - loss: 0.5165 - accuracy: 0.7527 - val_loss: 0.5050 - val_accuracy: 0.7578\n",
            "Epoch 7/20\n",
            "111/112 [============================>.] - ETA: 0s - loss: 0.4993 - accuracy: 0.7635"
          ]
        },
        {
          "output_type": "stream",
          "name": "stderr",
          "text": [
            "WARNING:tensorflow:Can save best model only with val_acc available, skipping.\n"
          ]
        },
        {
          "output_type": "stream",
          "name": "stdout",
          "text": [
            "\b\b\b\b\b\b\b\b\b\b\b\b\b\b\b\b\b\b\b\b\b\b\b\b\b\b\b\b\b\b\b\b\b\b\b\b\b\b\b\b\b\b\b\b\b\b\b\b\b\b\b\b\b\b\b\b\b\b\b\b\b\b\b\b\b\b\b\b\b\b\b\b\b\b\b\b\b\b\b\b\b\b\b\b\r112/112 [==============================] - 5s 43ms/step - loss: 0.4992 - accuracy: 0.7635 - val_loss: 0.4855 - val_accuracy: 0.7744\n",
            "Epoch 8/20\n",
            "111/112 [============================>.] - ETA: 0s - loss: 0.4862 - accuracy: 0.7714"
          ]
        },
        {
          "output_type": "stream",
          "name": "stderr",
          "text": [
            "WARNING:tensorflow:Can save best model only with val_acc available, skipping.\n"
          ]
        },
        {
          "output_type": "stream",
          "name": "stdout",
          "text": [
            "\b\b\b\b\b\b\b\b\b\b\b\b\b\b\b\b\b\b\b\b\b\b\b\b\b\b\b\b\b\b\b\b\b\b\b\b\b\b\b\b\b\b\b\b\b\b\b\b\b\b\b\b\b\b\b\b\b\b\b\b\b\b\b\b\b\b\b\b\b\b\b\b\b\b\b\b\b\b\b\b\b\b\b\b\r112/112 [==============================] - 5s 43ms/step - loss: 0.4862 - accuracy: 0.7715 - val_loss: 0.4831 - val_accuracy: 0.7754\n",
            "Epoch 9/20\n",
            "112/112 [==============================] - ETA: 0s - loss: 0.4726 - accuracy: 0.7819"
          ]
        },
        {
          "output_type": "stream",
          "name": "stderr",
          "text": [
            "WARNING:tensorflow:Can save best model only with val_acc available, skipping.\n"
          ]
        },
        {
          "output_type": "stream",
          "name": "stdout",
          "text": [
            "\b\b\b\b\b\b\b\b\b\b\b\b\b\b\b\b\b\b\b\b\b\b\b\b\b\b\b\b\b\b\b\b\b\b\b\b\b\b\b\b\b\b\b\b\b\b\b\b\b\b\b\b\b\b\b\b\b\b\b\b\b\b\b\b\b\b\b\b\b\b\b\b\b\b\b\b\b\b\b\b\b\b\b\b\r112/112 [==============================] - 5s 42ms/step - loss: 0.4726 - accuracy: 0.7819 - val_loss: 0.4765 - val_accuracy: 0.7891\n",
            "Epoch 10/20\n",
            "111/112 [============================>.] - ETA: 0s - loss: 0.4654 - accuracy: 0.7856"
          ]
        },
        {
          "output_type": "stream",
          "name": "stderr",
          "text": [
            "WARNING:tensorflow:Can save best model only with val_acc available, skipping.\n"
          ]
        },
        {
          "output_type": "stream",
          "name": "stdout",
          "text": [
            "\b\b\b\b\b\b\b\b\b\b\b\b\b\b\b\b\b\b\b\b\b\b\b\b\b\b\b\b\b\b\b\b\b\b\b\b\b\b\b\b\b\b\b\b\b\b\b\b\b\b\b\b\b\b\b\b\b\b\b\b\b\b\b\b\b\b\b\b\b\b\b\b\b\b\b\b\b\b\b\b\b\b\b\b\r112/112 [==============================] - 5s 43ms/step - loss: 0.4653 - accuracy: 0.7856 - val_loss: 0.4723 - val_accuracy: 0.7881\n",
            "Epoch 11/20\n",
            "111/112 [============================>.] - ETA: 0s - loss: 0.4559 - accuracy: 0.7923"
          ]
        },
        {
          "output_type": "stream",
          "name": "stderr",
          "text": [
            "WARNING:tensorflow:Can save best model only with val_acc available, skipping.\n"
          ]
        },
        {
          "output_type": "stream",
          "name": "stdout",
          "text": [
            "\b\b\b\b\b\b\b\b\b\b\b\b\b\b\b\b\b\b\b\b\b\b\b\b\b\b\b\b\b\b\b\b\b\b\b\b\b\b\b\b\b\b\b\b\b\b\b\b\b\b\b\b\b\b\b\b\b\b\b\b\b\b\b\b\b\b\b\b\b\b\b\b\b\b\b\b\b\b\b\b\b\b\b\b\r112/112 [==============================] - 5s 41ms/step - loss: 0.4558 - accuracy: 0.7924 - val_loss: 0.4673 - val_accuracy: 0.7930\n",
            "Epoch 12/20\n",
            "111/112 [============================>.] - ETA: 0s - loss: 0.4457 - accuracy: 0.7976"
          ]
        },
        {
          "output_type": "stream",
          "name": "stderr",
          "text": [
            "WARNING:tensorflow:Can save best model only with val_acc available, skipping.\n"
          ]
        },
        {
          "output_type": "stream",
          "name": "stdout",
          "text": [
            "\b\b\b\b\b\b\b\b\b\b\b\b\b\b\b\b\b\b\b\b\b\b\b\b\b\b\b\b\b\b\b\b\b\b\b\b\b\b\b\b\b\b\b\b\b\b\b\b\b\b\b\b\b\b\b\b\b\b\b\b\b\b\b\b\b\b\b\b\b\b\b\b\b\b\b\b\b\b\b\b\b\b\b\b\r112/112 [==============================] - 5s 42ms/step - loss: 0.4457 - accuracy: 0.7977 - val_loss: 0.4578 - val_accuracy: 0.8018\n",
            "Epoch 13/20\n",
            "112/112 [==============================] - ETA: 0s - loss: 0.4393 - accuracy: 0.8034"
          ]
        },
        {
          "output_type": "stream",
          "name": "stderr",
          "text": [
            "WARNING:tensorflow:Can save best model only with val_acc available, skipping.\n"
          ]
        },
        {
          "output_type": "stream",
          "name": "stdout",
          "text": [
            "\b\b\b\b\b\b\b\b\b\b\b\b\b\b\b\b\b\b\b\b\b\b\b\b\b\b\b\b\b\b\b\b\b\b\b\b\b\b\b\b\b\b\b\b\b\b\b\b\b\b\b\b\b\b\b\b\b\b\b\b\b\b\b\b\b\b\b\b\b\b\b\b\b\b\b\b\b\b\b\b\b\b\b\b\r112/112 [==============================] - 5s 43ms/step - loss: 0.4393 - accuracy: 0.8034 - val_loss: 0.4641 - val_accuracy: 0.7949\n",
            "Epoch 14/20\n",
            "112/112 [==============================] - ETA: 0s - loss: 0.4308 - accuracy: 0.8076"
          ]
        },
        {
          "output_type": "stream",
          "name": "stderr",
          "text": [
            "WARNING:tensorflow:Can save best model only with val_acc available, skipping.\n"
          ]
        },
        {
          "output_type": "stream",
          "name": "stdout",
          "text": [
            "\b\b\b\b\b\b\b\b\b\b\b\b\b\b\b\b\b\b\b\b\b\b\b\b\b\b\b\b\b\b\b\b\b\b\b\b\b\b\b\b\b\b\b\b\b\b\b\b\b\b\b\b\b\b\b\b\b\b\b\b\b\b\b\b\b\b\b\b\b\b\b\b\b\b\b\b\b\b\b\b\b\b\b\b\r112/112 [==============================] - 5s 43ms/step - loss: 0.4308 - accuracy: 0.8076 - val_loss: 0.4676 - val_accuracy: 0.7881\n",
            "Epoch 15/20\n",
            "112/112 [==============================] - ETA: 0s - loss: 0.4256 - accuracy: 0.8100"
          ]
        },
        {
          "output_type": "stream",
          "name": "stderr",
          "text": [
            "WARNING:tensorflow:Can save best model only with val_acc available, skipping.\n"
          ]
        },
        {
          "output_type": "stream",
          "name": "stdout",
          "text": [
            "\b\b\b\b\b\b\b\b\b\b\b\b\b\b\b\b\b\b\b\b\b\b\b\b\b\b\b\b\b\b\b\b\b\b\b\b\b\b\b\b\b\b\b\b\b\b\b\b\b\b\b\b\b\b\b\b\b\b\b\b\b\b\b\b\b\b\b\b\b\b\b\b\b\b\b\b\b\b\b\b\b\b\b\b\r112/112 [==============================] - 5s 42ms/step - loss: 0.4256 - accuracy: 0.8100 - val_loss: 0.4579 - val_accuracy: 0.7949\n",
            "Epoch 16/20\n",
            "112/112 [==============================] - ETA: 0s - loss: 0.4174 - accuracy: 0.8148"
          ]
        },
        {
          "output_type": "stream",
          "name": "stderr",
          "text": [
            "WARNING:tensorflow:Can save best model only with val_acc available, skipping.\n"
          ]
        },
        {
          "output_type": "stream",
          "name": "stdout",
          "text": [
            "\b\b\b\b\b\b\b\b\b\b\b\b\b\b\b\b\b\b\b\b\b\b\b\b\b\b\b\b\b\b\b\b\b\b\b\b\b\b\b\b\b\b\b\b\b\b\b\b\b\b\b\b\b\b\b\b\b\b\b\b\b\b\b\b\b\b\b\b\b\b\b\b\b\b\b\b\b\b\b\b\b\b\b\b\r112/112 [==============================] - 5s 42ms/step - loss: 0.4174 - accuracy: 0.8148 - val_loss: 0.4538 - val_accuracy: 0.7959\n",
            "Epoch 17/20\n",
            "111/112 [============================>.] - ETA: 0s - loss: 0.4117 - accuracy: 0.8195"
          ]
        },
        {
          "output_type": "stream",
          "name": "stderr",
          "text": [
            "WARNING:tensorflow:Can save best model only with val_acc available, skipping.\n"
          ]
        },
        {
          "output_type": "stream",
          "name": "stdout",
          "text": [
            "\b\b\b\b\b\b\b\b\b\b\b\b\b\b\b\b\b\b\b\b\b\b\b\b\b\b\b\b\b\b\b\b\b\b\b\b\b\b\b\b\b\b\b\b\b\b\b\b\b\b\b\b\b\b\b\b\b\b\b\b\b\b\b\b\b\b\b\b\b\b\b\b\b\b\b\b\b\b\b\b\b\b\b\b\r112/112 [==============================] - 5s 42ms/step - loss: 0.4115 - accuracy: 0.8196 - val_loss: 0.4489 - val_accuracy: 0.8193\n",
            "Epoch 18/20\n",
            "111/112 [============================>.] - ETA: 0s - loss: 0.4104 - accuracy: 0.8204"
          ]
        },
        {
          "output_type": "stream",
          "name": "stderr",
          "text": [
            "WARNING:tensorflow:Can save best model only with val_acc available, skipping.\n"
          ]
        },
        {
          "output_type": "stream",
          "name": "stdout",
          "text": [
            "\b\b\b\b\b\b\b\b\b\b\b\b\b\b\b\b\b\b\b\b\b\b\b\b\b\b\b\b\b\b\b\b\b\b\b\b\b\b\b\b\b\b\b\b\b\b\b\b\b\b\b\b\b\b\b\b\b\b\b\b\b\b\b\b\b\b\b\b\b\b\b\b\b\b\b\b\b\b\b\b\b\b\b\b\r112/112 [==============================] - 5s 42ms/step - loss: 0.4103 - accuracy: 0.8204 - val_loss: 0.4585 - val_accuracy: 0.7998\n",
            "Epoch 19/20\n",
            "112/112 [==============================] - ETA: 0s - loss: 0.3987 - accuracy: 0.8279"
          ]
        },
        {
          "output_type": "stream",
          "name": "stderr",
          "text": [
            "WARNING:tensorflow:Can save best model only with val_acc available, skipping.\n"
          ]
        },
        {
          "output_type": "stream",
          "name": "stdout",
          "text": [
            "\b\b\b\b\b\b\b\b\b\b\b\b\b\b\b\b\b\b\b\b\b\b\b\b\b\b\b\b\b\b\b\b\b\b\b\b\b\b\b\b\b\b\b\b\b\b\b\b\b\b\b\b\b\b\b\b\b\b\b\b\b\b\b\b\b\b\b\b\b\b\b\b\b\b\b\b\b\b\b\b\b\b\b\b\r112/112 [==============================] - 5s 43ms/step - loss: 0.3987 - accuracy: 0.8279 - val_loss: 0.4510 - val_accuracy: 0.8105\n",
            "Epoch 20/20\n",
            "112/112 [==============================] - ETA: 0s - loss: 0.3948 - accuracy: 0.8287"
          ]
        },
        {
          "output_type": "stream",
          "name": "stderr",
          "text": [
            "WARNING:tensorflow:Can save best model only with val_acc available, skipping.\n"
          ]
        },
        {
          "output_type": "stream",
          "name": "stdout",
          "text": [
            "\b\b\b\b\b\b\b\b\b\b\b\b\b\b\b\b\b\b\b\b\b\b\b\b\b\b\b\b\b\b\b\b\b\b\b\b\b\b\b\b\b\b\b\b\b\b\b\b\b\b\b\b\b\b\b\b\b\b\b\b\b\b\b\b\b\b\b\b\b\b\b\b\b\b\b\b\b\b\b\b\b\b\b\b\r112/112 [==============================] - 5s 44ms/step - loss: 0.3948 - accuracy: 0.8287 - val_loss: 0.4524 - val_accuracy: 0.7988\n"
          ]
        }
      ]
    },
    {
      "cell_type": "code",
      "metadata": {
        "id": "1uDZ-eszqxsA",
        "colab": {
          "base_uri": "https://localhost:8080/",
          "height": 545
        },
        "outputId": "385b7334-067d-456c-a0ea-4c73ae25bf5b"
      },
      "source": [
        "import matplotlib.pyplot as plt\n",
        "acc = history.history['accuracy']\n",
        "val_acc = history.history['val_accuracy']\n",
        "loss = history.history['loss']\n",
        "val_loss = history.history['val_loss']\n",
        " \n",
        "epochs = range(len(acc))\n",
        " \n",
        "plt.plot(epochs, acc, 'b', label='Training acc')\n",
        "plt.plot(epochs, val_acc, 'r', label='Validation acc')\n",
        "plt.title('Training and validation accuracy-RNN')\n",
        "plt.legend()\n",
        " \n",
        "plt.figure()\n",
        " \n",
        "plt.plot(epochs, loss, 'b', label='Training loss')\n",
        "plt.plot(epochs, val_loss, 'r', label='Validation loss')\n",
        "plt.title('Training and validation loss-RNN')\n",
        "plt.legend()\n",
        " \n",
        "plt.show()"
      ],
      "execution_count": 168,
      "outputs": [
        {
          "output_type": "display_data",
          "data": {
            "text/plain": [
              "<Figure size 432x288 with 1 Axes>"
            ],
            "image/png": "[encoded data removed]"
          },
          "metadata": {
            "needs_background": "light"
          }
        },
        {
          "output_type": "display_data",
          "data": {
            "text/plain": [
              "<Figure size 432x288 with 1 Axes>"
            ],
            "image/png": "[encoded data removed]"
          },
          "metadata": {
            "needs_background": "light"
          }
        }
      ]
    },
    {
      "cell_type": "markdown",
      "source": [
        "#Loading the last epoch modeln (Optional)"
      ],
      "metadata": {
        "id": "0yq1KecvA52u"
      }
    },
    {
      "cell_type": "code",
      "metadata": {
        "id": "ZVcbhMBwyKg-",
        "colab": {
          "base_uri": "https://localhost:8080/"
        },
        "outputId": "1428de42-fc64-4815-cce3-2d9473426428"
      },
      "source": [
        "#Loading the last epoch model\n",
        "# remember that increase the epoches decrease the complexcity\n",
        "modelRNN=Sequential()\n",
        "modelRNN.add(Embedding(vocabulary_size, embedding_size, input_length=max_words))\n",
        "modelRNN.add(SimpleRNN(150,activation = \"tanh\")) \n",
        "modelRNN.add(Dense(1, activation='sigmoid'))\n",
        "print(modelRNN.summary())\n",
        "modelRNN.compile(loss='binary_crossentropy', \n",
        "             optimizer='adam', \n",
        "             metrics=['accuracy'])\n",
        "modelRNN.load_weights(\"my_modRNN_Latest\")"
      ],
      "execution_count": 169,
      "outputs": [
        {
          "output_type": "stream",
          "name": "stdout",
          "text": [
            "Model: \"sequential_7\"\n",
            "_________________________________________________________________\n",
            " Layer (type)                Output Shape              Param #   \n",
            "=================================================================\n",
            " embedding_4 (Embedding)     (None, 28, 100)           25560200  \n",
            "                                                                 \n",
            " simple_rnn_3 (SimpleRNN)    (None, 150)               37650     \n",
            "                                                                 \n",
            " dense_4 (Dense)             (None, 1)                 151       \n",
            "                                                                 \n",
            "=================================================================\n",
            "Total params: 25,598,001\n",
            "Trainable params: 25,598,001\n",
            "Non-trainable params: 0\n",
            "_________________________________________________________________\n"
          ]
        },
        {
          "output_type": "stream",
          "name": "stderr",
          "text": [
            "WARNING:tensorflow:Inconsistent references when loading the checkpoint into this object graph. For example, in the saved checkpoint object, `model.layer.weight` and `model.layer_copy.weight` reference the same variable, while in the current object these are two different variables. The referenced variables are:(<keras.layers.recurrent.SimpleRNN object at 0x7f5689f21950> and <keras.layers.core.dense.Dense object at 0x7f5667cac090>).\n"
          ]
        },
        {
          "output_type": "stream",
          "name": "stdout",
          "text": [
            "None\n"
          ]
        },
        {
          "output_type": "execute_result",
          "data": {
            "text/plain": [
              "<tensorflow.python.training.tracking.util.CheckpointLoadStatus at 0x7f5645b124d0>"
            ]
          },
          "metadata": {},
          "execution_count": 169
        }
      ]
    },
    {
      "cell_type": "markdown",
      "source": [
        "<br>"
      ],
      "metadata": {
        "id": "ZMV8YmS1_56J"
      }
    },
    {
      "cell_type": "markdown",
      "source": [
        "#LSTM"
      ],
      "metadata": {
        "id": "qpFUfluR_1xk"
      }
    },
    {
      "cell_type": "code",
      "metadata": {
        "id": "w4Nl8q4M836E"
      },
      "source": [
        "callback_listLSTM = [#early1\n",
        "                keras.callbacks.ModelCheckpoint(filepath=\"my_modLSTM_BestValAcc.h5\", monitor=\"val_acc\",\n",
        "                                               save_best_only=True),\n",
        "                #keras.callbacks.TerminateOnNaN()\n",
        "                ]"
      ],
      "execution_count": 170,
      "outputs": []
    },
    {
      "cell_type": "code",
      "metadata": {
        "id": "BhKvwUDDKVaJ"
      },
      "source": [
        "from keras.layers import Dense, Embedding, LSTM, SpatialDropout1D"
      ],
      "execution_count": 171,
      "outputs": []
    },
    {
      "cell_type": "code",
      "metadata": {
        "id": "0fmxmT04KVc1",
        "colab": {
          "base_uri": "https://localhost:8080/"
        },
        "outputId": "95279b09-8eb6-4ec4-89f2-a74da2eefdbc"
      },
      "source": [
        "embedding_size=100\n",
        "modelLSTM=Sequential()\n",
        "modelLSTM.add(Embedding(vocabulary_size,100,weights = [embedding_matrix],input_length=28)) #embdsize\n",
        "# modelRNN.add(Embedding(vocabulary_size, embedding_size, input_length=max_words))\n",
        "modelLSTM.add(Dropout(0.70))\n",
        "modelLSTM.add(LSTM(150,activation = \"tanh\",kernel_regularizer=regularizers.l2(0.01))) \n",
        "modelLSTM.add(Dropout(0.15))\n",
        "modelLSTM.add(Dense(1, activation='sigmoid'))\n",
        "print(modelLSTM.summary())"
      ],
      "execution_count": 172,
      "outputs": [
        {
          "output_type": "stream",
          "name": "stdout",
          "text": [
            "Model: \"sequential_8\"\n",
            "_________________________________________________________________\n",
            " Layer (type)                Output Shape              Param #   \n",
            "=================================================================\n",
            " embedding_5 (Embedding)     (None, 28, 100)           25560200  \n",
            "                                                                 \n",
            " dropout_6 (Dropout)         (None, 28, 100)           0         \n",
            "                                                                 \n",
            " lstm_1 (LSTM)               (None, 150)               150600    \n",
            "                                                                 \n",
            " dropout_7 (Dropout)         (None, 150)               0         \n",
            "                                                                 \n",
            " dense_5 (Dense)             (None, 1)                 151       \n",
            "                                                                 \n",
            "=================================================================\n",
            "Total params: 25,710,951\n",
            "Trainable params: 25,710,951\n",
            "Non-trainable params: 0\n",
            "_________________________________________________________________\n",
            "None\n"
          ]
        }
      ]
    },
    {
      "cell_type": "code",
      "source": [
        "modelLSTM.compile(loss='binary_crossentropy', \n",
        "             optimizer='adam', \n",
        "             metrics=['accuracy'])"
      ],
      "metadata": {
        "id": "QXUfX40tnrmm"
      },
      "execution_count": 173,
      "outputs": []
    },
    {
      "cell_type": "code",
      "metadata": {
        "id": "0VbJutfKKVgV"
      },
      "source": [
        "batch_size = 1024\n",
        "num_epochs = 20\n",
        "X_valid, y_valid = X_train[:batch_size], y_train[:batch_size]\n",
        "X_train2, y_train2 = X_train[batch_size:], y_train[batch_size:]\n",
        "callback_listLSTM = [#early1\n",
        "                keras.callbacks.ModelCheckpoint(filepath=\"my_modRNN_BestValAcc.h5\", monitor=\"val_acc\",\n",
        "                                               save_best_only=True),\n",
        "                #keras.callbacks.TerminateOnNaN()\n",
        "                ]"
      ],
      "execution_count": 174,
      "outputs": []
    },
    {
      "cell_type": "code",
      "source": [
        "LSTMhistory = modelLSTM.fit(X_train2, y_train2, validation_data=(X_valid, y_valid), batch_size=batch_size, epochs=num_epochs, \n",
        "             callbacks=callback_listLSTM)\n",
        "modelLSTM.save_weights(\"my_modLSTM_Latest\")"
      ],
      "metadata": {
        "colab": {
          "base_uri": "https://localhost:8080/"
        },
        "id": "j0Qr9BI7n-gJ",
        "outputId": "b43d6005-25d9-4232-9f68-0b144f42d3cb"
      },
      "execution_count": 175,
      "outputs": [
        {
          "output_type": "stream",
          "name": "stdout",
          "text": [
            "Epoch 1/20\n",
            "111/112 [============================>.] - ETA: 0s - loss: 1.0888 - accuracy: 0.6029"
          ]
        },
        {
          "output_type": "stream",
          "name": "stderr",
          "text": [
            "WARNING:tensorflow:Can save best model only with val_acc available, skipping.\n"
          ]
        },
        {
          "output_type": "stream",
          "name": "stdout",
          "text": [
            "\b\b\b\b\b\b\b\b\b\b\b\b\b\b\b\b\b\b\b\b\b\b\b\b\b\b\b\b\b\b\b\b\b\b\b\b\b\b\b\b\b\b\b\b\b\b\b\b\b\b\b\b\b\b\b\b\b\b\b\b\b\b\b\b\b\b\b\b\b\b\b\b\b\b\b\b\b\b\b\b\b\b\b\b\r112/112 [==============================] - 5s 32ms/step - loss: 1.0876 - accuracy: 0.6032 - val_loss: 0.6409 - val_accuracy: 0.6494\n",
            "Epoch 2/20\n",
            "111/112 [============================>.] - ETA: 0s - loss: 0.6120 - accuracy: 0.6732"
          ]
        },
        {
          "output_type": "stream",
          "name": "stderr",
          "text": [
            "WARNING:tensorflow:Can save best model only with val_acc available, skipping.\n"
          ]
        },
        {
          "output_type": "stream",
          "name": "stdout",
          "text": [
            "\b\b\b\b\b\b\b\b\b\b\b\b\b\b\b\b\b\b\b\b\b\b\b\b\b\b\b\b\b\b\b\b\b\b\b\b\b\b\b\b\b\b\b\b\b\b\b\b\b\b\b\b\b\b\b\b\b\b\b\b\b\b\b\b\b\b\b\b\b\b\b\b\b\b\b\b\b\b\b\b\b\b\b\b\r112/112 [==============================] - 3s 28ms/step - loss: 0.6119 - accuracy: 0.6733 - val_loss: 0.5587 - val_accuracy: 0.7188\n",
            "Epoch 3/20\n",
            "111/112 [============================>.] - ETA: 0s - loss: 0.5605 - accuracy: 0.7181"
          ]
        },
        {
          "output_type": "stream",
          "name": "stderr",
          "text": [
            "WARNING:tensorflow:Can save best model only with val_acc available, skipping.\n"
          ]
        },
        {
          "output_type": "stream",
          "name": "stdout",
          "text": [
            "\b\b\b\b\b\b\b\b\b\b\b\b\b\b\b\b\b\b\b\b\b\b\b\b\b\b\b\b\b\b\b\b\b\b\b\b\b\b\b\b\b\b\b\b\b\b\b\b\b\b\b\b\b\b\b\b\b\b\b\b\b\b\b\b\b\b\b\b\b\b\b\b\b\b\b\b\b\b\b\b\b\b\b\b\r112/112 [==============================] - 3s 28ms/step - loss: 0.5605 - accuracy: 0.7181 - val_loss: 0.5234 - val_accuracy: 0.7500\n",
            "Epoch 4/20\n",
            "111/112 [============================>.] - ETA: 0s - loss: 0.5278 - accuracy: 0.7412"
          ]
        },
        {
          "output_type": "stream",
          "name": "stderr",
          "text": [
            "WARNING:tensorflow:Can save best model only with val_acc available, skipping.\n"
          ]
        },
        {
          "output_type": "stream",
          "name": "stdout",
          "text": [
            "\b\b\b\b\b\b\b\b\b\b\b\b\b\b\b\b\b\b\b\b\b\b\b\b\b\b\b\b\b\b\b\b\b\b\b\b\b\b\b\b\b\b\b\b\b\b\b\b\b\b\b\b\b\b\b\b\b\b\b\b\b\b\b\b\b\b\b\b\b\b\b\b\b\b\b\b\b\b\b\b\b\b\b\b\r112/112 [==============================] - 3s 28ms/step - loss: 0.5277 - accuracy: 0.7413 - val_loss: 0.5002 - val_accuracy: 0.7783\n",
            "Epoch 5/20\n",
            "111/112 [============================>.] - ETA: 0s - loss: 0.5078 - accuracy: 0.7568"
          ]
        },
        {
          "output_type": "stream",
          "name": "stderr",
          "text": [
            "WARNING:tensorflow:Can save best model only with val_acc available, skipping.\n"
          ]
        },
        {
          "output_type": "stream",
          "name": "stdout",
          "text": [
            "\b\b\b\b\b\b\b\b\b\b\b\b\b\b\b\b\b\b\b\b\b\b\b\b\b\b\b\b\b\b\b\b\b\b\b\b\b\b\b\b\b\b\b\b\b\b\b\b\b\b\b\b\b\b\b\b\b\b\b\b\b\b\b\b\b\b\b\b\b\b\b\b\b\b\b\b\b\b\b\b\b\b\b\b\r112/112 [==============================] - 3s 28ms/step - loss: 0.5078 - accuracy: 0.7568 - val_loss: 0.4872 - val_accuracy: 0.7832\n",
            "Epoch 6/20\n",
            "111/112 [============================>.] - ETA: 0s - loss: 0.4898 - accuracy: 0.7674"
          ]
        },
        {
          "output_type": "stream",
          "name": "stderr",
          "text": [
            "WARNING:tensorflow:Can save best model only with val_acc available, skipping.\n"
          ]
        },
        {
          "output_type": "stream",
          "name": "stdout",
          "text": [
            "\b\b\b\b\b\b\b\b\b\b\b\b\b\b\b\b\b\b\b\b\b\b\b\b\b\b\b\b\b\b\b\b\b\b\b\b\b\b\b\b\b\b\b\b\b\b\b\b\b\b\b\b\b\b\b\b\b\b\b\b\b\b\b\b\b\b\b\b\b\b\b\b\b\b\b\b\b\b\b\b\b\b\b\b\r112/112 [==============================] - 3s 28ms/step - loss: 0.4896 - accuracy: 0.7674 - val_loss: 0.4795 - val_accuracy: 0.7881\n",
            "Epoch 7/20\n",
            "111/112 [============================>.] - ETA: 0s - loss: 0.4765 - accuracy: 0.7769"
          ]
        },
        {
          "output_type": "stream",
          "name": "stderr",
          "text": [
            "WARNING:tensorflow:Can save best model only with val_acc available, skipping.\n"
          ]
        },
        {
          "output_type": "stream",
          "name": "stdout",
          "text": [
            "\b\b\b\b\b\b\b\b\b\b\b\b\b\b\b\b\b\b\b\b\b\b\b\b\b\b\b\b\b\b\b\b\b\b\b\b\b\b\b\b\b\b\b\b\b\b\b\b\b\b\b\b\b\b\b\b\b\b\b\b\b\b\b\b\b\b\b\b\b\b\b\b\b\b\b\b\b\b\b\b\b\b\b\b\r112/112 [==============================] - 3s 28ms/step - loss: 0.4764 - accuracy: 0.7770 - val_loss: 0.4717 - val_accuracy: 0.7969\n",
            "Epoch 8/20\n",
            "111/112 [============================>.] - ETA: 0s - loss: 0.4645 - accuracy: 0.7833"
          ]
        },
        {
          "output_type": "stream",
          "name": "stderr",
          "text": [
            "WARNING:tensorflow:Can save best model only with val_acc available, skipping.\n"
          ]
        },
        {
          "output_type": "stream",
          "name": "stdout",
          "text": [
            "\b\b\b\b\b\b\b\b\b\b\b\b\b\b\b\b\b\b\b\b\b\b\b\b\b\b\b\b\b\b\b\b\b\b\b\b\b\b\b\b\b\b\b\b\b\b\b\b\b\b\b\b\b\b\b\b\b\b\b\b\b\b\b\b\b\b\b\b\b\b\b\b\b\b\b\b\b\b\b\b\b\b\b\b\r112/112 [==============================] - 3s 28ms/step - loss: 0.4644 - accuracy: 0.7833 - val_loss: 0.4665 - val_accuracy: 0.7910\n",
            "Epoch 9/20\n",
            "111/112 [============================>.] - ETA: 0s - loss: 0.4540 - accuracy: 0.7909"
          ]
        },
        {
          "output_type": "stream",
          "name": "stderr",
          "text": [
            "WARNING:tensorflow:Can save best model only with val_acc available, skipping.\n"
          ]
        },
        {
          "output_type": "stream",
          "name": "stdout",
          "text": [
            "\b\b\b\b\b\b\b\b\b\b\b\b\b\b\b\b\b\b\b\b\b\b\b\b\b\b\b\b\b\b\b\b\b\b\b\b\b\b\b\b\b\b\b\b\b\b\b\b\b\b\b\b\b\b\b\b\b\b\b\b\b\b\b\b\b\b\b\b\b\b\b\b\b\b\b\b\b\b\b\b\b\b\b\b\r112/112 [==============================] - 3s 28ms/step - loss: 0.4539 - accuracy: 0.7909 - val_loss: 0.4674 - val_accuracy: 0.7959\n",
            "Epoch 10/20\n",
            "111/112 [============================>.] - ETA: 0s - loss: 0.4444 - accuracy: 0.7977"
          ]
        },
        {
          "output_type": "stream",
          "name": "stderr",
          "text": [
            "WARNING:tensorflow:Can save best model only with val_acc available, skipping.\n"
          ]
        },
        {
          "output_type": "stream",
          "name": "stdout",
          "text": [
            "\b\b\b\b\b\b\b\b\b\b\b\b\b\b\b\b\b\b\b\b\b\b\b\b\b\b\b\b\b\b\b\b\b\b\b\b\b\b\b\b\b\b\b\b\b\b\b\b\b\b\b\b\b\b\b\b\b\b\b\b\b\b\b\b\b\b\b\b\b\b\b\b\b\b\b\b\b\b\b\b\b\b\b\b\r112/112 [==============================] - 3s 28ms/step - loss: 0.4443 - accuracy: 0.7977 - val_loss: 0.4599 - val_accuracy: 0.7969\n",
            "Epoch 11/20\n",
            "111/112 [============================>.] - ETA: 0s - loss: 0.4361 - accuracy: 0.8021"
          ]
        },
        {
          "output_type": "stream",
          "name": "stderr",
          "text": [
            "WARNING:tensorflow:Can save best model only with val_acc available, skipping.\n"
          ]
        },
        {
          "output_type": "stream",
          "name": "stdout",
          "text": [
            "\b\b\b\b\b\b\b\b\b\b\b\b\b\b\b\b\b\b\b\b\b\b\b\b\b\b\b\b\b\b\b\b\b\b\b\b\b\b\b\b\b\b\b\b\b\b\b\b\b\b\b\b\b\b\b\b\b\b\b\b\b\b\b\b\b\b\b\b\b\b\b\b\b\b\b\b\b\b\b\b\b\b\b\b\r112/112 [==============================] - 3s 28ms/step - loss: 0.4363 - accuracy: 0.8020 - val_loss: 0.4665 - val_accuracy: 0.7949\n",
            "Epoch 12/20\n",
            "111/112 [============================>.] - ETA: 0s - loss: 0.4295 - accuracy: 0.8071"
          ]
        },
        {
          "output_type": "stream",
          "name": "stderr",
          "text": [
            "WARNING:tensorflow:Can save best model only with val_acc available, skipping.\n"
          ]
        },
        {
          "output_type": "stream",
          "name": "stdout",
          "text": [
            "\b\b\b\b\b\b\b\b\b\b\b\b\b\b\b\b\b\b\b\b\b\b\b\b\b\b\b\b\b\b\b\b\b\b\b\b\b\b\b\b\b\b\b\b\b\b\b\b\b\b\b\b\b\b\b\b\b\b\b\b\b\b\b\b\b\b\b\b\b\b\b\b\b\b\b\b\b\b\b\b\b\b\b\b\r112/112 [==============================] - 3s 28ms/step - loss: 0.4297 - accuracy: 0.8070 - val_loss: 0.4557 - val_accuracy: 0.8027\n",
            "Epoch 13/20\n",
            "111/112 [============================>.] - ETA: 0s - loss: 0.4207 - accuracy: 0.8112"
          ]
        },
        {
          "output_type": "stream",
          "name": "stderr",
          "text": [
            "WARNING:tensorflow:Can save best model only with val_acc available, skipping.\n"
          ]
        },
        {
          "output_type": "stream",
          "name": "stdout",
          "text": [
            "\b\b\b\b\b\b\b\b\b\b\b\b\b\b\b\b\b\b\b\b\b\b\b\b\b\b\b\b\b\b\b\b\b\b\b\b\b\b\b\b\b\b\b\b\b\b\b\b\b\b\b\b\b\b\b\b\b\b\b\b\b\b\b\b\b\b\b\b\b\b\b\b\b\b\b\b\b\b\b\b\b\b\b\b\r112/112 [==============================] - 3s 28ms/step - loss: 0.4208 - accuracy: 0.8111 - val_loss: 0.4634 - val_accuracy: 0.7959\n",
            "Epoch 14/20\n",
            "111/112 [============================>.] - ETA: 0s - loss: 0.4127 - accuracy: 0.8166"
          ]
        },
        {
          "output_type": "stream",
          "name": "stderr",
          "text": [
            "WARNING:tensorflow:Can save best model only with val_acc available, skipping.\n"
          ]
        },
        {
          "output_type": "stream",
          "name": "stdout",
          "text": [
            "\b\b\b\b\b\b\b\b\b\b\b\b\b\b\b\b\b\b\b\b\b\b\b\b\b\b\b\b\b\b\b\b\b\b\b\b\b\b\b\b\b\b\b\b\b\b\b\b\b\b\b\b\b\b\b\b\b\b\b\b\b\b\b\b\b\b\b\b\b\b\b\b\b\b\b\b\b\b\b\b\b\b\b\b\r112/112 [==============================] - 3s 28ms/step - loss: 0.4127 - accuracy: 0.8165 - val_loss: 0.4594 - val_accuracy: 0.7998\n",
            "Epoch 15/20\n",
            "111/112 [============================>.] - ETA: 0s - loss: 0.4062 - accuracy: 0.8198"
          ]
        },
        {
          "output_type": "stream",
          "name": "stderr",
          "text": [
            "WARNING:tensorflow:Can save best model only with val_acc available, skipping.\n"
          ]
        },
        {
          "output_type": "stream",
          "name": "stdout",
          "text": [
            "\b\b\b\b\b\b\b\b\b\b\b\b\b\b\b\b\b\b\b\b\b\b\b\b\b\b\b\b\b\b\b\b\b\b\b\b\b\b\b\b\b\b\b\b\b\b\b\b\b\b\b\b\b\b\b\b\b\b\b\b\b\b\b\b\b\b\b\b\b\b\b\b\b\b\b\b\b\b\b\b\b\b\b\b\r112/112 [==============================] - 3s 28ms/step - loss: 0.4062 - accuracy: 0.8198 - val_loss: 0.4526 - val_accuracy: 0.8018\n",
            "Epoch 16/20\n",
            "111/112 [============================>.] - ETA: 0s - loss: 0.3994 - accuracy: 0.8249"
          ]
        },
        {
          "output_type": "stream",
          "name": "stderr",
          "text": [
            "WARNING:tensorflow:Can save best model only with val_acc available, skipping.\n"
          ]
        },
        {
          "output_type": "stream",
          "name": "stdout",
          "text": [
            "\b\b\b\b\b\b\b\b\b\b\b\b\b\b\b\b\b\b\b\b\b\b\b\b\b\b\b\b\b\b\b\b\b\b\b\b\b\b\b\b\b\b\b\b\b\b\b\b\b\b\b\b\b\b\b\b\b\b\b\b\b\b\b\b\b\b\b\b\b\b\b\b\b\b\b\b\b\b\b\b\b\b\b\b\r112/112 [==============================] - 3s 28ms/step - loss: 0.3993 - accuracy: 0.8250 - val_loss: 0.4478 - val_accuracy: 0.8125\n",
            "Epoch 17/20\n",
            "111/112 [============================>.] - ETA: 0s - loss: 0.3942 - accuracy: 0.8285"
          ]
        },
        {
          "output_type": "stream",
          "name": "stderr",
          "text": [
            "WARNING:tensorflow:Can save best model only with val_acc available, skipping.\n"
          ]
        },
        {
          "output_type": "stream",
          "name": "stdout",
          "text": [
            "\b\b\b\b\b\b\b\b\b\b\b\b\b\b\b\b\b\b\b\b\b\b\b\b\b\b\b\b\b\b\b\b\b\b\b\b\b\b\b\b\b\b\b\b\b\b\b\b\b\b\b\b\b\b\b\b\b\b\b\b\b\b\b\b\b\b\b\b\b\b\b\b\b\b\b\b\b\b\b\b\b\b\b\b\r112/112 [==============================] - 3s 28ms/step - loss: 0.3941 - accuracy: 0.8286 - val_loss: 0.4517 - val_accuracy: 0.8037\n",
            "Epoch 18/20\n",
            "111/112 [============================>.] - ETA: 0s - loss: 0.3863 - accuracy: 0.8322"
          ]
        },
        {
          "output_type": "stream",
          "name": "stderr",
          "text": [
            "WARNING:tensorflow:Can save best model only with val_acc available, skipping.\n"
          ]
        },
        {
          "output_type": "stream",
          "name": "stdout",
          "text": [
            "\b\b\b\b\b\b\b\b\b\b\b\b\b\b\b\b\b\b\b\b\b\b\b\b\b\b\b\b\b\b\b\b\b\b\b\b\b\b\b\b\b\b\b\b\b\b\b\b\b\b\b\b\b\b\b\b\b\b\b\b\b\b\b\b\b\b\b\b\b\b\b\b\b\b\b\b\b\b\b\b\b\b\b\b\r112/112 [==============================] - 3s 28ms/step - loss: 0.3864 - accuracy: 0.8322 - val_loss: 0.4572 - val_accuracy: 0.8027\n",
            "Epoch 19/20\n",
            "111/112 [============================>.] - ETA: 0s - loss: 0.3820 - accuracy: 0.8346"
          ]
        },
        {
          "output_type": "stream",
          "name": "stderr",
          "text": [
            "WARNING:tensorflow:Can save best model only with val_acc available, skipping.\n"
          ]
        },
        {
          "output_type": "stream",
          "name": "stdout",
          "text": [
            "\b\b\b\b\b\b\b\b\b\b\b\b\b\b\b\b\b\b\b\b\b\b\b\b\b\b\b\b\b\b\b\b\b\b\b\b\b\b\b\b\b\b\b\b\b\b\b\b\b\b\b\b\b\b\b\b\b\b\b\b\b\b\b\b\b\b\b\b\b\b\b\b\b\b\b\b\b\b\b\b\b\b\b\b\r112/112 [==============================] - 3s 28ms/step - loss: 0.3822 - accuracy: 0.8345 - val_loss: 0.4436 - val_accuracy: 0.8096\n",
            "Epoch 20/20\n",
            "111/112 [============================>.] - ETA: 0s - loss: 0.3751 - accuracy: 0.8384"
          ]
        },
        {
          "output_type": "stream",
          "name": "stderr",
          "text": [
            "WARNING:tensorflow:Can save best model only with val_acc available, skipping.\n"
          ]
        },
        {
          "output_type": "stream",
          "name": "stdout",
          "text": [
            "\b\b\b\b\b\b\b\b\b\b\b\b\b\b\b\b\b\b\b\b\b\b\b\b\b\b\b\b\b\b\b\b\b\b\b\b\b\b\b\b\b\b\b\b\b\b\b\b\b\b\b\b\b\b\b\b\b\b\b\b\b\b\b\b\b\b\b\b\b\b\b\b\b\b\b\b\b\b\b\b\b\b\b\b\r112/112 [==============================] - 3s 28ms/step - loss: 0.3750 - accuracy: 0.8385 - val_loss: 0.4432 - val_accuracy: 0.8154\n"
          ]
        }
      ]
    },
    {
      "cell_type": "markdown",
      "metadata": {
        "id": "bmDts0y9y-mk"
      },
      "source": [
        "##**Performance Measure**"
      ]
    },
    {
      "cell_type": "code",
      "source": [
        "import matplotlib.pyplot as plt\n",
        "acc = modelLSTM.history.history['accuracy']\n",
        "val_acc = modelLSTM.history.history['val_accuracy']\n",
        "loss = modelLSTM.history.history['loss']\n",
        "val_loss = modelLSTM.history.history['val_loss']\n",
        " \n",
        "epochs = range(len(acc))\n",
        " \n",
        "plt.plot(epochs, acc, 'b', label='Training acc')\n",
        "plt.plot(epochs, val_acc, 'r', label='Validation acc')\n",
        "plt.title('Training and validation accuracy-LSTM')\n",
        "plt.legend()\n",
        " \n",
        "plt.figure()\n",
        " \n",
        "plt.plot(epochs, loss, 'b', label='Training loss')\n",
        "plt.plot(epochs, val_loss, 'r', label='Validation loss')\n",
        "plt.title('Training and validation loss-LSTM')\n",
        "plt.legend()\n",
        " \n",
        "plt.show()"
      ],
      "metadata": {
        "colab": {
          "base_uri": "https://localhost:8080/",
          "height": 545
        },
        "id": "sv270PifPAY2",
        "outputId": "bfde4dd0-9c7a-4147-e7f8-39c5e7a7f201"
      },
      "execution_count": 176,
      "outputs": [
        {
          "output_type": "display_data",
          "data": {
            "text/plain": [
              "<Figure size 432x288 with 1 Axes>"
            ],
            "image/png": "[encoded data removed]"
          },
          "metadata": {
            "needs_background": "light"
          }
        },
        {
          "output_type": "display_data",
          "data": {
            "text/plain": [
              "<Figure size 432x288 with 1 Axes>"
            ],
            "image/png": "[encoded data removed]"
          },
          "metadata": {
            "needs_background": "light"
          }
        }
      ]
    },
    {
      "cell_type": "markdown",
      "metadata": {
        "id": "wTgajSeWSaKX"
      },
      "source": [
        "###**Confusion matrix and classification_report**"
      ]
    },
    {
      "cell_type": "code",
      "metadata": {
        "id": "ZMiNPDx0KVmv"
      },
      "source": [
        "from sklearn.metrics import classification_report, confusion_matrix"
      ],
      "execution_count": 177,
      "outputs": []
    },
    {
      "cell_type": "code",
      "metadata": {
        "id": "OWVZBq58MgBq",
        "outputId": "4cf27314-be98-49cd-99d7-4aecf43d8c2b",
        "colab": {
          "base_uri": "https://localhost:8080/",
          "height": 171
        }
      },
      "source": [
        "cf_matrix=confusion_matrix(y_test, y_predict.round())"
      ],
      "execution_count": 178,
      "outputs": [
        {
          "output_type": "error",
          "ename": "NameError",
          "evalue": "ignored",
          "traceback": [
            "\u001b[0;31m---------------------------------------------------------------------------\u001b[0m",
            "\u001b[0;31mNameError\u001b[0m                                 Traceback (most recent call last)",
            "\u001b[0;32m<ipython-input-178-52723ca49edc>\u001b[0m in \u001b[0;36m<module>\u001b[0;34m\u001b[0m\n\u001b[0;32m----> 1\u001b[0;31m \u001b[0mcf_matrix\u001b[0m\u001b[0;34m=\u001b[0m\u001b[0mconfusion_matrix\u001b[0m\u001b[0;34m(\u001b[0m\u001b[0my_test\u001b[0m\u001b[0;34m,\u001b[0m \u001b[0my_predict\u001b[0m\u001b[0;34m.\u001b[0m\u001b[0mround\u001b[0m\u001b[0;34m(\u001b[0m\u001b[0;34m)\u001b[0m\u001b[0;34m)\u001b[0m\u001b[0;34m\u001b[0m\u001b[0;34m\u001b[0m\u001b[0m\n\u001b[0m",
            "\u001b[0;31mNameError\u001b[0m: name 'y_predict' is not defined"
          ]
        }
      ]
    },
    {
      "cell_type": "code",
      "metadata": {
        "id": "4vDCYDrrFWvd"
      },
      "source": [
        "y_predict = modelRNN.predict(X_test)\n",
        "print(classification_report(y_test, y_predict.round()))"
      ],
      "execution_count": null,
      "outputs": []
    },
    {
      "cell_type": "code",
      "metadata": {
        "id": "qx10tjNgMmw3"
      },
      "source": [
        "import seaborn as sns\n",
        "group_names = ['True Neg','False Pos','False Neg','True Pos']\n",
        "group_counts = [\"{0:0.0f}\".format(value) for value in\n",
        "                cf_matrix.flatten()]\n",
        "group_percentages = [\"{0:.2%}\".format(value) for value in\n",
        "                     cf_matrix.flatten()/np.sum(cf_matrix)]\n",
        "labels = [f\"{v1}\\n{v2}\\n{v3}\" for v1, v2, v3 in\n",
        "          zip(group_names,group_counts,group_percentages)]\n",
        "labels = np.asarray(labels).reshape(2,2)\n",
        "sns.heatmap(cf_matrix, annot=labels, fmt='', cmap='Blues')"
      ],
      "execution_count": null,
      "outputs": []
    },
    {
      "cell_type": "code",
      "metadata": {
        "id": "sg1AwzT2Spqy"
      },
      "source": [],
      "execution_count": null,
      "outputs": []
    },
    {
      "cell_type": "markdown",
      "metadata": {
        "id": "adLT8g2-1MZh"
      },
      "source": [
        "##**Custom Tweet For Extra Test**"
      ]
    },
    {
      "cell_type": "code",
      "metadata": {
        "id": "Y79arbQCNomW"
      },
      "source": [
        "test_data=['today is a sad day','he was happy today','not a good job']"
      ],
      "execution_count": null,
      "outputs": []
    },
    {
      "cell_type": "code",
      "metadata": {
        "id": "wX7c3vx1MtBg"
      },
      "source": [
        "x_test  = np.array( tokenizer.texts_to_sequences(test_data))\n",
        "x_test = pad_sequences(x_test, maxlen=28)\n",
        "x_test"
      ],
      "execution_count": null,
      "outputs": []
    },
    {
      "cell_type": "code",
      "metadata": {
        "id": "TQMNIjy7OTgC"
      },
      "source": [
        "for i in range(0,len(test_data)):\n",
        "  print('Test sentence:-',test_data[i])\n",
        "  \n",
        "  res=modelRNN.predict(x_test)\n",
        "  if res[i]>0.3:\n",
        "    print('Sentiment type:Positive',res[i])\n",
        "  else:\n",
        "    print('Sentiment type:Negative',res[i])\n",
        "  print('==================================================\\n')"
      ],
      "execution_count": null,
      "outputs": []
    },
    {
      "cell_type": "markdown",
      "metadata": {
        "id": "ezQn9fz6Xt4_"
      },
      "source": [
        "###**Building a function to convert words into vector**"
      ]
    },
    {
      "cell_type": "code",
      "metadata": {
        "id": "xHH8Y5F2X3kI"
      },
      "source": [
        "#pre- processing custom tweets ()\n",
        "def preprocess_tweets(tweet):\n",
        "    #fo = open('/content/stopwords.txt', \"r+\")\n",
        "    #stop_words = list(fo.read().split(','))\n",
        "    #translation={39:None}\n",
        "    processed_tweet = tweet\n",
        "    processed_tweet=re.sub('\\d+', '',tweet)\n",
        "    processed_tweet=' '.join(re.sub(\"(@[A-Za-z0-9]+)|([^0-9A-Za-z \\t])|(\\w+:\\/\\/\\S+)\",\" \",processed_tweet).split())\n",
        "    processed_tweet = \" \".join(word for word in processed_tweet.split() if word not in str(STOPWORDS))\n",
        "    \n",
        "    return(processed_tweet)"
      ],
      "execution_count": null,
      "outputs": []
    },
    {
      "cell_type": "code",
      "metadata": {
        "id": "hwBChfDKYQNI"
      },
      "source": [
        "def tweet_to_vector(text):\n",
        "  print('Original tweet:-',text)\n",
        "  text=preprocess_tweets(text)\n",
        "  print('Processed tweet:- '+text)\n",
        "  text=text.split(' ')\n",
        "  tokenizer = Tokenizer(lower=False)\n",
        "  tokenizer.fit_on_texts(text)\n",
        "  text_vec = tokenizer.texts_to_sequences(text)\n",
        "  word_index = tokenizer.word_index\n",
        "  print(word_index)\n",
        "  print('==================================================')\n",
        "  embeddings_index = {}\n",
        "  f = open('/content/glove.6B.100d.txt')\n",
        "  for line in f:\n",
        "    values = line.split()\n",
        "    word = values[0]\n",
        "    coefs = np.asarray(values[1:], dtype='float32')\n",
        "    if word in word_index.keys():  \n",
        "      embeddings_index[word] = coefs\n",
        "  for notw in word_index.keys():\n",
        "    if notw not in embeddings_index.keys():\n",
        "      embeddings_index[notw] = 'unknown'\n",
        "  f.close()\n",
        "  print('Vector for each word in processed tweet')\n",
        "  print(embeddings_index)"
      ],
      "execution_count": null,
      "outputs": []
    },
    {
      "cell_type": "code",
      "metadata": {
        "id": "bfqq5eVPYWzR"
      },
      "source": [
        "custom_tweet='@meera2353 Hello this is very bad that company fired them, not a good day #job #sad #employeeprotest'\n",
        "custom_tweets= tweet_to_vector(custom_tweet)"
      ],
      "execution_count": null,
      "outputs": []
    },
    {
      "cell_type": "code",
      "metadata": {
        "id": "QrIE-smrKVij"
      },
      "source": [
        "# cont_y_test = []\n",
        "# for i in y_test:\n",
        "#   i = float(i)\n",
        "#   cont_y_test.append(i) \n",
        "\n"
      ],
      "execution_count": null,
      "outputs": []
    },
    {
      "cell_type": "code",
      "source": [],
      "metadata": {
        "id": "F_7SA6XusRQf"
      },
      "execution_count": null,
      "outputs": []
    }
  ]
}